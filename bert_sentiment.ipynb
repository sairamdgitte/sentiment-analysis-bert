{
  "cells": [
    {
      "cell_type": "code",
      "execution_count": 1,
      "metadata": {
        "colab": {
          "base_uri": "https://localhost:8080/"
        },
        "id": "BKQ88MEbeQl8",
        "outputId": "b89fd70e-db94-4b87-ad1f-d5176086230c"
      },
      "outputs": [],
      "source": [
        "# !pip install transformers\n",
        "# !pip install pandas\n",
        "# !pip install scikit-learn"
      ]
    },
    {
      "cell_type": "code",
      "execution_count": 2,
      "metadata": {},
      "outputs": [],
      "source": [
        "# !pip install seaborn\n"
      ]
    },
    {
      "cell_type": "code",
      "execution_count": 3,
      "metadata": {
        "id": "XRllVh6leGEW"
      },
      "outputs": [
        {
          "name": "stderr",
          "output_type": "stream",
          "text": [
            "c:\\Users\\Sai Ram\\Anaconda3\\envs\\udacity-cv\\lib\\site-packages\\tqdm\\auto.py:22: TqdmWarning: IProgress not found. Please update jupyter and ipywidgets. See https://ipywidgets.readthedocs.io/en/stable/user_install.html\n",
            "  from .autonotebook import tqdm as notebook_tqdm\n"
          ]
        }
      ],
      "source": [
        "# Import necessary libraries\n",
        "import numpy as np\n",
        "import pandas as pd\n",
        "import seaborn as sns\n",
        "from pylab import rcParams\n",
        "import matplotlib.pyplot as plt\n",
        "from matplotlib import rc\n",
        "from sklearn.model_selection import train_test_split\n",
        "from sklearn.metrics import confusion_matrix, classification_report\n",
        "from collections import defaultdict\n",
        "from textwrap import wrap\n",
        "\n",
        "# Torch ML libraries\n",
        "import transformers\n",
        "from transformers import BertModel, BertTokenizer, AdamW, get_linear_schedule_with_warmup\n",
        "import torch\n",
        "from torch import nn, optim\n",
        "from torch.utils.data import Dataset, DataLoader\n",
        "\n",
        "# Misc.\n",
        "import warnings\n",
        "warnings.filterwarnings('ignore')"
      ]
    },
    {
      "cell_type": "code",
      "execution_count": 4,
      "metadata": {},
      "outputs": [],
      "source": [
        "import operator\n",
        "import re\n",
        "import gc"
      ]
    },
    {
      "cell_type": "code",
      "execution_count": 5,
      "metadata": {},
      "outputs": [],
      "source": [
        "# !pip install torch\n",
        "# import torch\n",
        "# !pip3 install torch==1.8.2 torchvision==0.9.2 torchaudio===0.8.2 --extra-index-url https://download.pytorch.org/whl/lts/1.8/cu111"
      ]
    },
    {
      "cell_type": "code",
      "execution_count": 6,
      "metadata": {
        "id": "GMvqa-WBePFW"
      },
      "outputs": [
        {
          "data": {
            "text/plain": [
              "device(type='cuda')"
            ]
          },
          "execution_count": 6,
          "metadata": {},
          "output_type": "execute_result"
        }
      ],
      "source": [
        "# Set intial variables and constants\n",
        "%config InlineBackend.figure_format='retina'\n",
        "\n",
        "# Graph Designs\n",
        "sns.set(style='whitegrid', palette='muted', font_scale=1.2)\n",
        "HAPPY_COLORS_PALETTE = [\"#01BEFE\", \"#FFDD00\", \"#FF7D00\", \"#FF006D\", \"#ADFF02\", \"#8F00FF\"]\n",
        "sns.set_palette(sns.color_palette(HAPPY_COLORS_PALETTE))\n",
        "rcParams['figure.figsize'] = 12, 8\n",
        "\n",
        "# Random seed for reproducibilty\n",
        "RANDOM_SEED = 42\n",
        "np.random.seed(RANDOM_SEED)\n",
        "torch.manual_seed(RANDOM_SEED)\n",
        "\n",
        "# Set GPU\n",
        "device = torch.device(\"cuda\" if torch.cuda.is_available() else \"cpu\")\n",
        "device"
      ]
    },
    {
      "cell_type": "code",
      "execution_count": 7,
      "metadata": {},
      "outputs": [],
      "source": [
        "# torch.cuda.is_available()"
      ]
    },
    {
      "cell_type": "code",
      "execution_count": 8,
      "metadata": {
        "colab": {
          "base_uri": "https://localhost:8080/"
        },
        "id": "g0GCAOtXfFqq",
        "outputId": "75285bb2-7155-457d-86c0-bdc819d9832f"
      },
      "outputs": [],
      "source": [
        "# from google.colab import drive \n",
        "# drive.mount('/content/gdrive')"
      ]
    },
    {
      "cell_type": "code",
      "execution_count": null,
      "metadata": {
        "id": "4T2tHO_FfVF4"
      },
      "outputs": [],
      "source": []
    },
    {
      "cell_type": "code",
      "execution_count": 9,
      "metadata": {
        "id": "Qu8XxUIjeYAH"
      },
      "outputs": [],
      "source": [
        "# df = pd.read_csv('wellbeing.csv')\n",
        "df = pd.read_csv('IMDB Dataset.csv')"
      ]
    },
    {
      "cell_type": "code",
      "execution_count": 10,
      "metadata": {
        "colab": {
          "base_uri": "https://localhost:8080/",
          "height": 424
        },
        "id": "kgN5HWHleiea",
        "outputId": "348ac6e5-d1c0-422c-c0f6-0f956976c6bf"
      },
      "outputs": [
        {
          "data": {
            "text/html": [
              "<div>\n",
              "<style scoped>\n",
              "    .dataframe tbody tr th:only-of-type {\n",
              "        vertical-align: middle;\n",
              "    }\n",
              "\n",
              "    .dataframe tbody tr th {\n",
              "        vertical-align: top;\n",
              "    }\n",
              "\n",
              "    .dataframe thead th {\n",
              "        text-align: right;\n",
              "    }\n",
              "</style>\n",
              "<table border=\"1\" class=\"dataframe\">\n",
              "  <thead>\n",
              "    <tr style=\"text-align: right;\">\n",
              "      <th></th>\n",
              "      <th>review</th>\n",
              "      <th>sentiment</th>\n",
              "    </tr>\n",
              "  </thead>\n",
              "  <tbody>\n",
              "    <tr>\n",
              "      <th>0</th>\n",
              "      <td>One of the other reviewers has mentioned that ...</td>\n",
              "      <td>positive</td>\n",
              "    </tr>\n",
              "    <tr>\n",
              "      <th>1</th>\n",
              "      <td>A wonderful little production. &lt;br /&gt;&lt;br /&gt;The...</td>\n",
              "      <td>positive</td>\n",
              "    </tr>\n",
              "    <tr>\n",
              "      <th>2</th>\n",
              "      <td>I thought this was a wonderful way to spend ti...</td>\n",
              "      <td>positive</td>\n",
              "    </tr>\n",
              "    <tr>\n",
              "      <th>3</th>\n",
              "      <td>Basically there's a family where a little boy ...</td>\n",
              "      <td>negative</td>\n",
              "    </tr>\n",
              "    <tr>\n",
              "      <th>4</th>\n",
              "      <td>Petter Mattei's \"Love in the Time of Money\" is...</td>\n",
              "      <td>positive</td>\n",
              "    </tr>\n",
              "    <tr>\n",
              "      <th>...</th>\n",
              "      <td>...</td>\n",
              "      <td>...</td>\n",
              "    </tr>\n",
              "    <tr>\n",
              "      <th>49995</th>\n",
              "      <td>I thought this movie did a down right good job...</td>\n",
              "      <td>positive</td>\n",
              "    </tr>\n",
              "    <tr>\n",
              "      <th>49996</th>\n",
              "      <td>Bad plot, bad dialogue, bad acting, idiotic di...</td>\n",
              "      <td>negative</td>\n",
              "    </tr>\n",
              "    <tr>\n",
              "      <th>49997</th>\n",
              "      <td>I am a Catholic taught in parochial elementary...</td>\n",
              "      <td>negative</td>\n",
              "    </tr>\n",
              "    <tr>\n",
              "      <th>49998</th>\n",
              "      <td>I'm going to have to disagree with the previou...</td>\n",
              "      <td>negative</td>\n",
              "    </tr>\n",
              "    <tr>\n",
              "      <th>49999</th>\n",
              "      <td>No one expects the Star Trek movies to be high...</td>\n",
              "      <td>negative</td>\n",
              "    </tr>\n",
              "  </tbody>\n",
              "</table>\n",
              "<p>50000 rows × 2 columns</p>\n",
              "</div>"
            ],
            "text/plain": [
              "                                                  review sentiment\n",
              "0      One of the other reviewers has mentioned that ...  positive\n",
              "1      A wonderful little production. <br /><br />The...  positive\n",
              "2      I thought this was a wonderful way to spend ti...  positive\n",
              "3      Basically there's a family where a little boy ...  negative\n",
              "4      Petter Mattei's \"Love in the Time of Money\" is...  positive\n",
              "...                                                  ...       ...\n",
              "49995  I thought this movie did a down right good job...  positive\n",
              "49996  Bad plot, bad dialogue, bad acting, idiotic di...  negative\n",
              "49997  I am a Catholic taught in parochial elementary...  negative\n",
              "49998  I'm going to have to disagree with the previou...  negative\n",
              "49999  No one expects the Star Trek movies to be high...  negative\n",
              "\n",
              "[50000 rows x 2 columns]"
            ]
          },
          "execution_count": 10,
          "metadata": {},
          "output_type": "execute_result"
        }
      ],
      "source": [
        "df"
      ]
    },
    {
      "cell_type": "code",
      "execution_count": 11,
      "metadata": {
        "colab": {
          "base_uri": "https://localhost:8080/"
        },
        "id": "RIvZAo-genfC",
        "outputId": "35d582e8-5a30-47d8-f8cf-2db80f700440"
      },
      "outputs": [
        {
          "data": {
            "text/plain": [
              "(50000, 2)"
            ]
          },
          "execution_count": 11,
          "metadata": {},
          "output_type": "execute_result"
        }
      ],
      "source": [
        "df.shape"
      ]
    },
    {
      "cell_type": "code",
      "execution_count": 12,
      "metadata": {
        "colab": {
          "base_uri": "https://localhost:8080/"
        },
        "id": "rePYCqdUfe42",
        "outputId": "c30f14fc-fef0-4703-aaaa-48d49e2381e6"
      },
      "outputs": [
        {
          "data": {
            "text/plain": [
              "array(['positive', 'negative'], dtype=object)"
            ]
          },
          "execution_count": 12,
          "metadata": {},
          "output_type": "execute_result"
        }
      ],
      "source": [
        "df.head()\n",
        "df.sentiment.unique()"
      ]
    },
    {
      "cell_type": "code",
      "execution_count": 13,
      "metadata": {
        "id": "vknVOgNAffwg"
      },
      "outputs": [],
      "source": [
        "df['sentiment'] = df['sentiment'].replace('positive', 1)\n",
        "df['sentiment'] = df['sentiment'].replace('negative', 0)"
      ]
    },
    {
      "cell_type": "code",
      "execution_count": 14,
      "metadata": {
        "id": "aSI7HzTWfgu2"
      },
      "outputs": [],
      "source": [
        "# Data Preprocessing"
      ]
    },
    {
      "cell_type": "code",
      "execution_count": 15,
      "metadata": {
        "colab": {
          "base_uri": "https://localhost:8080/",
          "height": 113,
          "referenced_widgets": [
            "0b6227cc7bcb4afb8cf43904bba91c07",
            "cdaa4405f44842409619b59910143a1d",
            "6c244a351e854b2b9ea7ee16d1a5e748",
            "ed6cbef733c049cdbdbd0413ab9cf8ac",
            "2661dc102ddf46648db4fafb30d2f813",
            "33fe4713f1394b909a9d7ddb8bd29a16",
            "5ddc1b145e814c9b8296699c9296852d",
            "3e1b8313bc394dcfb21dc539adb9fe37",
            "c1d04657f4f94631baab4b8a155508e3",
            "9991013629614938bb044f8e3f5bbc1c",
            "b876b817c95d437482b00d20a4b6805d",
            "e9fe3da6ad0f44f996d5efcc0d5cca1a",
            "9b6d9901d6854ffe8ec4556fee8c1947",
            "d3e18b7af66c462b9f941a19acd22960",
            "412adc583a1f456dbff72f517dbbf12e",
            "49dce3daa66f48ff8e871f8cb0c3f874",
            "777d464198ae408c9dbc17b4fec80e05",
            "eff02c9f65a043c6ac94d1b0393dffc9",
            "f295dcfaadcf4ba8b55ee821e6d334e7",
            "795c85e91d2143b784f7cc0c1c7b07c8",
            "a12ad6913c6941bd8a38be6309942742",
            "dc4002cf60e744f39580d6a00d4fc9c5",
            "c376020c309042be9fb65bfa1ab0d4fa",
            "c89f1da614cd49bbb4174e8510b5c9f5",
            "70535313273242bd895f7c5f450994ef",
            "aced4ff6c5aa4340901fc7679b763207",
            "317fc631c1cc4221864862b75ee49af7",
            "5cb3d88e7b824c44a2169c6706966127",
            "0a75290dcecd44efb91028813b1c05a8",
            "c1d9ded682254dbb86b19cae8c2f58c1",
            "3a40ad61edfa42eb8c4112cb48e32513",
            "715a9ff7e5b640ae97958029aff897f6",
            "315dd406e04c47ff8f601056fde938c3"
          ]
        },
        "id": "Xye_Gmxffi88",
        "outputId": "33998aaf-2740-4292-f07d-484717de61f8"
      },
      "outputs": [],
      "source": [
        "# Set the model name\n",
        "MODEL_NAME = 'bert-base-cased'\n",
        "\n",
        "# Build a BERT based tokenizer\n",
        "tokenizer = BertTokenizer.from_pretrained(MODEL_NAME)"
      ]
    },
    {
      "cell_type": "code",
      "execution_count": 79,
      "metadata": {},
      "outputs": [
        {
          "data": {
            "text/plain": [
              "PreTrainedTokenizer(name_or_path='bert-base-cased', vocab_size=28996, model_max_len=512, is_fast=False, padding_side='right', truncation_side='right', special_tokens={'unk_token': '[UNK]', 'sep_token': '[SEP]', 'pad_token': '[PAD]', 'cls_token': '[CLS]', 'mask_token': '[MASK]'})"
            ]
          },
          "execution_count": 79,
          "metadata": {},
          "output_type": "execute_result"
        }
      ],
      "source": [
        "tokenizer"
      ]
    },
    {
      "cell_type": "code",
      "execution_count": 16,
      "metadata": {
        "colab": {
          "base_uri": "https://localhost:8080/"
        },
        "id": "ATe3pImBfj6n",
        "outputId": "f151ec63-8e2a-4042-9ddc-8c42bb3c9cbc"
      },
      "outputs": [
        {
          "name": "stdout",
          "output_type": "stream",
          "text": [
            "[SEP] 102\n",
            "[CLS] 101\n",
            "[PAD] 0\n",
            "[UNK] 100\n"
          ]
        }
      ],
      "source": [
        "# Some of the common BERT tokens\n",
        "print(tokenizer.sep_token, tokenizer.sep_token_id) # marker for ending of a sentence\n",
        "print(tokenizer.cls_token, tokenizer.cls_token_id) # start of each sentence, so BERT knows we’re doing classification\n",
        "print(tokenizer.pad_token, tokenizer.pad_token_id) # special token for padding\n",
        "print(tokenizer.unk_token, tokenizer.unk_token_id) # tokens not found in training set "
      ]
    },
    {
      "cell_type": "code",
      "execution_count": 17,
      "metadata": {
        "colab": {
          "base_uri": "https://localhost:8080/"
        },
        "id": "KL3gONG-flMq",
        "outputId": "bca88815-8ae0-4f2f-8462-43bd774bb753"
      },
      "outputs": [
        {
          "name": "stderr",
          "output_type": "stream",
          "text": [
            "Truncation was not explicitly activated but `max_length` is provided a specific value, please use `truncation=True` to explicitly truncate examples to max length. Defaulting to 'longest_first' truncation strategy. If you encode pairs of sequences (GLUE-style) with the tokenizer you can select this strategy more precisely by providing a specific strategy to `truncation`.\n"
          ]
        }
      ],
      "source": [
        "# Store length of each review \n",
        "token_lens = []\n",
        "\n",
        "# Iterate through the content slide\n",
        "for txt in df.review:\n",
        "    tokens = tokenizer.encode(txt, max_length=512)\n",
        "    token_lens.append(len(tokens))"
      ]
    },
    {
      "cell_type": "code",
      "execution_count": null,
      "metadata": {
        "id": "bFr8_RfPidZS"
      },
      "outputs": [],
      "source": []
    },
    {
      "cell_type": "code",
      "execution_count": 19,
      "metadata": {
        "colab": {
          "base_uri": "https://localhost:8080/",
          "height": 523
        },
        "id": "WJHfcb4qfme8",
        "outputId": "c8d29403-e217-4cf5-ecff-15d59b7c24d9"
      },
      "outputs": [
        {
          "data": {
            "text/plain": [
              "Text(0.5, 0, 'Token count')"
            ]
          },
          "execution_count": 19,
          "metadata": {},
          "output_type": "execute_result"
        },
        {
          "data": {
            "image/png": "[encoded data removed]",
            "text/plain": [
              "<Figure size 432x288 with 1 Axes>"
            ]
          },
          "metadata": {
            "image/png": {
              "height": 271,
              "width": 416
            },
            "needs_background": "light"
          },
          "output_type": "display_data"
        }
      ],
      "source": [
        "# plot the distribution of review lengths \n",
        "sns.distplot(token_lens)\n",
        "plt.xlim([0, 1024]);\n",
        "plt.xlabel('Token count')"
      ]
    },
    {
      "cell_type": "code",
      "execution_count": 20,
      "metadata": {
        "id": "j2fTybP-foQ6"
      },
      "outputs": [],
      "source": [
        "MAX_LEN = 512"
      ]
    },
    {
      "cell_type": "code",
      "execution_count": 21,
      "metadata": {
        "id": "p3l7FG3jfqQW"
      },
      "outputs": [],
      "source": [
        "# Torch Dataset"
      ]
    },
    {
      "cell_type": "code",
      "execution_count": 22,
      "metadata": {
        "id": "N490xEkOfrUR"
      },
      "outputs": [],
      "source": [
        "class GPReviewDataset(Dataset):\n",
        "    # Constructor Function \n",
        "    def __init__(self, reviews, targets, tokenizer, max_len):\n",
        "        self.reviews = reviews\n",
        "        self.targets = targets\n",
        "        self.tokenizer = tokenizer\n",
        "        self.max_len = max_len\n",
        "    \n",
        "    # Length magic method\n",
        "    def __len__(self):\n",
        "        return len(self.reviews)\n",
        "    \n",
        "    # get item magic method\n",
        "    def __getitem__(self, item):\n",
        "        review = str(self.reviews[item])\n",
        "        target = self.targets[item]\n",
        "        \n",
        "        # Encoded format to be returned \n",
        "        encoding = self.tokenizer.encode_plus(\n",
        "            review,\n",
        "            add_special_tokens=True,\n",
        "            max_length=self.max_len,\n",
        "            return_token_type_ids=False,\n",
        "            pad_to_max_length=True,\n",
        "            return_attention_mask=True,\n",
        "            return_tensors='pt',\n",
        "        )\n",
        "        \n",
        "        return {\n",
        "            'review_text': review,\n",
        "            'input_ids': encoding['input_ids'].flatten(),\n",
        "            'attention_mask': encoding['attention_mask'].flatten(),\n",
        "            'targets': torch.tensor(target, dtype=torch.long)\n",
        "        }"
      ]
    },
    {
      "cell_type": "code",
      "execution_count": 23,
      "metadata": {
        "colab": {
          "base_uri": "https://localhost:8080/"
        },
        "id": "Mvyl2lqXfsxV",
        "outputId": "1df6e1bf-2ddd-4879-a6aa-2d0afca173f9"
      },
      "outputs": [
        {
          "name": "stdout",
          "output_type": "stream",
          "text": [
            "(40000, 2) (5000, 2) (5000, 2)\n"
          ]
        }
      ],
      "source": [
        "df_train, df_test = train_test_split(df, test_size=0.2, random_state=RANDOM_SEED)\n",
        "df_val, df_test = train_test_split(df_test, test_size=0.5, random_state=RANDOM_SEED)\n",
        "\n",
        "print(df_train.shape, df_val.shape, df_test.shape)"
      ]
    },
    {
      "cell_type": "code",
      "execution_count": 24,
      "metadata": {
        "id": "N0BX8qjsj3zF"
      },
      "outputs": [],
      "source": [
        "glove_embeddings= np.load('../glove.840B.300d.pkl/glove.840B.300d.pkl',\n",
        "                          allow_pickle=True)"
      ]
    },
    {
      "cell_type": "code",
      "execution_count": 25,
      "metadata": {},
      "outputs": [],
      "source": [
        "def vocab_build(review):\n",
        "    \n",
        "    comments = review.apply(lambda s: s.split()).values\n",
        "    vocab={}\n",
        "    \n",
        "    for comment in comments:\n",
        "        for word in comment:\n",
        "            try:\n",
        "                vocab[word]+=1\n",
        "                \n",
        "            except KeyError:\n",
        "                vocab[word]=1\n",
        "    return vocab"
      ]
    },
    {
      "cell_type": "code",
      "execution_count": 26,
      "metadata": {},
      "outputs": [],
      "source": [
        "def embedding_coverage(review,embeddings):\n",
        "    \n",
        "    vocab=vocab_build(review)\n",
        "    \n",
        "    covered={}\n",
        "    word_count={}\n",
        "    oov={}\n",
        "    covered_num=0\n",
        "    oov_num=0\n",
        "    \n",
        "    for word in vocab:\n",
        "        try:\n",
        "            covered[word]=embeddings[word]\n",
        "            covered_num+=vocab[word]\n",
        "            word_count[word]=vocab[word]\n",
        "        except:\n",
        "            oov[word]=vocab[word]\n",
        "            oov_num+=oov[word]\n",
        "    \n",
        "    vocab_coverage=len(covered)/len(vocab)*100\n",
        "    text_coverage = covered_num/(covered_num+oov_num)*100\n",
        "    \n",
        "    sorted_oov=sorted(oov.items(), key=operator.itemgetter(1))[::-1]\n",
        "    sorted_word_count=sorted(word_count.items(), key=operator.itemgetter(1))[::-1]\n",
        "    \n",
        "    return sorted_word_count,sorted_oov,vocab_coverage,text_coverage"
      ]
    },
    {
      "cell_type": "code",
      "execution_count": null,
      "metadata": {},
      "outputs": [],
      "source": []
    },
    {
      "cell_type": "code",
      "execution_count": 27,
      "metadata": {},
      "outputs": [
        {
          "name": "stdout",
          "output_type": "stream",
          "text": [
            "Glove embeddings cover 27.56% of vocabulary and 87.64% text in training set\n",
            "Glove embeddings cover 42.12% of vocabulary and 87.56% text in testing set\n"
          ]
        }
      ],
      "source": [
        "train_covered,train_oov,train_vocab_coverage,train_text_coverage=embedding_coverage(df_train['review'],glove_embeddings)\n",
        "test_covered,test_oov, test_vocab_coverage, test_text_coverage = embedding_coverage(df_test['review'],glove_embeddings)\n",
        "\n",
        "print(f\"Glove embeddings cover {round(train_vocab_coverage,2)}% of vocabulary and {round(train_text_coverage,2)}% text in training set\")\n",
        "print(f\"Glove embeddings cover {round(test_vocab_coverage,2)}% of vocabulary and {round(test_text_coverage,2)}% text in testing set\")"
      ]
    },
    {
      "cell_type": "code",
      "execution_count": 28,
      "metadata": {},
      "outputs": [
        {
          "data": {
            "text/plain": [
              "[('/><br', 80952),\n",
              " ('/>The', 11484),\n",
              " ('film,', 6509),\n",
              " ('movie,', 6344),\n",
              " ('/>I', 5897),\n",
              " (\"isn't\", 4657),\n",
              " ('\"The', 3913),\n",
              " ('/>This', 3492),\n",
              " (\"he's\", 3445),\n",
              " (\"wasn't\", 3362)]"
            ]
          },
          "execution_count": 28,
          "metadata": {},
          "output_type": "execute_result"
        }
      ],
      "source": [
        "train_oov[:10]"
      ]
    },
    {
      "cell_type": "code",
      "execution_count": 29,
      "metadata": {},
      "outputs": [],
      "source": [
        "def clean_sentences(line):\n",
        "    \n",
        "    line=re.sub('<.*?>','',line) # removing html tags\n",
        "    \n",
        "    #removing contractions\n",
        "    line=re.sub(\"isn't\",'is not',line)\n",
        "    line=re.sub(\"he's\",'he is',line)\n",
        "    line=re.sub(\"wasn't\",'was not',line)\n",
        "    line=re.sub(\"there's\",'there is',line)\n",
        "    line=re.sub(\"couldn't\",'could not',line)\n",
        "    line=re.sub(\"won't\",'will not',line)\n",
        "    line=re.sub(\"they're\",'they are',line)\n",
        "    line=re.sub(\"she's\",'she is',line)\n",
        "    line=re.sub(\"There's\",'there is',line)\n",
        "    line=re.sub(\"wouldn't\",'would not',line)\n",
        "    line=re.sub(\"haven't\",'have not',line)\n",
        "    line=re.sub(\"That's\",'That is',line)\n",
        "    line=re.sub(\"you've\",'you have',line)\n",
        "    line=re.sub(\"He's\",'He is',line)\n",
        "    line=re.sub(\"what's\",'what is',line)\n",
        "    line=re.sub(\"weren't\",'were not',line)\n",
        "    line=re.sub(\"we're\",'we are',line)\n",
        "    line=re.sub(\"hasn't\",'has not',line)\n",
        "    line=re.sub(\"you'd\",'you would',line)\n",
        "    line=re.sub(\"shouldn't\",'should not',line)\n",
        "    line=re.sub(\"let's\",'let us',line)\n",
        "    line=re.sub(\"they've\",'they have',line)\n",
        "    line=re.sub(\"You'll\",'You will',line)\n",
        "    line=re.sub(\"i'm\",'i am',line)\n",
        "    line=re.sub(\"we've\",'we have',line)\n",
        "    line=re.sub(\"it's\",'it is',line)\n",
        "    line=re.sub(\"don't\",'do not',line)\n",
        "    line=re.sub(\"that´s\",'that is',line)\n",
        "    line=re.sub(\"I´m\",'I am',line)\n",
        "    line=re.sub(\"it’s\",'it is',line)\n",
        "    line=re.sub(\"she´s\",'she is',line)\n",
        "    line=re.sub(\"he’s'\",'he is',line)\n",
        "    line=re.sub('I’m','I am',line)\n",
        "    line=re.sub('I’d','I did',line)\n",
        "    line=re.sub(\"he’s'\",'he is',line)\n",
        "    line=re.sub('there’s','there is',line)\n",
        "    \n",
        "    #special characters and emojis\n",
        "    line=re.sub('\\x91The','The',line)\n",
        "    line=re.sub('\\x97','',line)\n",
        "    line=re.sub('\\x84The','The',line)\n",
        "    line=re.sub('\\uf0b7','',line)\n",
        "    line=re.sub('¡¨','',line)\n",
        "    line=re.sub('\\x95','',line)\n",
        "    line=re.sub('\\x8ei\\x9eek','',line)\n",
        "    line=re.sub('\\xad','',line)\n",
        "    line=re.sub('\\x84bubble','bubble',line)\n",
        "    \n",
        "    # # remove concated words\n",
        "    # line=re.sub('trivialBoring','trivial Boring',line)\n",
        "    # line=re.sub('Justforkix','Just for kix',line)\n",
        "    # line=re.sub('Nightbeast','Night beast',line)\n",
        "    # line=re.sub('DEATHTRAP','Death Trap',line)\n",
        "    # line=re.sub('CitizenX','Citizen X',line)\n",
        "    # line=re.sub('10Rated','10 Rated',line)\n",
        "    # line=re.sub('_The','_ The',line)\n",
        "    # line=re.sub('1Sound','1 Sound',line)\n",
        "    # line=re.sub('blahblahblahblahblahblahblahblahblahblahblahblahblahblahblahblahblahblah','blah blah',line)\n",
        "    # line=re.sub('ResidentHazard','Resident Hazard',line)\n",
        "    # line=re.sub('iameracing','i am racing',line)\n",
        "    # line=re.sub('BLACKSNAKE','Black Snake',line)\n",
        "    # line=re.sub('DEATHSTALKER','Death Stalker',line)\n",
        "    # line=re.sub('_is_','is',line)\n",
        "    # line=re.sub('10Fans','10 Fans',line)\n",
        "    # line=re.sub('Yellowcoat','Yellow coat',line)\n",
        "    # line=re.sub('Spiderbabe','Spider babe',line)\n",
        "    # line=re.sub('Frightworld','Fright world',line)\n",
        "    \n",
        "    #removing punctuations\n",
        "    \n",
        "    punctuations = '@#!~?+&*[]-%._-:/£();$=><|{}^' + '''\"“´”'`'''\n",
        "    for p in punctuations:\n",
        "        line = line.replace(p, f' {p} ')\n",
        "        \n",
        "    line=re.sub(',',' , ',line)\n",
        "        \n",
        "    # ... and ..\n",
        "    line = line.replace('...', ' ... ')\n",
        "    \n",
        "    if '...' not in line:\n",
        "        line = line.replace('..', ' ... ')\n",
        "        \n",
        "    return line"
      ]
    },
    {
      "cell_type": "code",
      "execution_count": 30,
      "metadata": {},
      "outputs": [
        {
          "name": "stdout",
          "output_type": "stream",
          "text": [
            "Glove embeddings cover 87.52% of vocabulary and 99.82% text in training set\n",
            "Glove embeddings cover 95.73% of vocabulary and 99.83% text in training set\n"
          ]
        }
      ],
      "source": [
        "df_train['review']=df_train['review'].apply(lambda s: clean_sentences(s))\n",
        "df_test['review']=df_test['review'].apply(lambda s: clean_sentences(s))\n",
        "\n",
        "train_covered,train_oov,train_vocab_coverage,train_text_coverage=embedding_coverage(df_train['review'],glove_embeddings)\n",
        "print(f\"Glove embeddings cover {round(train_vocab_coverage,2)}% of vocabulary and {round(train_text_coverage,2)}% text in training set\")\n",
        "\n",
        "test_covered,test_oov,test_vocab_coverage,test_text_coverage=embedding_coverage(df_test['review'],glove_embeddings)\n",
        "print(f\"Glove embeddings cover {round(test_vocab_coverage,2)}% of vocabulary and {round(test_text_coverage,2)}% text in training set\")"
      ]
    },
    {
      "cell_type": "code",
      "execution_count": 86,
      "metadata": {},
      "outputs": [
        {
          "data": {
            "text/html": [
              "<div>\n",
              "<style scoped>\n",
              "    .dataframe tbody tr th:only-of-type {\n",
              "        vertical-align: middle;\n",
              "    }\n",
              "\n",
              "    .dataframe tbody tr th {\n",
              "        vertical-align: top;\n",
              "    }\n",
              "\n",
              "    .dataframe thead th {\n",
              "        text-align: right;\n",
              "    }\n",
              "</style>\n",
              "<table border=\"1\" class=\"dataframe\">\n",
              "  <thead>\n",
              "    <tr style=\"text-align: right;\">\n",
              "      <th></th>\n",
              "      <th>review</th>\n",
              "      <th>sentiment</th>\n",
              "    </tr>\n",
              "  </thead>\n",
              "  <tbody>\n",
              "    <tr>\n",
              "      <th>39087</th>\n",
              "      <td>That is what I kept asking myself during the m...</td>\n",
              "      <td>0</td>\n",
              "    </tr>\n",
              "    <tr>\n",
              "      <th>30893</th>\n",
              "      <td>I did not watch the entire movie .  I could no...</td>\n",
              "      <td>0</td>\n",
              "    </tr>\n",
              "    <tr>\n",
              "      <th>45278</th>\n",
              "      <td>A touching love story reminiscent of In the M...</td>\n",
              "      <td>1</td>\n",
              "    </tr>\n",
              "    <tr>\n",
              "      <th>16398</th>\n",
              "      <td>This latter  -  day Fulci schlocker is a total...</td>\n",
              "      <td>0</td>\n",
              "    </tr>\n",
              "    <tr>\n",
              "      <th>13653</th>\n",
              "      <td>First of all ,  I firmly believe that Norwegia...</td>\n",
              "      <td>0</td>\n",
              "    </tr>\n",
              "    <tr>\n",
              "      <th>...</th>\n",
              "      <td>...</td>\n",
              "      <td>...</td>\n",
              "    </tr>\n",
              "    <tr>\n",
              "      <th>11284</th>\n",
              "      <td>` Shadow Magic '  recaptures the joy and amaz...</td>\n",
              "      <td>1</td>\n",
              "    </tr>\n",
              "    <tr>\n",
              "      <th>44732</th>\n",
              "      <td>I found this movie to be quite enjoyable and f...</td>\n",
              "      <td>1</td>\n",
              "    </tr>\n",
              "    <tr>\n",
              "      <th>38158</th>\n",
              "      <td>Avoid this one !  It is a terrible movie .  So...</td>\n",
              "      <td>0</td>\n",
              "    </tr>\n",
              "    <tr>\n",
              "      <th>860</th>\n",
              "      <td>This production was quite a surprise for me . ...</td>\n",
              "      <td>1</td>\n",
              "    </tr>\n",
              "    <tr>\n",
              "      <th>15795</th>\n",
              "      <td>This is a decent movie .  Although little bit ...</td>\n",
              "      <td>1</td>\n",
              "    </tr>\n",
              "  </tbody>\n",
              "</table>\n",
              "<p>40000 rows × 2 columns</p>\n",
              "</div>"
            ],
            "text/plain": [
              "                                                  review  sentiment\n",
              "39087  That is what I kept asking myself during the m...          0\n",
              "30893  I did not watch the entire movie .  I could no...          0\n",
              "45278  A touching love story reminiscent of In the M...          1\n",
              "16398  This latter  -  day Fulci schlocker is a total...          0\n",
              "13653  First of all ,  I firmly believe that Norwegia...          0\n",
              "...                                                  ...        ...\n",
              "11284   ` Shadow Magic '  recaptures the joy and amaz...          1\n",
              "44732  I found this movie to be quite enjoyable and f...          1\n",
              "38158  Avoid this one !  It is a terrible movie .  So...          0\n",
              "860    This production was quite a surprise for me . ...          1\n",
              "15795  This is a decent movie .  Although little bit ...          1\n",
              "\n",
              "[40000 rows x 2 columns]"
            ]
          },
          "execution_count": 86,
          "metadata": {},
          "output_type": "execute_result"
        }
      ],
      "source": [
        "df_train"
      ]
    },
    {
      "cell_type": "code",
      "execution_count": 31,
      "metadata": {},
      "outputs": [
        {
          "data": {
            "text/plain": [
              "0"
            ]
          },
          "execution_count": 31,
          "metadata": {},
          "output_type": "execute_result"
        }
      ],
      "source": [
        "del glove_embeddings,train_oov,test_oov\n",
        "gc.collect()"
      ]
    },
    {
      "cell_type": "code",
      "execution_count": 32,
      "metadata": {
        "id": "DTDjGuDofvJ-"
      },
      "outputs": [],
      "source": [
        "def create_data_loader(df, tokenizer, max_len, batch_size):\n",
        "    ds = GPReviewDataset(\n",
        "        reviews=df.review.to_numpy(),\n",
        "        targets=df.sentiment.to_numpy(),\n",
        "        tokenizer=tokenizer,\n",
        "        max_len=max_len\n",
        "    )\n",
        "    \n",
        "    return DataLoader(\n",
        "        ds,\n",
        "        batch_size=batch_size,\n",
        "        num_workers=0\n",
        "    )"
      ]
    },
    {
      "cell_type": "code",
      "execution_count": 33,
      "metadata": {
        "id": "Bb3GfaP8fweP"
      },
      "outputs": [],
      "source": [
        "# Create train, test and val data loaders\n",
        "BATCH_SIZE = 16\n",
        "train_data_loader = create_data_loader(df_train, tokenizer, MAX_LEN, BATCH_SIZE)\n",
        "val_data_loader = create_data_loader(df_val, tokenizer, MAX_LEN, BATCH_SIZE)\n",
        "test_data_loader = create_data_loader(df_test, tokenizer, MAX_LEN, BATCH_SIZE)"
      ]
    },
    {
      "cell_type": "code",
      "execution_count": 34,
      "metadata": {},
      "outputs": [
        {
          "data": {
            "text/plain": [
              "0"
            ]
          },
          "execution_count": 34,
          "metadata": {},
          "output_type": "execute_result"
        }
      ],
      "source": [
        "torch.cuda.empty_cache()\n",
        "gc.collect()"
      ]
    },
    {
      "cell_type": "code",
      "execution_count": 35,
      "metadata": {
        "colab": {
          "base_uri": "https://localhost:8080/"
        },
        "id": "7tGBGRfxfxnS",
        "outputId": "db45d77c-5946-4d88-eadd-c6d3fcf2ff0f"
      },
      "outputs": [
        {
          "name": "stdout",
          "output_type": "stream",
          "text": [
            "dict_keys(['review_text', 'input_ids', 'attention_mask', 'targets'])\n",
            "torch.Size([16, 512])\n",
            "torch.Size([16, 512])\n",
            "torch.Size([16])\n"
          ]
        }
      ],
      "source": [
        "# Examples \n",
        "data = next(iter(train_data_loader))\n",
        "print(data.keys())\n",
        "\n",
        "print(data['input_ids'].shape)\n",
        "print(data['attention_mask'].shape)\n",
        "print(data['targets'].shape)"
      ]
    },
    {
      "cell_type": "code",
      "execution_count": 36,
      "metadata": {
        "colab": {
          "base_uri": "https://localhost:8080/",
          "height": 121,
          "referenced_widgets": [
            "13e54af6cebc4c5da1bfd7a7befaecb1",
            "d4406e5dfd83455799bc47cff0847a67",
            "da31ce10c1994f7fa85ad4caed90ce2b",
            "2743d50dba6b4c6d89cee181e32e33a0",
            "34dd3695a2214f53af8ae003ca0ed65a",
            "08d5d876716a407397fd22d47a5ad1b8",
            "fc95e6f371b44fc99ec8fcce662b4e18",
            "b57a907562bb4d4a983e3abddc2011cd",
            "3b7e88fd25dd4e7b8c96e8b462e7264f",
            "3eb4b42e747f4708b7c503bed7055cb8",
            "d10ec30ba07b4ef3b3b2b1352808485b"
          ]
        },
        "id": "ZPD-l8uvgoSR",
        "outputId": "a0d3f5e0-68d1-4a36-bc6a-0f40e0960574"
      },
      "outputs": [
        {
          "name": "stderr",
          "output_type": "stream",
          "text": [
            "Some weights of the model checkpoint at bert-base-cased were not used when initializing BertModel: ['cls.seq_relationship.bias', 'cls.predictions.transform.dense.weight', 'cls.predictions.transform.LayerNorm.weight', 'cls.seq_relationship.weight', 'cls.predictions.decoder.weight', 'cls.predictions.transform.LayerNorm.bias', 'cls.predictions.transform.dense.bias', 'cls.predictions.bias']\n",
            "- This IS expected if you are initializing BertModel from the checkpoint of a model trained on another task or with another architecture (e.g. initializing a BertForSequenceClassification model from a BertForPreTraining model).\n",
            "- This IS NOT expected if you are initializing BertModel from the checkpoint of a model that you expect to be exactly identical (initializing a BertForSequenceClassification model from a BertForSequenceClassification model).\n"
          ]
        }
      ],
      "source": [
        "# Load the basic BERT model \n",
        "bert_model = BertModel.from_pretrained(MODEL_NAME)"
      ]
    },
    {
      "cell_type": "code",
      "execution_count": null,
      "metadata": {},
      "outputs": [],
      "source": []
    },
    {
      "cell_type": "code",
      "execution_count": 37,
      "metadata": {
        "id": "B4q9YIxkguVq"
      },
      "outputs": [],
      "source": [
        "# Build the Sentiment Classifier class \n",
        "class SentimentClassifier(nn.Module):\n",
        "    \n",
        "    # Constructor class \n",
        "    def __init__(self, n_classes):\n",
        "        super(SentimentClassifier, self).__init__()\n",
        "        self.bert = BertModel.from_pretrained(MODEL_NAME)\n",
        "        self.drop = nn.Dropout(p=0.3)\n",
        "        self.out = nn.Linear(self.bert.config.hidden_size, n_classes)\n",
        "    \n",
        "    # Forward propagaion class\n",
        "    def forward(self, input_ids, attention_mask):\n",
        "        _, pooled_output = self.bert(\n",
        "          input_ids=input_ids,\n",
        "          attention_mask=attention_mask,\n",
        "          return_dict=False\n",
        "        )\n",
        "        #  Add a dropout layer \n",
        "        output = self.drop(pooled_output)\n",
        "        return self.out(output)"
      ]
    },
    {
      "cell_type": "code",
      "execution_count": null,
      "metadata": {},
      "outputs": [],
      "source": []
    },
    {
      "cell_type": "code",
      "execution_count": 38,
      "metadata": {
        "id": "fktp1Uiig_dk"
      },
      "outputs": [],
      "source": [
        "class_names = ['negative', 'positive']"
      ]
    },
    {
      "cell_type": "code",
      "execution_count": 39,
      "metadata": {},
      "outputs": [
        {
          "data": {
            "text/plain": [
              "218"
            ]
          },
          "execution_count": 39,
          "metadata": {},
          "output_type": "execute_result"
        }
      ],
      "source": [
        "torch.cuda.empty_cache()\n",
        "gc.collect()"
      ]
    },
    {
      "cell_type": "code",
      "execution_count": 40,
      "metadata": {
        "colab": {
          "base_uri": "https://localhost:8080/"
        },
        "id": "8EyTxB4Lg0cR",
        "outputId": "538bf0b9-87ae-4f2d-c5b9-fbc871d1e56a"
      },
      "outputs": [
        {
          "name": "stderr",
          "output_type": "stream",
          "text": [
            "Some weights of the model checkpoint at bert-base-cased were not used when initializing BertModel: ['cls.seq_relationship.bias', 'cls.predictions.transform.dense.weight', 'cls.predictions.transform.LayerNorm.weight', 'cls.seq_relationship.weight', 'cls.predictions.decoder.weight', 'cls.predictions.transform.LayerNorm.bias', 'cls.predictions.transform.dense.bias', 'cls.predictions.bias']\n",
            "- This IS expected if you are initializing BertModel from the checkpoint of a model trained on another task or with another architecture (e.g. initializing a BertForSequenceClassification model from a BertForPreTraining model).\n",
            "- This IS NOT expected if you are initializing BertModel from the checkpoint of a model that you expect to be exactly identical (initializing a BertForSequenceClassification model from a BertForSequenceClassification model).\n"
          ]
        }
      ],
      "source": [
        "# Instantiate the model and move to classifier\n",
        "model = SentimentClassifier(len(class_names))\n",
        "model = model.to(device)"
      ]
    },
    {
      "cell_type": "code",
      "execution_count": 41,
      "metadata": {
        "colab": {
          "base_uri": "https://localhost:8080/"
        },
        "id": "tcXdcNVgg2Lv",
        "outputId": "3bfc0f6e-ef2c-4387-b504-4edef4577a8e"
      },
      "outputs": [
        {
          "name": "stdout",
          "output_type": "stream",
          "text": [
            "768\n"
          ]
        }
      ],
      "source": [
        "# Number of hidden units\n",
        "print(bert_model.config.hidden_size)"
      ]
    },
    {
      "cell_type": "code",
      "execution_count": null,
      "metadata": {
        "id": "QjsyqvqLscE_"
      },
      "outputs": [],
      "source": []
    },
    {
      "cell_type": "code",
      "execution_count": 42,
      "metadata": {
        "id": "oU6dEVCAh2nz"
      },
      "outputs": [],
      "source": [
        "# Training"
      ]
    },
    {
      "cell_type": "code",
      "execution_count": null,
      "metadata": {
        "id": "s3YOVle0sasZ"
      },
      "outputs": [],
      "source": []
    },
    {
      "cell_type": "code",
      "execution_count": 43,
      "metadata": {
        "id": "bPGsS8myh4mf"
      },
      "outputs": [],
      "source": [
        "# Number of iterations \n",
        "EPOCHS = 10\n",
        "\n",
        "# Optimizer Adam \n",
        "optimizer = AdamW(model.parameters(), lr=2e-5, correct_bias=False)\n",
        "\n",
        "total_steps = len(train_data_loader) * EPOCHS\n",
        "\n",
        "scheduler = get_linear_schedule_with_warmup(\n",
        "    optimizer,\n",
        "    num_warmup_steps=0,\n",
        "    num_training_steps=total_steps\n",
        ")\n",
        "\n",
        "# Set the loss function \n",
        "loss_fn = nn.CrossEntropyLoss().to(device)"
      ]
    },
    {
      "cell_type": "code",
      "execution_count": 44,
      "metadata": {
        "id": "UljR3Ciyh7AS"
      },
      "outputs": [],
      "source": [
        "# Function for a single training iteration\n",
        "def train_epoch(model, data_loader, loss_fn, optimizer, device, scheduler, n_examples):\n",
        "    model = model.train()\n",
        "    losses = []\n",
        "    correct_predictions = 0\n",
        "    \n",
        "    for d in data_loader:\n",
        "        input_ids = d[\"input_ids\"].to(device)\n",
        "        attention_mask = d[\"attention_mask\"].to(device)\n",
        "        targets = d[\"targets\"].to(device)\n",
        "        \n",
        "        outputs = model(\n",
        "            input_ids=input_ids,\n",
        "            attention_mask=attention_mask\n",
        "        )\n",
        "        \n",
        "        _, preds = torch.max(outputs, dim=1)\n",
        "        loss = loss_fn(outputs, targets)\n",
        "        correct_predictions += torch.sum(preds == targets)\n",
        "        losses.append(loss.item())\n",
        "        \n",
        "        # Backward prop\n",
        "        loss.backward()\n",
        "        \n",
        "        # Gradient Descent\n",
        "        nn.utils.clip_grad_norm_(model.parameters(), max_norm=1.0)\n",
        "        optimizer.step()\n",
        "        scheduler.step()\n",
        "        optimizer.zero_grad()\n",
        "        torch.cuda.empty_cache()\n",
        "        gc.collect()\n",
        "    \n",
        "    return correct_predictions.double() / n_examples, np.mean(losses)"
      ]
    },
    {
      "cell_type": "code",
      "execution_count": 45,
      "metadata": {
        "id": "H6qSv-uMiBGU"
      },
      "outputs": [],
      "source": [
        "def eval_model(model, data_loader, loss_fn, device, n_examples):\n",
        "    model = model.eval()\n",
        "    \n",
        "    losses = []\n",
        "    correct_predictions = 0\n",
        "    \n",
        "    with torch.no_grad():\n",
        "        for d in data_loader:\n",
        "            input_ids = d[\"input_ids\"].to(device)\n",
        "            attention_mask = d[\"attention_mask\"].to(device)\n",
        "            targets = d[\"targets\"].to(device)\n",
        "            \n",
        "            # Get model ouptuts\n",
        "            outputs = model(\n",
        "                input_ids=input_ids,\n",
        "                attention_mask=attention_mask\n",
        "            )\n",
        "            \n",
        "            _, preds = torch.max(outputs, dim=1)\n",
        "            loss = loss_fn(outputs, targets)\n",
        "            \n",
        "            correct_predictions += torch.sum(preds == targets)\n",
        "            losses.append(loss.item())\n",
        "            torch.cuda.empty_cache()\n",
        "            gc.collect()\n",
        "            \n",
        "    return correct_predictions.double() / n_examples, np.mean(losses)"
      ]
    },
    {
      "cell_type": "code",
      "execution_count": 49,
      "metadata": {},
      "outputs": [
        {
          "data": {
            "text/plain": [
              "1441"
            ]
          },
          "execution_count": 49,
          "metadata": {},
          "output_type": "execute_result"
        }
      ],
      "source": [
        "torch.cuda.empty_cache()\n",
        "gc.collect()\n",
        "# torch.utils.checkpoint\n",
        "# del variable"
      ]
    },
    {
      "cell_type": "code",
      "execution_count": 47,
      "metadata": {
        "colab": {
          "base_uri": "https://localhost:8080/"
        },
        "id": "f84x461QiDOw",
        "outputId": "7617b44a-8119-4519-bd8c-c4b832a2dff6"
      },
      "outputs": [
        {
          "name": "stdout",
          "output_type": "stream",
          "text": [
            "Epoch 1/10\n",
            "----------\n"
          ]
        },
        {
          "ename": "RuntimeError",
          "evalue": "CUDA out of memory. Tried to allocate 96.00 MiB (GPU 0; 6.00 GiB total capacity; 5.20 GiB already allocated; 0 bytes free; 5.26 GiB reserved in total by PyTorch)",
          "output_type": "error",
          "traceback": [
            "\u001b[1;31m---------------------------------------------------------------------------\u001b[0m",
            "\u001b[1;31mRuntimeError\u001b[0m                              Traceback (most recent call last)",
            "File \u001b[1;32m<timed exec>:11\u001b[0m, in \u001b[0;36m<module>\u001b[1;34m\u001b[0m\n",
            "\u001b[1;32mc:\\Users\\Sai Ram\\OneDrive\\RMIT\\Wellbeing\\Imdb-comments\\IMDB Dataset.csv\\bert_sentiment.ipynb Cell 50'\u001b[0m in \u001b[0;36mtrain_epoch\u001b[1;34m(model, data_loader, loss_fn, optimizer, device, scheduler, n_examples)\u001b[0m\n\u001b[0;32m      <a href='vscode-notebook-cell:/c%3A/Users/Sai%20Ram/OneDrive/RMIT/Wellbeing/Imdb-comments/IMDB%20Dataset.csv/bert_sentiment.ipynb#ch0000049?line=8'>9</a>\u001b[0m attention_mask \u001b[39m=\u001b[39m d[\u001b[39m\"\u001b[39m\u001b[39mattention_mask\u001b[39m\u001b[39m\"\u001b[39m]\u001b[39m.\u001b[39mto(device)\n\u001b[0;32m     <a href='vscode-notebook-cell:/c%3A/Users/Sai%20Ram/OneDrive/RMIT/Wellbeing/Imdb-comments/IMDB%20Dataset.csv/bert_sentiment.ipynb#ch0000049?line=9'>10</a>\u001b[0m targets \u001b[39m=\u001b[39m d[\u001b[39m\"\u001b[39m\u001b[39mtargets\u001b[39m\u001b[39m\"\u001b[39m]\u001b[39m.\u001b[39mto(device)\n\u001b[1;32m---> <a href='vscode-notebook-cell:/c%3A/Users/Sai%20Ram/OneDrive/RMIT/Wellbeing/Imdb-comments/IMDB%20Dataset.csv/bert_sentiment.ipynb#ch0000049?line=11'>12</a>\u001b[0m outputs \u001b[39m=\u001b[39m model(\n\u001b[0;32m     <a href='vscode-notebook-cell:/c%3A/Users/Sai%20Ram/OneDrive/RMIT/Wellbeing/Imdb-comments/IMDB%20Dataset.csv/bert_sentiment.ipynb#ch0000049?line=12'>13</a>\u001b[0m     input_ids\u001b[39m=\u001b[39;49minput_ids,\n\u001b[0;32m     <a href='vscode-notebook-cell:/c%3A/Users/Sai%20Ram/OneDrive/RMIT/Wellbeing/Imdb-comments/IMDB%20Dataset.csv/bert_sentiment.ipynb#ch0000049?line=13'>14</a>\u001b[0m     attention_mask\u001b[39m=\u001b[39;49mattention_mask\n\u001b[0;32m     <a href='vscode-notebook-cell:/c%3A/Users/Sai%20Ram/OneDrive/RMIT/Wellbeing/Imdb-comments/IMDB%20Dataset.csv/bert_sentiment.ipynb#ch0000049?line=14'>15</a>\u001b[0m )\n\u001b[0;32m     <a href='vscode-notebook-cell:/c%3A/Users/Sai%20Ram/OneDrive/RMIT/Wellbeing/Imdb-comments/IMDB%20Dataset.csv/bert_sentiment.ipynb#ch0000049?line=16'>17</a>\u001b[0m _, preds \u001b[39m=\u001b[39m torch\u001b[39m.\u001b[39mmax(outputs, dim\u001b[39m=\u001b[39m\u001b[39m1\u001b[39m)\n\u001b[0;32m     <a href='vscode-notebook-cell:/c%3A/Users/Sai%20Ram/OneDrive/RMIT/Wellbeing/Imdb-comments/IMDB%20Dataset.csv/bert_sentiment.ipynb#ch0000049?line=17'>18</a>\u001b[0m loss \u001b[39m=\u001b[39m loss_fn(outputs, targets)\n",
            "File \u001b[1;32mc:\\Users\\Sai Ram\\Anaconda3\\envs\\udacity-cv\\lib\\site-packages\\torch\\nn\\modules\\module.py:889\u001b[0m, in \u001b[0;36mModule._call_impl\u001b[1;34m(self, *input, **kwargs)\u001b[0m\n\u001b[0;32m    <a href='file:///c%3A/Users/Sai%20Ram/Anaconda3/envs/udacity-cv/lib/site-packages/torch/nn/modules/module.py?line=886'>887</a>\u001b[0m     result \u001b[39m=\u001b[39m \u001b[39mself\u001b[39m\u001b[39m.\u001b[39m_slow_forward(\u001b[39m*\u001b[39m\u001b[39minput\u001b[39m, \u001b[39m*\u001b[39m\u001b[39m*\u001b[39mkwargs)\n\u001b[0;32m    <a href='file:///c%3A/Users/Sai%20Ram/Anaconda3/envs/udacity-cv/lib/site-packages/torch/nn/modules/module.py?line=887'>888</a>\u001b[0m \u001b[39melse\u001b[39;00m:\n\u001b[1;32m--> <a href='file:///c%3A/Users/Sai%20Ram/Anaconda3/envs/udacity-cv/lib/site-packages/torch/nn/modules/module.py?line=888'>889</a>\u001b[0m     result \u001b[39m=\u001b[39m \u001b[39mself\u001b[39;49m\u001b[39m.\u001b[39;49mforward(\u001b[39m*\u001b[39;49m\u001b[39minput\u001b[39;49m, \u001b[39m*\u001b[39;49m\u001b[39m*\u001b[39;49mkwargs)\n\u001b[0;32m    <a href='file:///c%3A/Users/Sai%20Ram/Anaconda3/envs/udacity-cv/lib/site-packages/torch/nn/modules/module.py?line=889'>890</a>\u001b[0m \u001b[39mfor\u001b[39;00m hook \u001b[39min\u001b[39;00m itertools\u001b[39m.\u001b[39mchain(\n\u001b[0;32m    <a href='file:///c%3A/Users/Sai%20Ram/Anaconda3/envs/udacity-cv/lib/site-packages/torch/nn/modules/module.py?line=890'>891</a>\u001b[0m         _global_forward_hooks\u001b[39m.\u001b[39mvalues(),\n\u001b[0;32m    <a href='file:///c%3A/Users/Sai%20Ram/Anaconda3/envs/udacity-cv/lib/site-packages/torch/nn/modules/module.py?line=891'>892</a>\u001b[0m         \u001b[39mself\u001b[39m\u001b[39m.\u001b[39m_forward_hooks\u001b[39m.\u001b[39mvalues()):\n\u001b[0;32m    <a href='file:///c%3A/Users/Sai%20Ram/Anaconda3/envs/udacity-cv/lib/site-packages/torch/nn/modules/module.py?line=892'>893</a>\u001b[0m     hook_result \u001b[39m=\u001b[39m hook(\u001b[39mself\u001b[39m, \u001b[39minput\u001b[39m, result)\n",
            "\u001b[1;32mc:\\Users\\Sai Ram\\OneDrive\\RMIT\\Wellbeing\\Imdb-comments\\IMDB Dataset.csv\\bert_sentiment.ipynb Cell 40'\u001b[0m in \u001b[0;36mSentimentClassifier.forward\u001b[1;34m(self, input_ids, attention_mask)\u001b[0m\n\u001b[0;32m     <a href='vscode-notebook-cell:/c%3A/Users/Sai%20Ram/OneDrive/RMIT/Wellbeing/Imdb-comments/IMDB%20Dataset.csv/bert_sentiment.ipynb#ch0000039?line=11'>12</a>\u001b[0m \u001b[39mdef\u001b[39;00m \u001b[39mforward\u001b[39m(\u001b[39mself\u001b[39m, input_ids, attention_mask):\n\u001b[1;32m---> <a href='vscode-notebook-cell:/c%3A/Users/Sai%20Ram/OneDrive/RMIT/Wellbeing/Imdb-comments/IMDB%20Dataset.csv/bert_sentiment.ipynb#ch0000039?line=12'>13</a>\u001b[0m     _, pooled_output \u001b[39m=\u001b[39m \u001b[39mself\u001b[39;49m\u001b[39m.\u001b[39;49mbert(\n\u001b[0;32m     <a href='vscode-notebook-cell:/c%3A/Users/Sai%20Ram/OneDrive/RMIT/Wellbeing/Imdb-comments/IMDB%20Dataset.csv/bert_sentiment.ipynb#ch0000039?line=13'>14</a>\u001b[0m       input_ids\u001b[39m=\u001b[39;49minput_ids,\n\u001b[0;32m     <a href='vscode-notebook-cell:/c%3A/Users/Sai%20Ram/OneDrive/RMIT/Wellbeing/Imdb-comments/IMDB%20Dataset.csv/bert_sentiment.ipynb#ch0000039?line=14'>15</a>\u001b[0m       attention_mask\u001b[39m=\u001b[39;49mattention_mask,\n\u001b[0;32m     <a href='vscode-notebook-cell:/c%3A/Users/Sai%20Ram/OneDrive/RMIT/Wellbeing/Imdb-comments/IMDB%20Dataset.csv/bert_sentiment.ipynb#ch0000039?line=15'>16</a>\u001b[0m       return_dict\u001b[39m=\u001b[39;49m\u001b[39mFalse\u001b[39;49;00m\n\u001b[0;32m     <a href='vscode-notebook-cell:/c%3A/Users/Sai%20Ram/OneDrive/RMIT/Wellbeing/Imdb-comments/IMDB%20Dataset.csv/bert_sentiment.ipynb#ch0000039?line=16'>17</a>\u001b[0m     )\n\u001b[0;32m     <a href='vscode-notebook-cell:/c%3A/Users/Sai%20Ram/OneDrive/RMIT/Wellbeing/Imdb-comments/IMDB%20Dataset.csv/bert_sentiment.ipynb#ch0000039?line=17'>18</a>\u001b[0m     \u001b[39m#  Add a dropout layer \u001b[39;00m\n\u001b[0;32m     <a href='vscode-notebook-cell:/c%3A/Users/Sai%20Ram/OneDrive/RMIT/Wellbeing/Imdb-comments/IMDB%20Dataset.csv/bert_sentiment.ipynb#ch0000039?line=18'>19</a>\u001b[0m     output \u001b[39m=\u001b[39m \u001b[39mself\u001b[39m\u001b[39m.\u001b[39mdrop(pooled_output)\n",
            "File \u001b[1;32mc:\\Users\\Sai Ram\\Anaconda3\\envs\\udacity-cv\\lib\\site-packages\\torch\\nn\\modules\\module.py:889\u001b[0m, in \u001b[0;36mModule._call_impl\u001b[1;34m(self, *input, **kwargs)\u001b[0m\n\u001b[0;32m    <a href='file:///c%3A/Users/Sai%20Ram/Anaconda3/envs/udacity-cv/lib/site-packages/torch/nn/modules/module.py?line=886'>887</a>\u001b[0m     result \u001b[39m=\u001b[39m \u001b[39mself\u001b[39m\u001b[39m.\u001b[39m_slow_forward(\u001b[39m*\u001b[39m\u001b[39minput\u001b[39m, \u001b[39m*\u001b[39m\u001b[39m*\u001b[39mkwargs)\n\u001b[0;32m    <a href='file:///c%3A/Users/Sai%20Ram/Anaconda3/envs/udacity-cv/lib/site-packages/torch/nn/modules/module.py?line=887'>888</a>\u001b[0m \u001b[39melse\u001b[39;00m:\n\u001b[1;32m--> <a href='file:///c%3A/Users/Sai%20Ram/Anaconda3/envs/udacity-cv/lib/site-packages/torch/nn/modules/module.py?line=888'>889</a>\u001b[0m     result \u001b[39m=\u001b[39m \u001b[39mself\u001b[39;49m\u001b[39m.\u001b[39;49mforward(\u001b[39m*\u001b[39;49m\u001b[39minput\u001b[39;49m, \u001b[39m*\u001b[39;49m\u001b[39m*\u001b[39;49mkwargs)\n\u001b[0;32m    <a href='file:///c%3A/Users/Sai%20Ram/Anaconda3/envs/udacity-cv/lib/site-packages/torch/nn/modules/module.py?line=889'>890</a>\u001b[0m \u001b[39mfor\u001b[39;00m hook \u001b[39min\u001b[39;00m itertools\u001b[39m.\u001b[39mchain(\n\u001b[0;32m    <a href='file:///c%3A/Users/Sai%20Ram/Anaconda3/envs/udacity-cv/lib/site-packages/torch/nn/modules/module.py?line=890'>891</a>\u001b[0m         _global_forward_hooks\u001b[39m.\u001b[39mvalues(),\n\u001b[0;32m    <a href='file:///c%3A/Users/Sai%20Ram/Anaconda3/envs/udacity-cv/lib/site-packages/torch/nn/modules/module.py?line=891'>892</a>\u001b[0m         \u001b[39mself\u001b[39m\u001b[39m.\u001b[39m_forward_hooks\u001b[39m.\u001b[39mvalues()):\n\u001b[0;32m    <a href='file:///c%3A/Users/Sai%20Ram/Anaconda3/envs/udacity-cv/lib/site-packages/torch/nn/modules/module.py?line=892'>893</a>\u001b[0m     hook_result \u001b[39m=\u001b[39m hook(\u001b[39mself\u001b[39m, \u001b[39minput\u001b[39m, result)\n",
            "File \u001b[1;32mc:\\Users\\Sai Ram\\Anaconda3\\envs\\udacity-cv\\lib\\site-packages\\transformers\\models\\bert\\modeling_bert.py:1017\u001b[0m, in \u001b[0;36mBertModel.forward\u001b[1;34m(self, input_ids, attention_mask, token_type_ids, position_ids, head_mask, inputs_embeds, encoder_hidden_states, encoder_attention_mask, past_key_values, use_cache, output_attentions, output_hidden_states, return_dict)\u001b[0m\n\u001b[0;32m   <a href='file:///c%3A/Users/Sai%20Ram/Anaconda3/envs/udacity-cv/lib/site-packages/transformers/models/bert/modeling_bert.py?line=1007'>1008</a>\u001b[0m head_mask \u001b[39m=\u001b[39m \u001b[39mself\u001b[39m\u001b[39m.\u001b[39mget_head_mask(head_mask, \u001b[39mself\u001b[39m\u001b[39m.\u001b[39mconfig\u001b[39m.\u001b[39mnum_hidden_layers)\n\u001b[0;32m   <a href='file:///c%3A/Users/Sai%20Ram/Anaconda3/envs/udacity-cv/lib/site-packages/transformers/models/bert/modeling_bert.py?line=1009'>1010</a>\u001b[0m embedding_output \u001b[39m=\u001b[39m \u001b[39mself\u001b[39m\u001b[39m.\u001b[39membeddings(\n\u001b[0;32m   <a href='file:///c%3A/Users/Sai%20Ram/Anaconda3/envs/udacity-cv/lib/site-packages/transformers/models/bert/modeling_bert.py?line=1010'>1011</a>\u001b[0m     input_ids\u001b[39m=\u001b[39minput_ids,\n\u001b[0;32m   <a href='file:///c%3A/Users/Sai%20Ram/Anaconda3/envs/udacity-cv/lib/site-packages/transformers/models/bert/modeling_bert.py?line=1011'>1012</a>\u001b[0m     position_ids\u001b[39m=\u001b[39mposition_ids,\n\u001b[1;32m   (...)\u001b[0m\n\u001b[0;32m   <a href='file:///c%3A/Users/Sai%20Ram/Anaconda3/envs/udacity-cv/lib/site-packages/transformers/models/bert/modeling_bert.py?line=1014'>1015</a>\u001b[0m     past_key_values_length\u001b[39m=\u001b[39mpast_key_values_length,\n\u001b[0;32m   <a href='file:///c%3A/Users/Sai%20Ram/Anaconda3/envs/udacity-cv/lib/site-packages/transformers/models/bert/modeling_bert.py?line=1015'>1016</a>\u001b[0m )\n\u001b[1;32m-> <a href='file:///c%3A/Users/Sai%20Ram/Anaconda3/envs/udacity-cv/lib/site-packages/transformers/models/bert/modeling_bert.py?line=1016'>1017</a>\u001b[0m encoder_outputs \u001b[39m=\u001b[39m \u001b[39mself\u001b[39;49m\u001b[39m.\u001b[39;49mencoder(\n\u001b[0;32m   <a href='file:///c%3A/Users/Sai%20Ram/Anaconda3/envs/udacity-cv/lib/site-packages/transformers/models/bert/modeling_bert.py?line=1017'>1018</a>\u001b[0m     embedding_output,\n\u001b[0;32m   <a href='file:///c%3A/Users/Sai%20Ram/Anaconda3/envs/udacity-cv/lib/site-packages/transformers/models/bert/modeling_bert.py?line=1018'>1019</a>\u001b[0m     attention_mask\u001b[39m=\u001b[39;49mextended_attention_mask,\n\u001b[0;32m   <a href='file:///c%3A/Users/Sai%20Ram/Anaconda3/envs/udacity-cv/lib/site-packages/transformers/models/bert/modeling_bert.py?line=1019'>1020</a>\u001b[0m     head_mask\u001b[39m=\u001b[39;49mhead_mask,\n\u001b[0;32m   <a href='file:///c%3A/Users/Sai%20Ram/Anaconda3/envs/udacity-cv/lib/site-packages/transformers/models/bert/modeling_bert.py?line=1020'>1021</a>\u001b[0m     encoder_hidden_states\u001b[39m=\u001b[39;49mencoder_hidden_states,\n\u001b[0;32m   <a href='file:///c%3A/Users/Sai%20Ram/Anaconda3/envs/udacity-cv/lib/site-packages/transformers/models/bert/modeling_bert.py?line=1021'>1022</a>\u001b[0m     encoder_attention_mask\u001b[39m=\u001b[39;49mencoder_extended_attention_mask,\n\u001b[0;32m   <a href='file:///c%3A/Users/Sai%20Ram/Anaconda3/envs/udacity-cv/lib/site-packages/transformers/models/bert/modeling_bert.py?line=1022'>1023</a>\u001b[0m     past_key_values\u001b[39m=\u001b[39;49mpast_key_values,\n\u001b[0;32m   <a href='file:///c%3A/Users/Sai%20Ram/Anaconda3/envs/udacity-cv/lib/site-packages/transformers/models/bert/modeling_bert.py?line=1023'>1024</a>\u001b[0m     use_cache\u001b[39m=\u001b[39;49muse_cache,\n\u001b[0;32m   <a href='file:///c%3A/Users/Sai%20Ram/Anaconda3/envs/udacity-cv/lib/site-packages/transformers/models/bert/modeling_bert.py?line=1024'>1025</a>\u001b[0m     output_attentions\u001b[39m=\u001b[39;49moutput_attentions,\n\u001b[0;32m   <a href='file:///c%3A/Users/Sai%20Ram/Anaconda3/envs/udacity-cv/lib/site-packages/transformers/models/bert/modeling_bert.py?line=1025'>1026</a>\u001b[0m     output_hidden_states\u001b[39m=\u001b[39;49moutput_hidden_states,\n\u001b[0;32m   <a href='file:///c%3A/Users/Sai%20Ram/Anaconda3/envs/udacity-cv/lib/site-packages/transformers/models/bert/modeling_bert.py?line=1026'>1027</a>\u001b[0m     return_dict\u001b[39m=\u001b[39;49mreturn_dict,\n\u001b[0;32m   <a href='file:///c%3A/Users/Sai%20Ram/Anaconda3/envs/udacity-cv/lib/site-packages/transformers/models/bert/modeling_bert.py?line=1027'>1028</a>\u001b[0m )\n\u001b[0;32m   <a href='file:///c%3A/Users/Sai%20Ram/Anaconda3/envs/udacity-cv/lib/site-packages/transformers/models/bert/modeling_bert.py?line=1028'>1029</a>\u001b[0m sequence_output \u001b[39m=\u001b[39m encoder_outputs[\u001b[39m0\u001b[39m]\n\u001b[0;32m   <a href='file:///c%3A/Users/Sai%20Ram/Anaconda3/envs/udacity-cv/lib/site-packages/transformers/models/bert/modeling_bert.py?line=1029'>1030</a>\u001b[0m pooled_output \u001b[39m=\u001b[39m \u001b[39mself\u001b[39m\u001b[39m.\u001b[39mpooler(sequence_output) \u001b[39mif\u001b[39;00m \u001b[39mself\u001b[39m\u001b[39m.\u001b[39mpooler \u001b[39mis\u001b[39;00m \u001b[39mnot\u001b[39;00m \u001b[39mNone\u001b[39;00m \u001b[39melse\u001b[39;00m \u001b[39mNone\u001b[39;00m\n",
            "File \u001b[1;32mc:\\Users\\Sai Ram\\Anaconda3\\envs\\udacity-cv\\lib\\site-packages\\torch\\nn\\modules\\module.py:889\u001b[0m, in \u001b[0;36mModule._call_impl\u001b[1;34m(self, *input, **kwargs)\u001b[0m\n\u001b[0;32m    <a href='file:///c%3A/Users/Sai%20Ram/Anaconda3/envs/udacity-cv/lib/site-packages/torch/nn/modules/module.py?line=886'>887</a>\u001b[0m     result \u001b[39m=\u001b[39m \u001b[39mself\u001b[39m\u001b[39m.\u001b[39m_slow_forward(\u001b[39m*\u001b[39m\u001b[39minput\u001b[39m, \u001b[39m*\u001b[39m\u001b[39m*\u001b[39mkwargs)\n\u001b[0;32m    <a href='file:///c%3A/Users/Sai%20Ram/Anaconda3/envs/udacity-cv/lib/site-packages/torch/nn/modules/module.py?line=887'>888</a>\u001b[0m \u001b[39melse\u001b[39;00m:\n\u001b[1;32m--> <a href='file:///c%3A/Users/Sai%20Ram/Anaconda3/envs/udacity-cv/lib/site-packages/torch/nn/modules/module.py?line=888'>889</a>\u001b[0m     result \u001b[39m=\u001b[39m \u001b[39mself\u001b[39;49m\u001b[39m.\u001b[39;49mforward(\u001b[39m*\u001b[39;49m\u001b[39minput\u001b[39;49m, \u001b[39m*\u001b[39;49m\u001b[39m*\u001b[39;49mkwargs)\n\u001b[0;32m    <a href='file:///c%3A/Users/Sai%20Ram/Anaconda3/envs/udacity-cv/lib/site-packages/torch/nn/modules/module.py?line=889'>890</a>\u001b[0m \u001b[39mfor\u001b[39;00m hook \u001b[39min\u001b[39;00m itertools\u001b[39m.\u001b[39mchain(\n\u001b[0;32m    <a href='file:///c%3A/Users/Sai%20Ram/Anaconda3/envs/udacity-cv/lib/site-packages/torch/nn/modules/module.py?line=890'>891</a>\u001b[0m         _global_forward_hooks\u001b[39m.\u001b[39mvalues(),\n\u001b[0;32m    <a href='file:///c%3A/Users/Sai%20Ram/Anaconda3/envs/udacity-cv/lib/site-packages/torch/nn/modules/module.py?line=891'>892</a>\u001b[0m         \u001b[39mself\u001b[39m\u001b[39m.\u001b[39m_forward_hooks\u001b[39m.\u001b[39mvalues()):\n\u001b[0;32m    <a href='file:///c%3A/Users/Sai%20Ram/Anaconda3/envs/udacity-cv/lib/site-packages/torch/nn/modules/module.py?line=892'>893</a>\u001b[0m     hook_result \u001b[39m=\u001b[39m hook(\u001b[39mself\u001b[39m, \u001b[39minput\u001b[39m, result)\n",
            "File \u001b[1;32mc:\\Users\\Sai Ram\\Anaconda3\\envs\\udacity-cv\\lib\\site-packages\\transformers\\models\\bert\\modeling_bert.py:606\u001b[0m, in \u001b[0;36mBertEncoder.forward\u001b[1;34m(self, hidden_states, attention_mask, head_mask, encoder_hidden_states, encoder_attention_mask, past_key_values, use_cache, output_attentions, output_hidden_states, return_dict)\u001b[0m\n\u001b[0;32m    <a href='file:///c%3A/Users/Sai%20Ram/Anaconda3/envs/udacity-cv/lib/site-packages/transformers/models/bert/modeling_bert.py?line=596'>597</a>\u001b[0m     layer_outputs \u001b[39m=\u001b[39m torch\u001b[39m.\u001b[39mutils\u001b[39m.\u001b[39mcheckpoint\u001b[39m.\u001b[39mcheckpoint(\n\u001b[0;32m    <a href='file:///c%3A/Users/Sai%20Ram/Anaconda3/envs/udacity-cv/lib/site-packages/transformers/models/bert/modeling_bert.py?line=597'>598</a>\u001b[0m         create_custom_forward(layer_module),\n\u001b[0;32m    <a href='file:///c%3A/Users/Sai%20Ram/Anaconda3/envs/udacity-cv/lib/site-packages/transformers/models/bert/modeling_bert.py?line=598'>599</a>\u001b[0m         hidden_states,\n\u001b[1;32m   (...)\u001b[0m\n\u001b[0;32m    <a href='file:///c%3A/Users/Sai%20Ram/Anaconda3/envs/udacity-cv/lib/site-packages/transformers/models/bert/modeling_bert.py?line=602'>603</a>\u001b[0m         encoder_attention_mask,\n\u001b[0;32m    <a href='file:///c%3A/Users/Sai%20Ram/Anaconda3/envs/udacity-cv/lib/site-packages/transformers/models/bert/modeling_bert.py?line=603'>604</a>\u001b[0m     )\n\u001b[0;32m    <a href='file:///c%3A/Users/Sai%20Ram/Anaconda3/envs/udacity-cv/lib/site-packages/transformers/models/bert/modeling_bert.py?line=604'>605</a>\u001b[0m \u001b[39melse\u001b[39;00m:\n\u001b[1;32m--> <a href='file:///c%3A/Users/Sai%20Ram/Anaconda3/envs/udacity-cv/lib/site-packages/transformers/models/bert/modeling_bert.py?line=605'>606</a>\u001b[0m     layer_outputs \u001b[39m=\u001b[39m layer_module(\n\u001b[0;32m    <a href='file:///c%3A/Users/Sai%20Ram/Anaconda3/envs/udacity-cv/lib/site-packages/transformers/models/bert/modeling_bert.py?line=606'>607</a>\u001b[0m         hidden_states,\n\u001b[0;32m    <a href='file:///c%3A/Users/Sai%20Ram/Anaconda3/envs/udacity-cv/lib/site-packages/transformers/models/bert/modeling_bert.py?line=607'>608</a>\u001b[0m         attention_mask,\n\u001b[0;32m    <a href='file:///c%3A/Users/Sai%20Ram/Anaconda3/envs/udacity-cv/lib/site-packages/transformers/models/bert/modeling_bert.py?line=608'>609</a>\u001b[0m         layer_head_mask,\n\u001b[0;32m    <a href='file:///c%3A/Users/Sai%20Ram/Anaconda3/envs/udacity-cv/lib/site-packages/transformers/models/bert/modeling_bert.py?line=609'>610</a>\u001b[0m         encoder_hidden_states,\n\u001b[0;32m    <a href='file:///c%3A/Users/Sai%20Ram/Anaconda3/envs/udacity-cv/lib/site-packages/transformers/models/bert/modeling_bert.py?line=610'>611</a>\u001b[0m         encoder_attention_mask,\n\u001b[0;32m    <a href='file:///c%3A/Users/Sai%20Ram/Anaconda3/envs/udacity-cv/lib/site-packages/transformers/models/bert/modeling_bert.py?line=611'>612</a>\u001b[0m         past_key_value,\n\u001b[0;32m    <a href='file:///c%3A/Users/Sai%20Ram/Anaconda3/envs/udacity-cv/lib/site-packages/transformers/models/bert/modeling_bert.py?line=612'>613</a>\u001b[0m         output_attentions,\n\u001b[0;32m    <a href='file:///c%3A/Users/Sai%20Ram/Anaconda3/envs/udacity-cv/lib/site-packages/transformers/models/bert/modeling_bert.py?line=613'>614</a>\u001b[0m     )\n\u001b[0;32m    <a href='file:///c%3A/Users/Sai%20Ram/Anaconda3/envs/udacity-cv/lib/site-packages/transformers/models/bert/modeling_bert.py?line=615'>616</a>\u001b[0m hidden_states \u001b[39m=\u001b[39m layer_outputs[\u001b[39m0\u001b[39m]\n\u001b[0;32m    <a href='file:///c%3A/Users/Sai%20Ram/Anaconda3/envs/udacity-cv/lib/site-packages/transformers/models/bert/modeling_bert.py?line=616'>617</a>\u001b[0m \u001b[39mif\u001b[39;00m use_cache:\n",
            "File \u001b[1;32mc:\\Users\\Sai Ram\\Anaconda3\\envs\\udacity-cv\\lib\\site-packages\\torch\\nn\\modules\\module.py:889\u001b[0m, in \u001b[0;36mModule._call_impl\u001b[1;34m(self, *input, **kwargs)\u001b[0m\n\u001b[0;32m    <a href='file:///c%3A/Users/Sai%20Ram/Anaconda3/envs/udacity-cv/lib/site-packages/torch/nn/modules/module.py?line=886'>887</a>\u001b[0m     result \u001b[39m=\u001b[39m \u001b[39mself\u001b[39m\u001b[39m.\u001b[39m_slow_forward(\u001b[39m*\u001b[39m\u001b[39minput\u001b[39m, \u001b[39m*\u001b[39m\u001b[39m*\u001b[39mkwargs)\n\u001b[0;32m    <a href='file:///c%3A/Users/Sai%20Ram/Anaconda3/envs/udacity-cv/lib/site-packages/torch/nn/modules/module.py?line=887'>888</a>\u001b[0m \u001b[39melse\u001b[39;00m:\n\u001b[1;32m--> <a href='file:///c%3A/Users/Sai%20Ram/Anaconda3/envs/udacity-cv/lib/site-packages/torch/nn/modules/module.py?line=888'>889</a>\u001b[0m     result \u001b[39m=\u001b[39m \u001b[39mself\u001b[39;49m\u001b[39m.\u001b[39;49mforward(\u001b[39m*\u001b[39;49m\u001b[39minput\u001b[39;49m, \u001b[39m*\u001b[39;49m\u001b[39m*\u001b[39;49mkwargs)\n\u001b[0;32m    <a href='file:///c%3A/Users/Sai%20Ram/Anaconda3/envs/udacity-cv/lib/site-packages/torch/nn/modules/module.py?line=889'>890</a>\u001b[0m \u001b[39mfor\u001b[39;00m hook \u001b[39min\u001b[39;00m itertools\u001b[39m.\u001b[39mchain(\n\u001b[0;32m    <a href='file:///c%3A/Users/Sai%20Ram/Anaconda3/envs/udacity-cv/lib/site-packages/torch/nn/modules/module.py?line=890'>891</a>\u001b[0m         _global_forward_hooks\u001b[39m.\u001b[39mvalues(),\n\u001b[0;32m    <a href='file:///c%3A/Users/Sai%20Ram/Anaconda3/envs/udacity-cv/lib/site-packages/torch/nn/modules/module.py?line=891'>892</a>\u001b[0m         \u001b[39mself\u001b[39m\u001b[39m.\u001b[39m_forward_hooks\u001b[39m.\u001b[39mvalues()):\n\u001b[0;32m    <a href='file:///c%3A/Users/Sai%20Ram/Anaconda3/envs/udacity-cv/lib/site-packages/torch/nn/modules/module.py?line=892'>893</a>\u001b[0m     hook_result \u001b[39m=\u001b[39m hook(\u001b[39mself\u001b[39m, \u001b[39minput\u001b[39m, result)\n",
            "File \u001b[1;32mc:\\Users\\Sai Ram\\Anaconda3\\envs\\udacity-cv\\lib\\site-packages\\transformers\\models\\bert\\modeling_bert.py:534\u001b[0m, in \u001b[0;36mBertLayer.forward\u001b[1;34m(self, hidden_states, attention_mask, head_mask, encoder_hidden_states, encoder_attention_mask, past_key_value, output_attentions)\u001b[0m\n\u001b[0;32m    <a href='file:///c%3A/Users/Sai%20Ram/Anaconda3/envs/udacity-cv/lib/site-packages/transformers/models/bert/modeling_bert.py?line=530'>531</a>\u001b[0m     cross_attn_present_key_value \u001b[39m=\u001b[39m cross_attention_outputs[\u001b[39m-\u001b[39m\u001b[39m1\u001b[39m]\n\u001b[0;32m    <a href='file:///c%3A/Users/Sai%20Ram/Anaconda3/envs/udacity-cv/lib/site-packages/transformers/models/bert/modeling_bert.py?line=531'>532</a>\u001b[0m     present_key_value \u001b[39m=\u001b[39m present_key_value \u001b[39m+\u001b[39m cross_attn_present_key_value\n\u001b[1;32m--> <a href='file:///c%3A/Users/Sai%20Ram/Anaconda3/envs/udacity-cv/lib/site-packages/transformers/models/bert/modeling_bert.py?line=533'>534</a>\u001b[0m layer_output \u001b[39m=\u001b[39m apply_chunking_to_forward(\n\u001b[0;32m    <a href='file:///c%3A/Users/Sai%20Ram/Anaconda3/envs/udacity-cv/lib/site-packages/transformers/models/bert/modeling_bert.py?line=534'>535</a>\u001b[0m     \u001b[39mself\u001b[39;49m\u001b[39m.\u001b[39;49mfeed_forward_chunk, \u001b[39mself\u001b[39;49m\u001b[39m.\u001b[39;49mchunk_size_feed_forward, \u001b[39mself\u001b[39;49m\u001b[39m.\u001b[39;49mseq_len_dim, attention_output\n\u001b[0;32m    <a href='file:///c%3A/Users/Sai%20Ram/Anaconda3/envs/udacity-cv/lib/site-packages/transformers/models/bert/modeling_bert.py?line=535'>536</a>\u001b[0m )\n\u001b[0;32m    <a href='file:///c%3A/Users/Sai%20Ram/Anaconda3/envs/udacity-cv/lib/site-packages/transformers/models/bert/modeling_bert.py?line=536'>537</a>\u001b[0m outputs \u001b[39m=\u001b[39m (layer_output,) \u001b[39m+\u001b[39m outputs\n\u001b[0;32m    <a href='file:///c%3A/Users/Sai%20Ram/Anaconda3/envs/udacity-cv/lib/site-packages/transformers/models/bert/modeling_bert.py?line=538'>539</a>\u001b[0m \u001b[39m# if decoder, return the attn key/values as the last output\u001b[39;00m\n",
            "File \u001b[1;32mc:\\Users\\Sai Ram\\Anaconda3\\envs\\udacity-cv\\lib\\site-packages\\transformers\\pytorch_utils.py:241\u001b[0m, in \u001b[0;36mapply_chunking_to_forward\u001b[1;34m(forward_fn, chunk_size, chunk_dim, *input_tensors)\u001b[0m\n\u001b[0;32m    <a href='file:///c%3A/Users/Sai%20Ram/Anaconda3/envs/udacity-cv/lib/site-packages/transformers/pytorch_utils.py?line=237'>238</a>\u001b[0m     \u001b[39m# concatenate output at same dimension\u001b[39;00m\n\u001b[0;32m    <a href='file:///c%3A/Users/Sai%20Ram/Anaconda3/envs/udacity-cv/lib/site-packages/transformers/pytorch_utils.py?line=238'>239</a>\u001b[0m     \u001b[39mreturn\u001b[39;00m torch\u001b[39m.\u001b[39mcat(output_chunks, dim\u001b[39m=\u001b[39mchunk_dim)\n\u001b[1;32m--> <a href='file:///c%3A/Users/Sai%20Ram/Anaconda3/envs/udacity-cv/lib/site-packages/transformers/pytorch_utils.py?line=240'>241</a>\u001b[0m \u001b[39mreturn\u001b[39;00m forward_fn(\u001b[39m*\u001b[39;49minput_tensors)\n",
            "File \u001b[1;32mc:\\Users\\Sai Ram\\Anaconda3\\envs\\udacity-cv\\lib\\site-packages\\transformers\\models\\bert\\modeling_bert.py:546\u001b[0m, in \u001b[0;36mBertLayer.feed_forward_chunk\u001b[1;34m(self, attention_output)\u001b[0m\n\u001b[0;32m    <a href='file:///c%3A/Users/Sai%20Ram/Anaconda3/envs/udacity-cv/lib/site-packages/transformers/models/bert/modeling_bert.py?line=544'>545</a>\u001b[0m \u001b[39mdef\u001b[39;00m \u001b[39mfeed_forward_chunk\u001b[39m(\u001b[39mself\u001b[39m, attention_output):\n\u001b[1;32m--> <a href='file:///c%3A/Users/Sai%20Ram/Anaconda3/envs/udacity-cv/lib/site-packages/transformers/models/bert/modeling_bert.py?line=545'>546</a>\u001b[0m     intermediate_output \u001b[39m=\u001b[39m \u001b[39mself\u001b[39;49m\u001b[39m.\u001b[39;49mintermediate(attention_output)\n\u001b[0;32m    <a href='file:///c%3A/Users/Sai%20Ram/Anaconda3/envs/udacity-cv/lib/site-packages/transformers/models/bert/modeling_bert.py?line=546'>547</a>\u001b[0m     layer_output \u001b[39m=\u001b[39m \u001b[39mself\u001b[39m\u001b[39m.\u001b[39moutput(intermediate_output, attention_output)\n\u001b[0;32m    <a href='file:///c%3A/Users/Sai%20Ram/Anaconda3/envs/udacity-cv/lib/site-packages/transformers/models/bert/modeling_bert.py?line=547'>548</a>\u001b[0m     \u001b[39mreturn\u001b[39;00m layer_output\n",
            "File \u001b[1;32mc:\\Users\\Sai Ram\\Anaconda3\\envs\\udacity-cv\\lib\\site-packages\\torch\\nn\\modules\\module.py:889\u001b[0m, in \u001b[0;36mModule._call_impl\u001b[1;34m(self, *input, **kwargs)\u001b[0m\n\u001b[0;32m    <a href='file:///c%3A/Users/Sai%20Ram/Anaconda3/envs/udacity-cv/lib/site-packages/torch/nn/modules/module.py?line=886'>887</a>\u001b[0m     result \u001b[39m=\u001b[39m \u001b[39mself\u001b[39m\u001b[39m.\u001b[39m_slow_forward(\u001b[39m*\u001b[39m\u001b[39minput\u001b[39m, \u001b[39m*\u001b[39m\u001b[39m*\u001b[39mkwargs)\n\u001b[0;32m    <a href='file:///c%3A/Users/Sai%20Ram/Anaconda3/envs/udacity-cv/lib/site-packages/torch/nn/modules/module.py?line=887'>888</a>\u001b[0m \u001b[39melse\u001b[39;00m:\n\u001b[1;32m--> <a href='file:///c%3A/Users/Sai%20Ram/Anaconda3/envs/udacity-cv/lib/site-packages/torch/nn/modules/module.py?line=888'>889</a>\u001b[0m     result \u001b[39m=\u001b[39m \u001b[39mself\u001b[39;49m\u001b[39m.\u001b[39;49mforward(\u001b[39m*\u001b[39;49m\u001b[39minput\u001b[39;49m, \u001b[39m*\u001b[39;49m\u001b[39m*\u001b[39;49mkwargs)\n\u001b[0;32m    <a href='file:///c%3A/Users/Sai%20Ram/Anaconda3/envs/udacity-cv/lib/site-packages/torch/nn/modules/module.py?line=889'>890</a>\u001b[0m \u001b[39mfor\u001b[39;00m hook \u001b[39min\u001b[39;00m itertools\u001b[39m.\u001b[39mchain(\n\u001b[0;32m    <a href='file:///c%3A/Users/Sai%20Ram/Anaconda3/envs/udacity-cv/lib/site-packages/torch/nn/modules/module.py?line=890'>891</a>\u001b[0m         _global_forward_hooks\u001b[39m.\u001b[39mvalues(),\n\u001b[0;32m    <a href='file:///c%3A/Users/Sai%20Ram/Anaconda3/envs/udacity-cv/lib/site-packages/torch/nn/modules/module.py?line=891'>892</a>\u001b[0m         \u001b[39mself\u001b[39m\u001b[39m.\u001b[39m_forward_hooks\u001b[39m.\u001b[39mvalues()):\n\u001b[0;32m    <a href='file:///c%3A/Users/Sai%20Ram/Anaconda3/envs/udacity-cv/lib/site-packages/torch/nn/modules/module.py?line=892'>893</a>\u001b[0m     hook_result \u001b[39m=\u001b[39m hook(\u001b[39mself\u001b[39m, \u001b[39minput\u001b[39m, result)\n",
            "File \u001b[1;32mc:\\Users\\Sai Ram\\Anaconda3\\envs\\udacity-cv\\lib\\site-packages\\transformers\\models\\bert\\modeling_bert.py:447\u001b[0m, in \u001b[0;36mBertIntermediate.forward\u001b[1;34m(self, hidden_states)\u001b[0m\n\u001b[0;32m    <a href='file:///c%3A/Users/Sai%20Ram/Anaconda3/envs/udacity-cv/lib/site-packages/transformers/models/bert/modeling_bert.py?line=445'>446</a>\u001b[0m \u001b[39mdef\u001b[39;00m \u001b[39mforward\u001b[39m(\u001b[39mself\u001b[39m, hidden_states: torch\u001b[39m.\u001b[39mTensor) \u001b[39m-\u001b[39m\u001b[39m>\u001b[39m torch\u001b[39m.\u001b[39mTensor:\n\u001b[1;32m--> <a href='file:///c%3A/Users/Sai%20Ram/Anaconda3/envs/udacity-cv/lib/site-packages/transformers/models/bert/modeling_bert.py?line=446'>447</a>\u001b[0m     hidden_states \u001b[39m=\u001b[39m \u001b[39mself\u001b[39;49m\u001b[39m.\u001b[39;49mdense(hidden_states)\n\u001b[0;32m    <a href='file:///c%3A/Users/Sai%20Ram/Anaconda3/envs/udacity-cv/lib/site-packages/transformers/models/bert/modeling_bert.py?line=447'>448</a>\u001b[0m     hidden_states \u001b[39m=\u001b[39m \u001b[39mself\u001b[39m\u001b[39m.\u001b[39mintermediate_act_fn(hidden_states)\n\u001b[0;32m    <a href='file:///c%3A/Users/Sai%20Ram/Anaconda3/envs/udacity-cv/lib/site-packages/transformers/models/bert/modeling_bert.py?line=448'>449</a>\u001b[0m     \u001b[39mreturn\u001b[39;00m hidden_states\n",
            "File \u001b[1;32mc:\\Users\\Sai Ram\\Anaconda3\\envs\\udacity-cv\\lib\\site-packages\\torch\\nn\\modules\\module.py:889\u001b[0m, in \u001b[0;36mModule._call_impl\u001b[1;34m(self, *input, **kwargs)\u001b[0m\n\u001b[0;32m    <a href='file:///c%3A/Users/Sai%20Ram/Anaconda3/envs/udacity-cv/lib/site-packages/torch/nn/modules/module.py?line=886'>887</a>\u001b[0m     result \u001b[39m=\u001b[39m \u001b[39mself\u001b[39m\u001b[39m.\u001b[39m_slow_forward(\u001b[39m*\u001b[39m\u001b[39minput\u001b[39m, \u001b[39m*\u001b[39m\u001b[39m*\u001b[39mkwargs)\n\u001b[0;32m    <a href='file:///c%3A/Users/Sai%20Ram/Anaconda3/envs/udacity-cv/lib/site-packages/torch/nn/modules/module.py?line=887'>888</a>\u001b[0m \u001b[39melse\u001b[39;00m:\n\u001b[1;32m--> <a href='file:///c%3A/Users/Sai%20Ram/Anaconda3/envs/udacity-cv/lib/site-packages/torch/nn/modules/module.py?line=888'>889</a>\u001b[0m     result \u001b[39m=\u001b[39m \u001b[39mself\u001b[39;49m\u001b[39m.\u001b[39;49mforward(\u001b[39m*\u001b[39;49m\u001b[39minput\u001b[39;49m, \u001b[39m*\u001b[39;49m\u001b[39m*\u001b[39;49mkwargs)\n\u001b[0;32m    <a href='file:///c%3A/Users/Sai%20Ram/Anaconda3/envs/udacity-cv/lib/site-packages/torch/nn/modules/module.py?line=889'>890</a>\u001b[0m \u001b[39mfor\u001b[39;00m hook \u001b[39min\u001b[39;00m itertools\u001b[39m.\u001b[39mchain(\n\u001b[0;32m    <a href='file:///c%3A/Users/Sai%20Ram/Anaconda3/envs/udacity-cv/lib/site-packages/torch/nn/modules/module.py?line=890'>891</a>\u001b[0m         _global_forward_hooks\u001b[39m.\u001b[39mvalues(),\n\u001b[0;32m    <a href='file:///c%3A/Users/Sai%20Ram/Anaconda3/envs/udacity-cv/lib/site-packages/torch/nn/modules/module.py?line=891'>892</a>\u001b[0m         \u001b[39mself\u001b[39m\u001b[39m.\u001b[39m_forward_hooks\u001b[39m.\u001b[39mvalues()):\n\u001b[0;32m    <a href='file:///c%3A/Users/Sai%20Ram/Anaconda3/envs/udacity-cv/lib/site-packages/torch/nn/modules/module.py?line=892'>893</a>\u001b[0m     hook_result \u001b[39m=\u001b[39m hook(\u001b[39mself\u001b[39m, \u001b[39minput\u001b[39m, result)\n",
            "File \u001b[1;32mc:\\Users\\Sai Ram\\Anaconda3\\envs\\udacity-cv\\lib\\site-packages\\torch\\nn\\modules\\linear.py:94\u001b[0m, in \u001b[0;36mLinear.forward\u001b[1;34m(self, input)\u001b[0m\n\u001b[0;32m     <a href='file:///c%3A/Users/Sai%20Ram/Anaconda3/envs/udacity-cv/lib/site-packages/torch/nn/modules/linear.py?line=92'>93</a>\u001b[0m \u001b[39mdef\u001b[39;00m \u001b[39mforward\u001b[39m(\u001b[39mself\u001b[39m, \u001b[39minput\u001b[39m: Tensor) \u001b[39m-\u001b[39m\u001b[39m>\u001b[39m Tensor:\n\u001b[1;32m---> <a href='file:///c%3A/Users/Sai%20Ram/Anaconda3/envs/udacity-cv/lib/site-packages/torch/nn/modules/linear.py?line=93'>94</a>\u001b[0m     \u001b[39mreturn\u001b[39;00m F\u001b[39m.\u001b[39;49mlinear(\u001b[39minput\u001b[39;49m, \u001b[39mself\u001b[39;49m\u001b[39m.\u001b[39;49mweight, \u001b[39mself\u001b[39;49m\u001b[39m.\u001b[39;49mbias)\n",
            "File \u001b[1;32mc:\\Users\\Sai Ram\\Anaconda3\\envs\\udacity-cv\\lib\\site-packages\\torch\\nn\\functional.py:1753\u001b[0m, in \u001b[0;36mlinear\u001b[1;34m(input, weight, bias)\u001b[0m\n\u001b[0;32m   <a href='file:///c%3A/Users/Sai%20Ram/Anaconda3/envs/udacity-cv/lib/site-packages/torch/nn/functional.py?line=1750'>1751</a>\u001b[0m \u001b[39mif\u001b[39;00m has_torch_function_variadic(\u001b[39minput\u001b[39m, weight):\n\u001b[0;32m   <a href='file:///c%3A/Users/Sai%20Ram/Anaconda3/envs/udacity-cv/lib/site-packages/torch/nn/functional.py?line=1751'>1752</a>\u001b[0m     \u001b[39mreturn\u001b[39;00m handle_torch_function(linear, (\u001b[39minput\u001b[39m, weight), \u001b[39minput\u001b[39m, weight, bias\u001b[39m=\u001b[39mbias)\n\u001b[1;32m-> <a href='file:///c%3A/Users/Sai%20Ram/Anaconda3/envs/udacity-cv/lib/site-packages/torch/nn/functional.py?line=1752'>1753</a>\u001b[0m \u001b[39mreturn\u001b[39;00m torch\u001b[39m.\u001b[39;49m_C\u001b[39m.\u001b[39;49m_nn\u001b[39m.\u001b[39;49mlinear(\u001b[39minput\u001b[39;49m, weight, bias)\n",
            "\u001b[1;31mRuntimeError\u001b[0m: CUDA out of memory. Tried to allocate 96.00 MiB (GPU 0; 6.00 GiB total capacity; 5.20 GiB already allocated; 0 bytes free; 5.26 GiB reserved in total by PyTorch)"
          ]
        }
      ],
      "source": [
        "%%time\n",
        "\n",
        "history = defaultdict(list)\n",
        "best_accuracy = 0\n",
        "\n",
        "for epoch in range(EPOCHS):\n",
        "    torch.cuda.empty_cache()\n",
        "    gc.collect()\n",
        "    # Show details \n",
        "    print(f\"Epoch {epoch + 1}/{EPOCHS}\")\n",
        "    print(\"-\" * 10)\n",
        "    \n",
        "    train_acc, train_loss = train_epoch(\n",
        "        model,\n",
        "        train_data_loader,\n",
        "        loss_fn,\n",
        "        optimizer,\n",
        "        device,\n",
        "        scheduler,\n",
        "        len(df_train)\n",
        "    )\n",
        "    \n",
        "    print(f\"Train loss {train_loss} accuracy {train_acc}\")\n",
        "    \n",
        "    # Get model performance (accuracy and loss)\n",
        "    val_acc, val_loss = eval_model(\n",
        "        model,\n",
        "        val_data_loader,\n",
        "        loss_fn,\n",
        "        device,\n",
        "        len(df_val)\n",
        "    )\n",
        "    \n",
        "    print(f\"Val   loss {val_loss} accuracy {val_acc}\")\n",
        "    print()\n",
        "    \n",
        "    history['train_acc'].append(train_acc)\n",
        "    history['train_loss'].append(train_loss)\n",
        "    history['val_acc'].append(val_acc)\n",
        "    history['val_loss'].append(val_loss)\n",
        "    \n",
        "    # If we beat prev performance\n",
        "    if val_acc > best_accuracy:\n",
        "        torch.save(model.state_dict(), 'best_model_state_new.bin')\n",
        "        best_accuracy = val_acc"
      ]
    },
    {
      "cell_type": "code",
      "execution_count": 58,
      "metadata": {
        "colab": {
          "base_uri": "https://localhost:8080/"
        },
        "id": "SXRVOTkpiJHv",
        "outputId": "f5b5cfad-1692-494f-dd76-c41a6e1a86ba"
      },
      "outputs": [
        {
          "data": {
            "text/plain": [
              "<All keys matched successfully>"
            ]
          },
          "execution_count": 58,
          "metadata": {},
          "output_type": "execute_result"
        }
      ],
      "source": [
        "model.load_state_dict(torch.load('best_model_state_new_1.bin'))"
      ]
    },
    {
      "cell_type": "code",
      "execution_count": 51,
      "metadata": {
        "colab": {
          "base_uri": "https://localhost:8080/",
          "height": 235
        },
        "id": "7gIooN38kPhU",
        "outputId": "5c09991a-3713-444c-f69a-a24108d015f5"
      },
      "outputs": [
        {
          "data": {
            "image/png": "[encoded data removed]",
            "text/plain": [
              "<Figure size 432x288 with 1 Axes>"
            ]
          },
          "metadata": {
            "image/png": {
              "height": 288,
              "width": 395
            },
            "needs_background": "light"
          },
          "output_type": "display_data"
        }
      ],
      "source": [
        "# Plot training and validation accuracy\n",
        "plt.plot(history['train_acc'], label='train accuracy')\n",
        "plt.plot(history['val_acc'], label='validation accuracy')\n",
        "\n",
        "# Graph chars\n",
        "plt.title('Training history')\n",
        "plt.ylabel('Accuracy')\n",
        "plt.xlabel('Epoch')\n",
        "plt.legend()\n",
        "plt.ylim([0, 1]);"
      ]
    },
    {
      "cell_type": "code",
      "execution_count": null,
      "metadata": {
        "id": "gzfoi4PMt2m8"
      },
      "outputs": [
        {
          "data": {
            "text/plain": [
              "0.926"
            ]
          },
          "execution_count": 35,
          "metadata": {},
          "output_type": "execute_result"
        }
      ],
      "source": [
        "test_acc, _ = eval_model(\n",
        "  model,\n",
        "  test_data_loader,\n",
        "  loss_fn,\n",
        "  device,\n",
        "  len(df_test)\n",
        ")\n",
        "\n",
        "test_acc.item()"
      ]
    },
    {
      "cell_type": "code",
      "execution_count": null,
      "metadata": {
        "id": "8qhrqbOhuOe4"
      },
      "outputs": [],
      "source": [
        "def get_predictions(model, data_loader):\n",
        "    model = model.eval()\n",
        "\n",
        "    review_texts = []\n",
        "    predictions = []\n",
        "    prediction_probs = []\n",
        "    real_values = []\n",
        "\n",
        "    with torch.no_grad():\n",
        "        for d in data_loader:\n",
        "            texts = d[\"review_text\"]\n",
        "            input_ids = d[\"input_ids\"].to(device)\n",
        "            attention_mask = d[\"attention_mask\"].to(device)\n",
        "            targets = d[\"targets\"].to(device)\n",
        "\n",
        "            # Get outouts\n",
        "            outputs = model(\n",
        "                input_ids=input_ids,\n",
        "                attention_mask=attention_mask,\n",
        "                return_dict=False\n",
        "            )\n",
        "            _, preds = torch.max(outputs, dim=1)\n",
        "\n",
        "            review_texts.extend(texts)\n",
        "            predictions.extend(preds)\n",
        "            prediction_probs.extend(outputs)\n",
        "            real_values.extend(targets)\n",
        "\n",
        "    predictions = torch.stack(predictions).cpu()\n",
        "    prediction_probs = torch.stack(prediction_probs).cpu()\n",
        "    real_values = torch.stack(real_values).cpu()\n",
        "\n",
        "    return review_texts, predictions, prediction_probs, real_values"
      ]
    },
    {
      "cell_type": "code",
      "execution_count": null,
      "metadata": {
        "id": "efxygXEcubwP"
      },
      "outputs": [],
      "source": [
        "y_review_texts, y_pred, y_pred_probs, y_test = get_predictions(\n",
        "    model,\n",
        "    test_data_loader\n",
        ")"
      ]
    },
    {
      "cell_type": "code",
      "execution_count": null,
      "metadata": {},
      "outputs": [
        {
          "name": "stdout",
          "output_type": "stream",
          "text": [
            "              precision    recall  f1-score   support\n",
            "\n",
            "    negative       0.92      0.94      0.93      2462\n",
            "    positive       0.94      0.92      0.93      2538\n",
            "\n",
            "    accuracy                           0.93      5000\n",
            "   macro avg       0.93      0.93      0.93      5000\n",
            "weighted avg       0.93      0.93      0.93      5000\n",
            "\n"
          ]
        }
      ],
      "source": [
        "print(classification_report(y_test, y_pred, target_names=class_names))"
      ]
    },
    {
      "cell_type": "code",
      "execution_count": 70,
      "metadata": {},
      "outputs": [],
      "source": [
        "review_text = \"I am a career academic. I work incredibly long hours and management's expectations are impossible. Management talks about wellbeing but there is no actual support as workloads continue to increase. This jobs has killed my chances of a successful academic career because I am completely overloaded with teaching: only research success matters for career progression. I used to love my job, but that passion has died.Management pays lip service management to wellbeing but there is no action. They need to provide greater support.\""
      ]
    },
    {
      "cell_type": "code",
      "execution_count": 129,
      "metadata": {},
      "outputs": [],
      "source": [
        "a = ['I am a career academic . ', \"I work incredibly long hours and management's expectations are impossible .\", \"Management talks about wellbeing but there is no actual support as workloads continue to increase . \",  \"This jobs has killed my chances of a successful academic career because I am completely overloaded with teaching: only research success matters for career progression . \", \"I used to love my job, but that passion has died . \", \"Management pays lip service management to wellbeing but there is no action . \", \"They need to provide greater support . \"]"
      ]
    },
    {
      "cell_type": "code",
      "execution_count": 147,
      "metadata": {},
      "outputs": [
        {
          "data": {
            "text/plain": [
              "['I am a career academic . ',\n",
              " \"I work incredibly long hours and management's expectations are impossible .\",\n",
              " 'Management talks about wellbeing but there is no actual support as workloads continue to increase . ',\n",
              " 'This jobs has killed my chances of a successful academic career because I am completely overloaded with teaching: only research success matters for career progression . ',\n",
              " 'I used to love my job, but that passion has died . ',\n",
              " 'Management pays lip service management to wellbeing but there is no action . ',\n",
              " 'They need to provide greater support . ']"
            ]
          },
          "execution_count": 147,
          "metadata": {},
          "output_type": "execute_result"
        }
      ],
      "source": [
        "# a = np.array(a)\n",
        "a"
      ]
    },
    {
      "cell_type": "code",
      "execution_count": 71,
      "metadata": {},
      "outputs": [],
      "source": [
        "def make_pred(review_text):\n",
        "    encoded_review = tokenizer.encode_plus(\n",
        "        review_text,\n",
        "        max_length=MAX_LEN,\n",
        "        add_special_tokens=True,\n",
        "        return_token_type_ids=False,\n",
        "        pad_to_max_length=True,\n",
        "        return_attention_mask=True,\n",
        "        return_tensors='pt',\n",
        "    )\n",
        "\n",
        "    input_ids = encoded_review['input_ids'].to(device)\n",
        "    attention_mask = encoded_review['attention_mask'].to(device)\n",
        "\n",
        "    output = model(input_ids, attention_mask)\n",
        "    _, prediction = torch.max(output, dim=1)\n",
        "\n",
        "    return class_names[prediction]"
      ]
    },
    {
      "cell_type": "code",
      "execution_count": 148,
      "metadata": {},
      "outputs": [
        {
          "data": {
            "text/html": [
              "<div>\n",
              "<style scoped>\n",
              "    .dataframe tbody tr th:only-of-type {\n",
              "        vertical-align: middle;\n",
              "    }\n",
              "\n",
              "    .dataframe tbody tr th {\n",
              "        vertical-align: top;\n",
              "    }\n",
              "\n",
              "    .dataframe thead th {\n",
              "        text-align: right;\n",
              "    }\n",
              "</style>\n",
              "<table border=\"1\" class=\"dataframe\">\n",
              "  <thead>\n",
              "    <tr style=\"text-align: right;\">\n",
              "      <th></th>\n",
              "      <th>sentences</th>\n",
              "    </tr>\n",
              "  </thead>\n",
              "  <tbody>\n",
              "    <tr>\n",
              "      <th>0</th>\n",
              "      <td>I am a career academic .</td>\n",
              "    </tr>\n",
              "    <tr>\n",
              "      <th>1</th>\n",
              "      <td>I work incredibly long hours and management's ...</td>\n",
              "    </tr>\n",
              "    <tr>\n",
              "      <th>2</th>\n",
              "      <td>Management talks about wellbeing but there is ...</td>\n",
              "    </tr>\n",
              "    <tr>\n",
              "      <th>3</th>\n",
              "      <td>This jobs has killed my chances of a successfu...</td>\n",
              "    </tr>\n",
              "    <tr>\n",
              "      <th>4</th>\n",
              "      <td>I used to love my job, but that passion has di...</td>\n",
              "    </tr>\n",
              "    <tr>\n",
              "      <th>5</th>\n",
              "      <td>Management pays lip service management to well...</td>\n",
              "    </tr>\n",
              "    <tr>\n",
              "      <th>6</th>\n",
              "      <td>They need to provide greater support .</td>\n",
              "    </tr>\n",
              "  </tbody>\n",
              "</table>\n",
              "</div>"
            ],
            "text/plain": [
              "                                           sentences\n",
              "0                          I am a career academic . \n",
              "1  I work incredibly long hours and management's ...\n",
              "2  Management talks about wellbeing but there is ...\n",
              "3  This jobs has killed my chances of a successfu...\n",
              "4  I used to love my job, but that passion has di...\n",
              "5  Management pays lip service management to well...\n",
              "6            They need to provide greater support . "
            ]
          },
          "execution_count": 148,
          "metadata": {},
          "output_type": "execute_result"
        }
      ],
      "source": [
        "df_use_case = pd.DataFrame()\n",
        "\n",
        "df_use_case['sentences'] = a\n",
        "df_use_case"
      ]
    },
    {
      "cell_type": "code",
      "execution_count": 157,
      "metadata": {},
      "outputs": [],
      "source": [
        "df_use_case['sentiment'] = df_use_case['sentences'].apply(lambda x: make_pred(x))"
      ]
    },
    {
      "cell_type": "code",
      "execution_count": 158,
      "metadata": {},
      "outputs": [
        {
          "data": {
            "text/html": [
              "<div>\n",
              "<style scoped>\n",
              "    .dataframe tbody tr th:only-of-type {\n",
              "        vertical-align: middle;\n",
              "    }\n",
              "\n",
              "    .dataframe tbody tr th {\n",
              "        vertical-align: top;\n",
              "    }\n",
              "\n",
              "    .dataframe thead th {\n",
              "        text-align: right;\n",
              "    }\n",
              "</style>\n",
              "<table border=\"1\" class=\"dataframe\">\n",
              "  <thead>\n",
              "    <tr style=\"text-align: right;\">\n",
              "      <th></th>\n",
              "      <th>sentences</th>\n",
              "      <th>sentiment</th>\n",
              "    </tr>\n",
              "  </thead>\n",
              "  <tbody>\n",
              "    <tr>\n",
              "      <th>0</th>\n",
              "      <td>I am a career academic .</td>\n",
              "      <td>negative</td>\n",
              "    </tr>\n",
              "    <tr>\n",
              "      <th>1</th>\n",
              "      <td>I work incredibly long hours and management's ...</td>\n",
              "      <td>negative</td>\n",
              "    </tr>\n",
              "    <tr>\n",
              "      <th>2</th>\n",
              "      <td>Management talks about wellbeing but there is ...</td>\n",
              "      <td>negative</td>\n",
              "    </tr>\n",
              "    <tr>\n",
              "      <th>3</th>\n",
              "      <td>This jobs has killed my chances of a successfu...</td>\n",
              "      <td>negative</td>\n",
              "    </tr>\n",
              "    <tr>\n",
              "      <th>4</th>\n",
              "      <td>I used to love my job, but that passion has di...</td>\n",
              "      <td>negative</td>\n",
              "    </tr>\n",
              "    <tr>\n",
              "      <th>5</th>\n",
              "      <td>Management pays lip service management to well...</td>\n",
              "      <td>negative</td>\n",
              "    </tr>\n",
              "    <tr>\n",
              "      <th>6</th>\n",
              "      <td>They need to provide greater support .</td>\n",
              "      <td>positive</td>\n",
              "    </tr>\n",
              "  </tbody>\n",
              "</table>\n",
              "</div>"
            ],
            "text/plain": [
              "                                           sentences sentiment\n",
              "0                          I am a career academic .   negative\n",
              "1  I work incredibly long hours and management's ...  negative\n",
              "2  Management talks about wellbeing but there is ...  negative\n",
              "3  This jobs has killed my chances of a successfu...  negative\n",
              "4  I used to love my job, but that passion has di...  negative\n",
              "5  Management pays lip service management to well...  negative\n",
              "6            They need to provide greater support .   positive"
            ]
          },
          "execution_count": 158,
          "metadata": {},
          "output_type": "execute_result"
        }
      ],
      "source": [
        "df_use_case"
      ]
    },
    {
      "cell_type": "code",
      "execution_count": 128,
      "metadata": {},
      "outputs": [],
      "source": [
        "df_use_case.to_csv('use_case.csv')"
      ]
    },
    {
      "cell_type": "code",
      "execution_count": 72,
      "metadata": {},
      "outputs": [],
      "source": [
        "encoded_review = tokenizer.encode_plus(\n",
        "  review_text,\n",
        "  max_length=MAX_LEN,\n",
        "  add_special_tokens=True,\n",
        "  return_token_type_ids=False,\n",
        "  pad_to_max_length=True,\n",
        "  return_attention_mask=True,\n",
        "  return_tensors='pt',\n",
        ")"
      ]
    },
    {
      "cell_type": "code",
      "execution_count": 73,
      "metadata": {},
      "outputs": [],
      "source": [
        "# encoded_review.keys()"
      ]
    },
    {
      "cell_type": "code",
      "execution_count": 74,
      "metadata": {},
      "outputs": [
        {
          "name": "stdout",
          "output_type": "stream",
          "text": [
            "Review text: I am a career academic. I work incredibly long hours and management's expectations are impossible. Management talks about wellbeing but there is no actual support as workloads continue to increase. This jobs has killed my chances of a successful academic career because I am completely overloaded with teaching: only research success matters for career progression. I used to love my job, but that passion has died.Management pays lip service management to wellbeing but there is no action. They need to provide greater support.\n",
            "Sentiment  : negative\n"
          ]
        }
      ],
      "source": [
        "input_ids = encoded_review['input_ids'].to(device)\n",
        "attention_mask = encoded_review['attention_mask'].to(device)\n",
        "\n",
        "output = model(input_ids, attention_mask)\n",
        "_, prediction = torch.max(output, dim=1)\n",
        "\n",
        "print(f'Review text: {review_text}')\n",
        "print(f'Sentiment  : {class_names[prediction]}')"
      ]
    },
    {
      "cell_type": "code",
      "execution_count": 78,
      "metadata": {},
      "outputs": [
        {
          "data": {
            "text/plain": [
              "0       Zero support for financial difficulties in the...\n",
              "1       You know what would improve employee's mental ...\n",
              "2       You don’t ask about parenting directly that I ...\n",
              "3       Yes. There is a lot of talk at RMIT about ment...\n",
              "4       Yes. I am of XXX (religious type) family and u...\n",
              "                              ...                        \n",
              "1142    The [redacted] Melbourne office is a stressful...\n",
              "1143    - the brutal redundancy processes - the propag...\n",
              "1144    it is really stressful for me with my financia...\n",
              "1145    - Lack of respect for staff.   - Treating staf...\n",
              "1146                                                  NaN\n",
              "Name: Qualitative, Length: 1147, dtype: object"
            ]
          },
          "execution_count": 78,
          "metadata": {},
          "output_type": "execute_result"
        }
      ],
      "source": [
        "df_unseen['Qualitative']"
      ]
    },
    {
      "cell_type": "code",
      "execution_count": 76,
      "metadata": {},
      "outputs": [],
      "source": [
        "df_unseen = pd.read_csv('../../wellbeing.csv')\n"
      ]
    },
    {
      "cell_type": "code",
      "execution_count": null,
      "metadata": {},
      "outputs": [
        {
          "data": {
            "text/html": [
              "<div>\n",
              "<style scoped>\n",
              "    .dataframe tbody tr th:only-of-type {\n",
              "        vertical-align: middle;\n",
              "    }\n",
              "\n",
              "    .dataframe tbody tr th {\n",
              "        vertical-align: top;\n",
              "    }\n",
              "\n",
              "    .dataframe thead th {\n",
              "        text-align: right;\n",
              "    }\n",
              "</style>\n",
              "<table border=\"1\" class=\"dataframe\">\n",
              "  <thead>\n",
              "    <tr style=\"text-align: right;\">\n",
              "      <th></th>\n",
              "      <th>comment</th>\n",
              "    </tr>\n",
              "  </thead>\n",
              "  <tbody>\n",
              "    <tr>\n",
              "      <th>0</th>\n",
              "      <td>Zero support for financial difficulties in the...</td>\n",
              "    </tr>\n",
              "    <tr>\n",
              "      <th>1</th>\n",
              "      <td>You know what would improve employee's mental ...</td>\n",
              "    </tr>\n",
              "    <tr>\n",
              "      <th>2</th>\n",
              "      <td>You don’t ask about parenting directly that I ...</td>\n",
              "    </tr>\n",
              "    <tr>\n",
              "      <th>3</th>\n",
              "      <td>Yes. There is a lot of talk at RMIT about ment...</td>\n",
              "    </tr>\n",
              "    <tr>\n",
              "      <th>4</th>\n",
              "      <td>Yes. I am of XXX (religious type) family and u...</td>\n",
              "    </tr>\n",
              "    <tr>\n",
              "      <th>...</th>\n",
              "      <td>...</td>\n",
              "    </tr>\n",
              "    <tr>\n",
              "      <th>1141</th>\n",
              "      <td>- Well-being counselling does not have enough ...</td>\n",
              "    </tr>\n",
              "    <tr>\n",
              "      <th>1142</th>\n",
              "      <td>The [redacted] Melbourne office is a stressful...</td>\n",
              "    </tr>\n",
              "    <tr>\n",
              "      <th>1143</th>\n",
              "      <td>- the brutal redundancy processes - the propag...</td>\n",
              "    </tr>\n",
              "    <tr>\n",
              "      <th>1144</th>\n",
              "      <td>it is really stressful for me with my financia...</td>\n",
              "    </tr>\n",
              "    <tr>\n",
              "      <th>1145</th>\n",
              "      <td>- Lack of respect for staff.   - Treating staf...</td>\n",
              "    </tr>\n",
              "  </tbody>\n",
              "</table>\n",
              "<p>1146 rows × 1 columns</p>\n",
              "</div>"
            ],
            "text/plain": [
              "                                                comment\n",
              "0     Zero support for financial difficulties in the...\n",
              "1     You know what would improve employee's mental ...\n",
              "2     You don’t ask about parenting directly that I ...\n",
              "3     Yes. There is a lot of talk at RMIT about ment...\n",
              "4     Yes. I am of XXX (religious type) family and u...\n",
              "...                                                 ...\n",
              "1141  - Well-being counselling does not have enough ...\n",
              "1142  The [redacted] Melbourne office is a stressful...\n",
              "1143  - the brutal redundancy processes - the propag...\n",
              "1144  it is really stressful for me with my financia...\n",
              "1145  - Lack of respect for staff.   - Treating staf...\n",
              "\n",
              "[1146 rows x 1 columns]"
            ]
          },
          "execution_count": 36,
          "metadata": {},
          "output_type": "execute_result"
        }
      ],
      "source": [
        "df_output = pd.DataFrame()\n",
        "df_output['comment'] = df_unseen['Qualitative'][:-1].values\n",
        "df_output"
      ]
    },
    {
      "cell_type": "code",
      "execution_count": null,
      "metadata": {},
      "outputs": [
        {
          "ename": "KeyboardInterrupt",
          "evalue": "",
          "output_type": "error",
          "traceback": [
            "\u001b[1;31m---------------------------------------------------------------------------\u001b[0m",
            "\u001b[1;31mKeyboardInterrupt\u001b[0m                         Traceback (most recent call last)",
            "\u001b[1;32mc:\\Users\\Sai Ram\\OneDrive\\RMIT\\Wellbeing\\Imdb-comments\\IMDB Dataset.csv\\bert_sentiment.ipynb Cell 54'\u001b[0m in \u001b[0;36m<cell line: 1>\u001b[1;34m()\u001b[0m\n\u001b[1;32m----> <a href='vscode-notebook-cell:/c%3A/Users/Sai%20Ram/OneDrive/RMIT/Wellbeing/Imdb-comments/IMDB%20Dataset.csv/bert_sentiment.ipynb#ch0000044?line=0'>1</a>\u001b[0m df_output[\u001b[39m'\u001b[39m\u001b[39msentiment\u001b[39m\u001b[39m'\u001b[39m] \u001b[39m=\u001b[39m df_unseen[\u001b[39m'\u001b[39;49m\u001b[39mQualitative\u001b[39;49m\u001b[39m'\u001b[39;49m][:\u001b[39m-\u001b[39;49m\u001b[39m1\u001b[39;49m]\u001b[39m.\u001b[39;49mapply(\u001b[39mlambda\u001b[39;49;00m s: make_pred(s))\n",
            "File \u001b[1;32mc:\\Users\\Sai Ram\\Anaconda3\\envs\\udacity-cv\\lib\\site-packages\\pandas\\core\\series.py:4433\u001b[0m, in \u001b[0;36mSeries.apply\u001b[1;34m(self, func, convert_dtype, args, **kwargs)\u001b[0m\n\u001b[0;32m   <a href='file:///c%3A/Users/Sai%20Ram/Anaconda3/envs/udacity-cv/lib/site-packages/pandas/core/series.py?line=4322'>4323</a>\u001b[0m \u001b[39mdef\u001b[39;00m \u001b[39mapply\u001b[39m(\n\u001b[0;32m   <a href='file:///c%3A/Users/Sai%20Ram/Anaconda3/envs/udacity-cv/lib/site-packages/pandas/core/series.py?line=4323'>4324</a>\u001b[0m     \u001b[39mself\u001b[39m,\n\u001b[0;32m   <a href='file:///c%3A/Users/Sai%20Ram/Anaconda3/envs/udacity-cv/lib/site-packages/pandas/core/series.py?line=4324'>4325</a>\u001b[0m     func: AggFuncType,\n\u001b[1;32m   (...)\u001b[0m\n\u001b[0;32m   <a href='file:///c%3A/Users/Sai%20Ram/Anaconda3/envs/udacity-cv/lib/site-packages/pandas/core/series.py?line=4327'>4328</a>\u001b[0m     \u001b[39m*\u001b[39m\u001b[39m*\u001b[39mkwargs,\n\u001b[0;32m   <a href='file:///c%3A/Users/Sai%20Ram/Anaconda3/envs/udacity-cv/lib/site-packages/pandas/core/series.py?line=4328'>4329</a>\u001b[0m ) \u001b[39m-\u001b[39m\u001b[39m>\u001b[39m DataFrame \u001b[39m|\u001b[39m Series:\n\u001b[0;32m   <a href='file:///c%3A/Users/Sai%20Ram/Anaconda3/envs/udacity-cv/lib/site-packages/pandas/core/series.py?line=4329'>4330</a>\u001b[0m     \u001b[39m\"\"\"\u001b[39;00m\n\u001b[0;32m   <a href='file:///c%3A/Users/Sai%20Ram/Anaconda3/envs/udacity-cv/lib/site-packages/pandas/core/series.py?line=4330'>4331</a>\u001b[0m \u001b[39m    Invoke function on values of Series.\u001b[39;00m\n\u001b[0;32m   <a href='file:///c%3A/Users/Sai%20Ram/Anaconda3/envs/udacity-cv/lib/site-packages/pandas/core/series.py?line=4331'>4332</a>\u001b[0m \n\u001b[1;32m   (...)\u001b[0m\n\u001b[0;32m   <a href='file:///c%3A/Users/Sai%20Ram/Anaconda3/envs/udacity-cv/lib/site-packages/pandas/core/series.py?line=4430'>4431</a>\u001b[0m \u001b[39m    dtype: float64\u001b[39;00m\n\u001b[0;32m   <a href='file:///c%3A/Users/Sai%20Ram/Anaconda3/envs/udacity-cv/lib/site-packages/pandas/core/series.py?line=4431'>4432</a>\u001b[0m \u001b[39m    \"\"\"\u001b[39;00m\n\u001b[1;32m-> <a href='file:///c%3A/Users/Sai%20Ram/Anaconda3/envs/udacity-cv/lib/site-packages/pandas/core/series.py?line=4432'>4433</a>\u001b[0m     \u001b[39mreturn\u001b[39;00m SeriesApply(\u001b[39mself\u001b[39;49m, func, convert_dtype, args, kwargs)\u001b[39m.\u001b[39;49mapply()\n",
            "File \u001b[1;32mc:\\Users\\Sai Ram\\Anaconda3\\envs\\udacity-cv\\lib\\site-packages\\pandas\\core\\apply.py:1082\u001b[0m, in \u001b[0;36mSeriesApply.apply\u001b[1;34m(self)\u001b[0m\n\u001b[0;32m   <a href='file:///c%3A/Users/Sai%20Ram/Anaconda3/envs/udacity-cv/lib/site-packages/pandas/core/apply.py?line=1077'>1078</a>\u001b[0m \u001b[39mif\u001b[39;00m \u001b[39misinstance\u001b[39m(\u001b[39mself\u001b[39m\u001b[39m.\u001b[39mf, \u001b[39mstr\u001b[39m):\n\u001b[0;32m   <a href='file:///c%3A/Users/Sai%20Ram/Anaconda3/envs/udacity-cv/lib/site-packages/pandas/core/apply.py?line=1078'>1079</a>\u001b[0m     \u001b[39m# if we are a string, try to dispatch\u001b[39;00m\n\u001b[0;32m   <a href='file:///c%3A/Users/Sai%20Ram/Anaconda3/envs/udacity-cv/lib/site-packages/pandas/core/apply.py?line=1079'>1080</a>\u001b[0m     \u001b[39mreturn\u001b[39;00m \u001b[39mself\u001b[39m\u001b[39m.\u001b[39mapply_str()\n\u001b[1;32m-> <a href='file:///c%3A/Users/Sai%20Ram/Anaconda3/envs/udacity-cv/lib/site-packages/pandas/core/apply.py?line=1081'>1082</a>\u001b[0m \u001b[39mreturn\u001b[39;00m \u001b[39mself\u001b[39;49m\u001b[39m.\u001b[39;49mapply_standard()\n",
            "File \u001b[1;32mc:\\Users\\Sai Ram\\Anaconda3\\envs\\udacity-cv\\lib\\site-packages\\pandas\\core\\apply.py:1137\u001b[0m, in \u001b[0;36mSeriesApply.apply_standard\u001b[1;34m(self)\u001b[0m\n\u001b[0;32m   <a href='file:///c%3A/Users/Sai%20Ram/Anaconda3/envs/udacity-cv/lib/site-packages/pandas/core/apply.py?line=1130'>1131</a>\u001b[0m         values \u001b[39m=\u001b[39m obj\u001b[39m.\u001b[39mastype(\u001b[39mobject\u001b[39m)\u001b[39m.\u001b[39m_values\n\u001b[0;32m   <a href='file:///c%3A/Users/Sai%20Ram/Anaconda3/envs/udacity-cv/lib/site-packages/pandas/core/apply.py?line=1131'>1132</a>\u001b[0m         \u001b[39m# error: Argument 2 to \"map_infer\" has incompatible type\u001b[39;00m\n\u001b[0;32m   <a href='file:///c%3A/Users/Sai%20Ram/Anaconda3/envs/udacity-cv/lib/site-packages/pandas/core/apply.py?line=1132'>1133</a>\u001b[0m         \u001b[39m# \"Union[Callable[..., Any], str, List[Union[Callable[..., Any], str]],\u001b[39;00m\n\u001b[0;32m   <a href='file:///c%3A/Users/Sai%20Ram/Anaconda3/envs/udacity-cv/lib/site-packages/pandas/core/apply.py?line=1133'>1134</a>\u001b[0m         \u001b[39m# Dict[Hashable, Union[Union[Callable[..., Any], str],\u001b[39;00m\n\u001b[0;32m   <a href='file:///c%3A/Users/Sai%20Ram/Anaconda3/envs/udacity-cv/lib/site-packages/pandas/core/apply.py?line=1134'>1135</a>\u001b[0m         \u001b[39m# List[Union[Callable[..., Any], str]]]]]\"; expected\u001b[39;00m\n\u001b[0;32m   <a href='file:///c%3A/Users/Sai%20Ram/Anaconda3/envs/udacity-cv/lib/site-packages/pandas/core/apply.py?line=1135'>1136</a>\u001b[0m         \u001b[39m# \"Callable[[Any], Any]\"\u001b[39;00m\n\u001b[1;32m-> <a href='file:///c%3A/Users/Sai%20Ram/Anaconda3/envs/udacity-cv/lib/site-packages/pandas/core/apply.py?line=1136'>1137</a>\u001b[0m         mapped \u001b[39m=\u001b[39m lib\u001b[39m.\u001b[39;49mmap_infer(\n\u001b[0;32m   <a href='file:///c%3A/Users/Sai%20Ram/Anaconda3/envs/udacity-cv/lib/site-packages/pandas/core/apply.py?line=1137'>1138</a>\u001b[0m             values,\n\u001b[0;32m   <a href='file:///c%3A/Users/Sai%20Ram/Anaconda3/envs/udacity-cv/lib/site-packages/pandas/core/apply.py?line=1138'>1139</a>\u001b[0m             f,  \u001b[39m# type: ignore[arg-type]\u001b[39;49;00m\n\u001b[0;32m   <a href='file:///c%3A/Users/Sai%20Ram/Anaconda3/envs/udacity-cv/lib/site-packages/pandas/core/apply.py?line=1139'>1140</a>\u001b[0m             convert\u001b[39m=\u001b[39;49m\u001b[39mself\u001b[39;49m\u001b[39m.\u001b[39;49mconvert_dtype,\n\u001b[0;32m   <a href='file:///c%3A/Users/Sai%20Ram/Anaconda3/envs/udacity-cv/lib/site-packages/pandas/core/apply.py?line=1140'>1141</a>\u001b[0m         )\n\u001b[0;32m   <a href='file:///c%3A/Users/Sai%20Ram/Anaconda3/envs/udacity-cv/lib/site-packages/pandas/core/apply.py?line=1142'>1143</a>\u001b[0m \u001b[39mif\u001b[39;00m \u001b[39mlen\u001b[39m(mapped) \u001b[39mand\u001b[39;00m \u001b[39misinstance\u001b[39m(mapped[\u001b[39m0\u001b[39m], ABCSeries):\n\u001b[0;32m   <a href='file:///c%3A/Users/Sai%20Ram/Anaconda3/envs/udacity-cv/lib/site-packages/pandas/core/apply.py?line=1143'>1144</a>\u001b[0m     \u001b[39m# GH#43986 Need to do list(mapped) in order to get treated as nested\u001b[39;00m\n\u001b[0;32m   <a href='file:///c%3A/Users/Sai%20Ram/Anaconda3/envs/udacity-cv/lib/site-packages/pandas/core/apply.py?line=1144'>1145</a>\u001b[0m     \u001b[39m#  See also GH#25959 regarding EA support\u001b[39;00m\n\u001b[0;32m   <a href='file:///c%3A/Users/Sai%20Ram/Anaconda3/envs/udacity-cv/lib/site-packages/pandas/core/apply.py?line=1145'>1146</a>\u001b[0m     \u001b[39mreturn\u001b[39;00m obj\u001b[39m.\u001b[39m_constructor_expanddim(\u001b[39mlist\u001b[39m(mapped), index\u001b[39m=\u001b[39mobj\u001b[39m.\u001b[39mindex)\n",
            "File \u001b[1;32mc:\\Users\\Sai Ram\\Anaconda3\\envs\\udacity-cv\\lib\\site-packages\\pandas\\_libs\\lib.pyx:2870\u001b[0m, in \u001b[0;36mpandas._libs.lib.map_infer\u001b[1;34m()\u001b[0m\n",
            "\u001b[1;32mc:\\Users\\Sai Ram\\OneDrive\\RMIT\\Wellbeing\\Imdb-comments\\IMDB Dataset.csv\\bert_sentiment.ipynb Cell 54'\u001b[0m in \u001b[0;36m<lambda>\u001b[1;34m(s)\u001b[0m\n\u001b[1;32m----> <a href='vscode-notebook-cell:/c%3A/Users/Sai%20Ram/OneDrive/RMIT/Wellbeing/Imdb-comments/IMDB%20Dataset.csv/bert_sentiment.ipynb#ch0000044?line=0'>1</a>\u001b[0m df_output[\u001b[39m'\u001b[39m\u001b[39msentiment\u001b[39m\u001b[39m'\u001b[39m] \u001b[39m=\u001b[39m df_unseen[\u001b[39m'\u001b[39m\u001b[39mQualitative\u001b[39m\u001b[39m'\u001b[39m][:\u001b[39m-\u001b[39m\u001b[39m1\u001b[39m]\u001b[39m.\u001b[39mapply(\u001b[39mlambda\u001b[39;00m s: make_pred(s))\n",
            "\u001b[1;32mc:\\Users\\Sai Ram\\OneDrive\\RMIT\\Wellbeing\\Imdb-comments\\IMDB Dataset.csv\\bert_sentiment.ipynb Cell 47'\u001b[0m in \u001b[0;36mmake_pred\u001b[1;34m(review_text)\u001b[0m\n\u001b[0;32m     <a href='vscode-notebook-cell:/c%3A/Users/Sai%20Ram/OneDrive/RMIT/Wellbeing/Imdb-comments/IMDB%20Dataset.csv/bert_sentiment.ipynb#ch0000051?line=14'>15</a>\u001b[0m output \u001b[39m=\u001b[39m model(input_ids, attention_mask)\n\u001b[0;32m     <a href='vscode-notebook-cell:/c%3A/Users/Sai%20Ram/OneDrive/RMIT/Wellbeing/Imdb-comments/IMDB%20Dataset.csv/bert_sentiment.ipynb#ch0000051?line=15'>16</a>\u001b[0m _, prediction \u001b[39m=\u001b[39m torch\u001b[39m.\u001b[39mmax(output, dim\u001b[39m=\u001b[39m\u001b[39m1\u001b[39m)\n\u001b[1;32m---> <a href='vscode-notebook-cell:/c%3A/Users/Sai%20Ram/OneDrive/RMIT/Wellbeing/Imdb-comments/IMDB%20Dataset.csv/bert_sentiment.ipynb#ch0000051?line=17'>18</a>\u001b[0m \u001b[39mreturn\u001b[39;00m class_names[prediction]\n",
            "\u001b[1;31mKeyboardInterrupt\u001b[0m: "
          ]
        }
      ],
      "source": [
        "df_output['sentiment'] = df_unseen['Qualitative'][:-1].apply(lambda s: make_pred(s))"
      ]
    },
    {
      "cell_type": "code",
      "execution_count": null,
      "metadata": {},
      "outputs": [
        {
          "data": {
            "text/plain": [
              "0       Zero support for financial difficulties in the...\n",
              "1       You know what would improve employee's mental ...\n",
              "2       You don’t ask about parenting directly that I ...\n",
              "3       Yes. There is a lot of talk at RMIT about ment...\n",
              "4       Yes. I am of XXX (religious type) family and u...\n",
              "                              ...                        \n",
              "1142    The [redacted] Melbourne office is a stressful...\n",
              "1143    - the brutal redundancy processes - the propag...\n",
              "1144    it is really stressful for me with my financia...\n",
              "1145    - Lack of respect for staff.   - Treating staf...\n",
              "1146                                                  NaN\n",
              "Name: Qualitative, Length: 1147, dtype: object"
            ]
          },
          "execution_count": 54,
          "metadata": {},
          "output_type": "execute_result"
        }
      ],
      "source": [
        "df_unseen['Qualitative']"
      ]
    },
    {
      "cell_type": "code",
      "execution_count": 69,
      "metadata": {},
      "outputs": [
        {
          "ename": "NameError",
          "evalue": "name 'df_output' is not defined",
          "output_type": "error",
          "traceback": [
            "\u001b[1;31m---------------------------------------------------------------------------\u001b[0m",
            "\u001b[1;31mNameError\u001b[0m                                 Traceback (most recent call last)",
            "\u001b[1;32mc:\\Users\\Sai Ram\\OneDrive\\RMIT\\Wellbeing\\Imdb-comments\\IMDB Dataset.csv\\bert_sentiment.ipynb Cell 71'\u001b[0m in \u001b[0;36m<cell line: 1>\u001b[1;34m()\u001b[0m\n\u001b[1;32m----> <a href='vscode-notebook-cell:/c%3A/Users/Sai%20Ram/OneDrive/RMIT/Wellbeing/Imdb-comments/IMDB%20Dataset.csv/bert_sentiment.ipynb#ch0000069?line=0'>1</a>\u001b[0m df_output\n",
            "\u001b[1;31mNameError\u001b[0m: name 'df_output' is not defined"
          ]
        }
      ],
      "source": [
        "df_output"
      ]
    },
    {
      "cell_type": "code",
      "execution_count": null,
      "metadata": {},
      "outputs": [],
      "source": []
    },
    {
      "cell_type": "code",
      "execution_count": null,
      "metadata": {},
      "outputs": [],
      "source": [
        "df_output['sentiment'] = df_unseen['Qualitative'][:-1].apply(lambda s: make_pred(s))"
      ]
    },
    {
      "cell_type": "code",
      "execution_count": null,
      "metadata": {},
      "outputs": [
        {
          "data": {
            "text/plain": [
              "'Zero support for financial difficulties in the instance of needing support with fees. Patronising to be referred to student well-being when a simple payment plan is being requested and the uni is spruiking all the available support'"
            ]
          },
          "execution_count": 46,
          "metadata": {},
          "output_type": "execute_result"
        }
      ],
      "source": [
        "df_output.iloc[0,0]"
      ]
    },
    {
      "cell_type": "code",
      "execution_count": null,
      "metadata": {},
      "outputs": [
        {
          "data": {
            "text/plain": [
              "array(['You don’t ask about parenting directly that I could see.',\n",
              "       'Yes in a positive way - working and engaging in the university environment presents so much opportunity for learning and growing as a person.   This is one reason that I have worked in a university environment for over 20 years.',\n",
              "       \"Yes I do. The university does some amazing work. There are good people in it. People who genuinely care about important issues relating to social justice, equity and fairness. These people are exhausted and broken. Part of this is COVID, and the existential crisis it has precipitated, the changes to our lives and careers is unmeasurable. However mostly, people are disillusioned, disappointed and broken by the ways in which the university has handled the crisis. The gaslighting - telling us one minute its 'business as usual' and the next asking 'r u ok?'. We are not OK. We are an institution shaped by loss, loss of the things that brought us joy in our jobs - seeing each other, attending conferences and loss of colleagues, forced out of their jobs by the many, many cuts - not all of which were necessary. I am sick of being told to be kind and to 'look out for each other'. I am kind, and me and my colleagues do look out for each other. Through all the things that our workplace is putting us through - cuts, redundancies, cuts to research time, the constant threat of the latest 'change proposal'. I am sick of the structural inequalities that are not being addressed, that many women have found themselves with a tripled workload at work and at home - and they are constantly being called upon to do the caring work at the university - a place that is literally making them sick. That people of colour and Indigenous people are doing much more work in their communities to keep people afloat. At the same time RMIT is constantly asking for more - more 'impactful' research (with less and less time to do it). More innovative teaching - when the tools we have to do this are so limited. We are being berated for poor scores when students are fed up with structures at the university (class sizes, on and off campus) and so teaching staff are on the front line of their ire. More meetings - most of which are completely pointless. I only hope that this survey will illustrate the lack of t\",\n",
              "       'Yes as you know the the current situation that impacted on me like one time is face to face class and one time is online class but it’s mostly online more that is very hard to learn.',\n",
              "       'Yes   Comments for each section may be a good idea of gaining how we all are travelling at RMIT.  202 has been a continuation of last year (Covid, IT issues, students being stressed and requiring extra support etc).  Also having the RMIT support services in this survey in-case this survey brings up negative thoughts.  I am healthy, have employment, family and friends (and there are issues there as well) and I work hard to keep my level of wellbeing high every day and do 3 grateful thoughts each day  I do not complain, and do not feel I have the right to , when I consider how other people are traveling, but the workload is hard with new tasks projects coming along regularly and with each lockdown the students progression is delayed with an extra layer of work, etc which at times seems like a tsunami.  Thank you for giving me the opportunity to speak  But I am healthy',\n",
              "       'Would like to have more flexibility in managing my research journey during covid. Getting out track is the major sources of my stress',\n",
              "       \"would be nice if there was more flexibility in milestones. The only option are full time or part time - but not everyone can go part time if they don't have a valid medical/ other reason. The lockdowns keep interferring with our ability to work (even just the mental toll of it when there are no specific roadblocks like cancelled fieldwork) and yet the milestones stay the same. It's creating a ton of stress and, for me, leading to burnout, mental exhaustion and depression.\",\n",
              "       'Workloads increasing, and then having to deal with family.',\n",
              "       'Workloads are very high', 'Workloads',\n",
              "       \"Workload is an issue it seems across the board, and levels of stress and anxiety can impact the environment or ways of working that are respectful, supportive and productive.   I feel the slow down 'taking wellness leave', really was an intervention at the heart of supporting our staff. I felt this response was so timely and needed. I definitely respect senior leaders in the [redacted] Team, prioritising wellness everyday and role modelling that. We may have high demands at the moment but I do feel very supported so I am engaged in my work and what I can contribute.\",\n",
              "       'Workload has increased incredibly since the pandemic began. In my area the wellbeing of staff has been significantly impacted.',\n",
              "       'Workload feels like a lot this semester', 'Workload',\n",
              "       'Working with home during covid naturally causing some disconnection, however the collaboration platform is great and on my mobile!',\n",
              "       'work culture among the university staff does impact on students. if teaching staff are not happy, students can pick up on that.',\n",
              "       'With the new difficulties that covid brought, I think RMIT has adapted well. I do however think fees should be lowered, thank you.',\n",
              "       'With the massive restructures and reduced staff numbers that have occurred since last year, we are in a really high pressure environment. The period after a restructure is always a difficult one, but with the added complications that Covid has brought, this is unlike anything we have been through before. Pressure is coming from every direction to make things work and keep things going in an unstable and uncertain environment. Establishing new teams, new ways of working, understanding the demands and work required, is harder than ever with everyone under so much stress and not functioning to full capacity.  Added to this is the different personal situations and pressures. In a people-leadership role, the increased pressure of keeping the work progressing with a new team and requirements, maintain standard (and in fact extended) working hours to ensure I am available for my team and the demands of the role, while trying to care for and support 2 primary school aged children with a partner who is a permitted worker and not home during the day, leaves me feeling almost constantly overwhelmed in every area. There are not enough hours in the day, self-care is basically impossible, the demands are unceasing. The pressure is relentless, and has a direct impact on my mental and physical health. Any time I have taken away has left me feeling more pressured as the team is not coping in a still unstable environment and after the prolonged stress of Covid and restructures. I have continued to work during illnesses as I felt immense pressure to do so as any other times of leave has resulted in significant donwturn of team functioning, caused in part by the exhaustion of team members and the impact it is having on their ability to function.  I took on a new role this year with excitement, enthusiasm and passion to make things better, but recently I have been questioning if any of it is worth it, feeling like I cannot keep up with the relentless pressures and expectations that have',\n",
              "       'With all the Covid-19 lockdowns (which we can not control) it makes it difficult for me to find motivation and stay focused in classes, i often find myself getting extremely distracted if having to sit in an online class for hours at a time.  The University is fantastic at keeping in touch with students and making sure they feel welcome, i love that they have so many help programs especially in times like this.',\n",
              "       \"While there is a lot of 'talk' about wellbeing, and links provided to staff to access online help, there seems to be little acknowledgement at the upper management level about the impact of covid on productivity, particularly in terms of addressing measures (such as benchmarks for promotion, research, HDR completions and external funding). In fact, to my knowledge there has been no change to KPIs, or suggestion that this will happen. This makes it apparent, despite the rhetoric, that the university is not overly concerned with staff wellbeing. Action speaks louder than words, as the saying goes.\",\n",
              "       'While promoting the importance and researching the current state of wellbeing is important, what is most critical is to implementing concrete measures to ensure that people are well. That includes, as indicated again and again through research articles, opinion pieces, and anecdotes, reducing the achievement benchmarks for planning and evaluation for 2021 and 2022 at least, and giving more time for people to complete tasks, invest rather than cost-save now for long-term gains, and strong political advocacy for the sector and its workers.',\n",
              "       \"While I understand lockdown is above the university's control I expected this semester to be entirely online regardless. When I enrolled I chose courses that specified online delivery for this reason. When it commenced I was caught off guard when told it was face-to-face so I've had to find accommodation in Melbourne last minute. I think a bit of transparency on the delivery (regardless of lockdown) would have been appreciated... I know we don't know what's going to happen, but don't specify online if you're still considering face-to-face. You can study online last minute but you can't study face-to-face last minute.\",\n",
              "       \"While I acknowledge RMIT's efforts and continued willingness to always be better, I do not feel safe on Campus, nor truly respected and acknowledging of what I have to go through.   When you have a limited amount of hours in a day to function. When you are then tasked with what COVID Lockdowns and Restrictions brings. Having experienced and survived the effects of a Highly Infectious and Deadly Virus (TWICE) and the ongoing recovery and learning to deal with my life long medical challenges. To then face the world being under threat by a Global Pandemic in the form of a Virus. You have no idea what each second brings with it, on a daily basis, in my world.   When I was mocked for wearing a mask and taking it 'so seriously', it hurt. It was early in the piece, but even now - I pay attention to both the efforts the university makes and the amount of people that still make it unsafe for all of us by not following the rules and guidelines. If you have never been directly effected by the situation, you can never truly relate or even fathom its seriousness.\",\n",
              "       'What we do in higher education nowadays is quite detached from the practice in the society. Many questions in this questionnaire ask about how we relate to the society, but the issue is the workload stress and financial pressure in tertiary education now makes the employees even more detached from the society in general. The workplace culture in universities has changed drastically since major restructures and \"slimming down\" exercises in all the universities. Operational staff are the ones who suffer most mentally and financially.',\n",
              "       'we need support from our employer',\n",
              "       'We need more Practicals and more hands on work. Help us to get Work integrated learning so that we can get job opportunities.',\n",
              "       'We need more people, doing less, not less people, doing more.',\n",
              "       'We need more mental wellbeing support through lockdown- eg send care packages and clear access to counselling',\n",
              "       'We have lost many staff in 2020 through redundancy, which puts pressure on those that remain to complete the required work.',\n",
              "       'We have done these surveys before, on numerous occasions, the results are never published or directly actioned on.',\n",
              "       'We have been given increasing teaching loads and we have to do the same research as in the past.',\n",
              "       'We are doing the best as a University we can taking all things into account and this is having a positive impact on my wellbeing.',\n",
              "       'Wanna have better performance in academic field, assessments are important, willing to improve writing skills and better understanding of wellbeing',\n",
              "       'Very rarely do policies and considerations contribute to a healthy work life below management level. Another survey collecting more data….',\n",
              "       'Very proud of working for RMIT University.',\n",
              "       'University needs to look after their employees well, then the employees will look after the stakeholders well. It is always a win win situation.',\n",
              "       \"Uni + workload + family + home-schooling =a very busy home. Some days it's a real struggle for my children to get through their online learning and uni needs to be put on the backburner so I can just be a mum and nothing else. This sometimes means my study is put on hold until everyone is in bed and then I can study during the late of night. Sometimes heading to bed @ 3am. Those days can be hard as you need to get up that morning and support your children again through online learning.  A bit more support would be welcoming.\",\n",
              "       \"Unfortunately with covid there is a LARGE disconnection in departments and communication is limited. Not being on campus is very challenging and not having the social aspect, were you can simply sit with your team and discuss how to more forward is greatly impacting everyone. Online meetings don't allow the same amount of discussion as in person. Lately everyone is a lot more quieter and withdraw when on online meetings. Senior management are unable to provide the support we need as they are in the same situation.\",\n",
              "       'Unclear if this survey is pre-pandemic or current pandemic/lockdown/work from home. The 2 situations present very differently for me',\n",
              "       'Uncertainty related to restructure, as a result of COVID impact, has caused quite a bit of anxiety amongst all staff and it will take quite a bit of adjustment to return to a congenial work environment.',\n",
              "       \"Uncertainty - contradiction between values and realities of working life - complex systems that take up an enormous amount of time that was once used for learning and teaching purposes. A sense of cognitive dissonance that is general in nature but also experienced at work. It's hard to switch between discussing ways forward for the discipline that address consumption and waste / climate change, then switch over to prioritising overly time consuming workplanning / AWAM's / Worklife etc. Such an enormous amount of time is spent undertaking compliance modules of which are quickly forgotten. The recent uptake of voluntary separation packages has resulted in additional workload placed on both ongoing and sessional staff. The AWAM becomes irrelevant in a lot of ways when staff feel obliged to take on additional work. Our sessional staff are amazing, however there is no incentive for them to maintain an ongoing relationship - when they leave their expertise (and their L+T training via program managers / course coordinators) is lost. The drain on resources is ongoing.\",\n",
              "       'Tutors being supportive and understanding and letting us know where can get help if we need it has a really positive effect on my wellbeing!',\n",
              "       'To sum it up, the University (and other around the country) see staff as a liability, not an asset.',\n",
              "       'To assist reducing the level of stress, it is also the cooperation of various teams / portfolio.  We can feel the block from different teams due to a lot of reasons. Although we try hard to break the wall, sometimes it makes you feel upset, stress and unnecessary depressed.',\n",
              "       'This survey was taken during a lockdown in Victoria, so this will affect some answers.',\n",
              "       'This is not a survey about mental health and well - being, it is a research project by another university. It is also a mechanism for \" management\" to demonstrate that they care about mental health issues.   If staff were not over worked and sucked dry constantly,  and not told what to do by spreadsheet mangers who just flick emails. We might get some of the actual work of the university done- Teaching and research and \" mental health support would not be needed. This is s a farce',\n",
              "       \"This is a great idea, shows care towards staff/students - however should be done more often than just once a year to show real care, catch people before they fall through the cracks. Due to cut backs in staff, there has been a huge increase in workload (stress) for those remaining staff. Due to the high pressure, workload and 'working from home' cannot keep in 'real' contact with people as would normally - therefore NOT able to actually notice when someone needing help. Cannot actually see the state of mental health and wellbeing of those we would usually instantly pick up that there is a problem...but thank you for trying with this.\",\n",
              "       'These answers would have been different two years ago. COVID has made a big negative impact.',\n",
              "       'There needs to be more active support (and funding) to encourage staff to meet socially, especially during COVID.',\n",
              "       \"There is an upside to the current COVID pandemic, and it is the opportunity to learn to work remotely...with great efficiency and enjoyment. Working from home has contributed significantly (and positively) to my sense of wellbeing. I find I am much better able to get my job done because I don't have the burden of travelling to and from the CBD to do my work. I actually devote more time to my work without feeling like I am being made to work overtime. That's a bonus.  The anxiety that underlies my current state is around how I will feel about my job should I be pressured to return to campus for most or all of my working week. I am sure I am not alone in experiencing that anxiety.\",\n",
              "       \"There is an increasingly toxic environment in the department in which I teach on a casual basis. I can't go to my manager about this as the toxicity stems from them and she has been unapproachable in the past. The staff turnover in this department is very high during my time here and I know there have been allegations of bullying from her made by other staff members over the years to HR but nothing appears to have been done about this. I still know of inappropriate behaviour towards others and also receive it. This indicates to me that RMIT care more about the bottom line than the wellbeing of their staff. I am being asked to do more and more and being paid less. Just this week, I was told via a table of information sent by email from my manager I was expected to decipher that I would not be paid a lecture rate from now on (despite still giving the lectures) and to adjust my WorkDay entry accordingly. No discussion, no warning, no apology. This is how you treat someone you don't respect or care how they feel. If I question my boss over this behaviour I know she will not invite me back to work as I am sessional, despite the fact they now find themselves desperate for teaching staff. I feel my boss may be under increasing pressure from above her to meet budgets etc. and this pressure is passed on. When will RMIT value its most important assets, the people - both staff and students? I love the teaching aspect of my job at RMIT and helping students towards their goals but am not sure how much longer I can tolerate the toxic environment in the office that is so opposed to my values as a person.\",\n",
              "       'There is a significant difference for staff without children constantly at home, suffering through lockdowns and homeschooling to those who are not in that situation. The disparity in experience has been barely acknowledged. The fact that there is a blanket policy for 2020 as far as promotion application policy goes means that those with exceptional or more difficult circumstances are not seen or acknowledged and those that have had an actual improvement in their life through being able to avoid commutes, move to the country or who just by not juggling homeschooling kids get further rewarded by the circumstances. I also think RMIT should be contributing to the cost of running a home office (heating, internet etc).',\n",
              "       'There is a lot of understanding that my personal teachers have given me throughout this year. Which has been really, really helpful in me being able to meet the requirements of my degree. But I feel a disconnect from RMIT as an institution - I really only feel connected to my course, but not the wider support of RMIT as a whole.',\n",
              "       \"There are a number of factors that are impacting my wellbing.  1. The implementation of Workday has had and continues to have a significant impact on my workload.  2. The [redacted]  lost its entire HR and Finance Team in 2020 to voluntary redundancy. We were promised that voluntary redundancies would not result in an increase  to workloads however this has not been the reality.  3. Cuts in central services has also resulted in more work being pushed down to Schools.  4. Major change to the School's [redacted] program.  The [redacted] will be closed at the end of the year after delivering the [redacted] (and equivalent) for more than 30 years.\",\n",
              "       \"The workloads are immense, I am currently working 10 hours per day and often on the weekends.  The offer of more leave whilst generous, doesn't address this issue as the work builds up and then I feel more anxious returning to an overwhelming workload. The systems and processes at RMIT need improving for efficiency and consistency.\",\n",
              "       'The workload model has not adapted to the current COVID pandemic and the shift to remote learning. RMIT academics are working harder than ever due to the increased workload associated with remote learning. While there have been tokenistic initiatives to recognise the efforts of RMIT staff this has not resulted in changes to workloads.',\n",
              "       \"The workload experienced last year during lockdown is vastly different to the workload this year. Although there is less fear and 'newness' around Covid, completing the work is still difficult and poses challenges.  Considerations around how often students are expected to come onto campus and the time it takes for them could be a consideration and link to geographical isolation (eg. I have 4 classes and have 4 days a week of classes - each class is 1.5 hours, with transport into the city being on average 1.5h one way).   Emails around check-ins for mental health and the services available can often slip through the cracks, perhaps there are other ways students can find out about services. Specifically searching for services can be an obstacle for those who are going through challenging circumstances.\",\n",
              "       \"The university's inability to adapt course material or supply staff with the necessary tools and training to provide online learning is fostering a generation of lifeless individuals.\",\n",
              "       'The university setting feels very political of late with a lot of attention consistently being brought to issues that seemingly only directly affect a minute few and the general public less. Although I am in support of open-mindedness and acceptance, the \"cult-like\" believes of other groups seem to be influencing the overall environment.  The idea of common sense and neighbourly values such as respect to all people regardless, are being outweighed by the idea of reticule and judgement for all communities at all times infighting a sense of fear of saying/doing/expressing the \"wrong thing\"',\n",
              "       'The university is trying to react and be supportive in difficult times. I have several people that report to me either directly or indirectly that have had significant challenges over the last few months, ranging from bouts of malaise through to deaths of family members from COVID overseas. It is both sobering and enlightening - puts the troubles most of us face daily into perspective. My role as a manager is not a inherent skill, but during these times I try to offer support in anyway possible.',\n",
              "       \"The university has totally disengaged from the industry sector that I teach into.  As a result the Programs that I deliver have not developed in the directions that industry requires.  Sadly I will probably follow my colleagues who have already left RMIT to take up a positions with rival RTO's that are growing in this area.  The demise of these Programs disappoints and saddens me.  The frustration and stress is countered by the excitement at the prospect of new opportunities elsewhere.  The sadness is offset by my pride in the legacy I have created and the connections I have made across the sector.  I find I am happy with my lot.  Occasionally impulsive in my interactions but rarely angry.  For an older white man I think that is my greatest achievement.\",\n",
              "       'The university has shown a concern with students\\' \"wellbeing\" during the Covid-19 pandemic. It has not, however, shown understanding or an ability or willingness to accommodate for the specific (and now amplified) needs of students who live with mental disorders/psychosocial disability. We face our own challenges and difficulties at the best of times, and the pandemic has not been the best of times.',\n",
              "       'The university has been good at responding to and prioritising employee mental health during lockdowns. Aside from when they released the new remote working policy when a lockdown was imminent. I enjoy working from home and having the security and support to do so after lockdowns end is important.',\n",
              "       \"The University has a strong commitment to the wellbeing of staff, students, and the wider RMIT Community.  The 5-year Mental Wellbeing Plan clearly articulates the vision of meaningful engagement in this space and the development of a safe working environment that supports early intervention and prevention where possible.  The following University initiatives are having a POSITIVE impact on my well-being; Flexible working arrangements, Regular check-ins to ensure connection and inclusion during the lockdown and remote working, Senior management showing authentic support, 'take-a-break' initative and slow-down week, as well as a strong internal culture that supports kindness.\",\n",
              "       'The Universities have moved from being a place of learning and development to just another business model seeking to turn a profit. And it is evident in how they treat staff and students.',\n",
              "       'The Uni offers a lot of \"support programs\" however the reality seems different, in some departments.',\n",
              "       'The syllabus should put into effect the psychological, physiological, and wellbeing support that it supports (practise what you preach)',\n",
              "       'The survey questions of position are HE, not VE. Small things like this impact VE morale - we continually feel overlooked and not as important to RMIT as HE programs.',\n",
              "       'The support we as students have received from the university in lockdown has been abysmal. No extensions despite studying in a course that requires access to the studio. No adjustments to course fees despite not having access to that which we pay for. This has had a major impact on our mental health, view of the university and general wellness.',\n",
              "       \"The study load should be reasonable because we are in strange and difficult time facing this pandemic situation.  For example,  last semester some teachers were making the study hard to us and this is what makes life harder especially for international students. While that semester conducted online and nothingwas change in the marking criteria, some students got mysteriously judjed and recorded low scores while they are excellent in everything. I was one of those students who found that RMIT grading system isn't fair at all.\",\n",
              "       'the slow down week initiative is a fantastic way to show staff that they are understood, listened to and valued.',\n",
              "       'The sexual harassment experiences of female staff members should be handled with more respect and care from management. There needs to be an understanding from management of the psychological impact of being a victim of sexual harm. Staff members and management need to be held accountable for the impact they are having on staffs mental health.',\n",
              "       \"The School of [redacted] is a well managed and happy workplace, some may complain about the system we work under, I say its the best job that we could ever have. Its quite a delightful community to work at from my perspective. The Dean of the School is an outstanding, strong, robust, and capable leader, the Dean of research is equally so, and my program manager ([redacted]) is exemplary not to mention, a decent and lovely human being. All of my line management is superb; they have one happy camper in their midst (me). Yet I am very disappointed in my job from the perspective at the level of self-obsessed, miserable, doom and gloom perspectives that staff can be seduced by. Yes we are in challenging times but the only way out is forward with a positive and go getter attitude. I feel that staff in general can often be seduced by a self anointed collective pessimism of COVID-19, the future, life in general and they need to get some firm perspective on this. I have had two family members die of COVID-19, I know more than anyone what its like to be challenged by the pandemic but I refuse to be impacted or be lulled into mental health issues (given I have none). The world is, even in pandemic times, a happy and decent place because I make it so, I say it is so, and I work hard at keeping it so. We are leaders of students and our leadership starts at home. I am strong, I am determined, I am RMIT. As a long standing RMIT staff member, I'm proud of the place I work at, I'm proud of the leadership around me and I refuse to be succumbed into a self-appointed misery which to be honest, staff need to toughen up and drive a leadership of 'us' not 'me'. This is the time our students need us. We cannot be obsessed with ourselves. We must resist conspiracy theories, collective bemoaning, we need to toughen up, happily comply with government health orders no matter what our governments ask of us, place our faith in peer reviewed science, and lead our students with hope and resilience,\",\n",
              "       'The restructure was difficult on staff and managers. It is pleasing to see the support from my manager now things have settled down, especially as we moved into Lockdown 6. I hope that middle management are being supported it seems tough to get the job done with reduced resources while also meeting our mental health needs.',\n",
              "       'The psychological frameworks for “mental wellbeing” at RMIT largely ignore other ways of thinking about health and wellbeing (like cultural or structural approaches, which have significantly more impact on my mental wellbeing).',\n",
              "       'the ongoing lockdowns are affecting me negatively and my motivation levels. My positivity and general enthusiasm is overwhelmingly better when I can work as normal',\n",
              "       'The managers and executive do really seem to care about staff wellbeing, which is appreciated.',\n",
              "       'the Management/leader levels at university should have an ongoing discussion with their staff and students regarding the mental wellbeing. There should be more dialogues and activities/events in this area for staff and students to participate especially during the pandemic time where most people feeling stuffy and suffocated being under lockdown blues or more health issues.',\n",
              "       'The loss of staff in the past year and the lack of ongoing or even fixed-term opportunities has severely impacted upon my health. I work 6 days a week but get paid for 3.5, I have no medium- or long-term prospects with RMIT and I have to fight every week for external funding to conduct my research. I am regarded as a highly promising ECR and every day I look on SEEK to see if there are any lowly-paid but secure and low stress jobs outside of the university sector. This job is killing me and my colleagues.',\n",
              "       'The lockdowns in melbourne are now becoming increasingly hard to deal with from a mental health perspective.  Its impacting my kids as well as my ability to be positive and concentrate',\n",
              "       \"The lockdowns are the major factor contributing to the stress and uncertainty of life currently. RMIT's flexible arrangements and hybrid ways of working have been a saving grace.  I feel that working at RMIT is the one thing in my life at the moment that is a constant providing me with routine and purpose.\",\n",
              "       \"The lockdowns are both creating more work and a pervasive sense of uncertainty. It's a tough time and the now long term inability to book leave for trips away makes it feel like there's no opportunity to re-charge ahead.\",\n",
              "       'The lead up to Open Day has been a particularly stressful and busy time. A seemingly relentless workload has come with it. While most of the people in my team are coping well, negative attitudes (from one in particular) have unfortunately affected an otherwise positive outlook.',\n",
              "       \"The lack of transparency about the staff cuts was stressful. Workload issues continue to be challenging as a significant amount of good teaching and learning practice is not about the number of contact hours but the relationship you have with students and colleagues. I know these are hard to quantify, but there seems to be no understanding from the administration of the academic workloads, let alone an appreciation of academic periods. For example, unreasonable deadlines, when it is peak marking period. The cutback in academic support is also not acknowledged, with academic staff expected to fill in the gaps. I don't think spreadsheets are my best qualities, but I thought I was hired for my teaching and research not admin skills. Having said all of that, I and I know many of the colleagues do try our best to be proud of what we do and of the institution, but sometimes, even just sometimes, it is good to be acknowledged genuinely - not three word slogans that are empty. I also recognise that perhaps this is the nature of the tertiary education sector - as we do hear the same from colleagues in other universities. All the best with your research work - hopefully it can not just shed light into the real situation - but also find ways not just to have more well-being workshops, that tend to say that the problem is with the individual staff. So, you need mindfulness training. But to get the leadership to truly acknowledge, recognise and work together with staff to genuinely address the issues.\",\n",
              "       \"The lack of physical, in-person classes have really been a detriment to my life happiness. I feel very little connection to RMIT or others in my cohort, and generally I feel rather socially isolated. Last semester, I was able to have some in-person tutorials, and they really boosted my confidence and mood. RMIT doesn't control covid, but I really hope that the university doesn't lean too heavily into having online-based study once things go back to a pre-covid state.\",\n",
              "       'The inability for students to get back on campus has been terribly managed by RMIT. There were barely any cases last semester and I was allowed to go in for 1 hour per week. This has had a dramatic impact on my own and my classmates mental health, education and engagement with their education with most of us considering other universities with more on campus and practical opportunities.',\n",
              "       \"The failure to recognise the devastating impact of the redundancy process last year and the loss of colleagues - which continues this year. There has been a 'that was last year, ooh this year is so exciting' vibe since January. The ongoing effect of us having to pick up their work and compensate for their absence has eroded wellbeing. The failure to recognise the organisational actions and processes to wellbeing is reinforced by the incessant 'you can access EAP' individualising of responsibility for wellbeing.   The demands of the [redacted] development and the unrealistic timelines - which seem to ignore the realities of academic life during semester (even with the workload allocation) - are likely to affect wellbeing.   The gap between rhetoric and reality was driven home by [redacted]'s farewell. [redacted]'s commitment to reconciliation was enfused through the event and the evident respect of the Indigenous participants was so clear and heart-warming. Yet, the loss of so many Indigenous colleagues last year, the contested dismissal of the most senior Indigenous academic and the consequent lack of people and resources to continue that work is the reality we face.   The handling of this year's lockdowns at the local level has been poor. Platitudes abound but with little opportunity to provide time and spaces for people to talk about the ongoing grieving of last year's losses, or the impact of working remotely or the pressure of teaching students who want to return to campus but can't, and the isolation of lockdown.\",\n",
              "       'The face to face interactions of learning have been a great loss.  RMIT lectures and tutorial teachers have done an amazing job in the current covid climate to keep our studies going. They are to be commended.  RMIT have done what is needed to survive without Government assistance. The longer these lockdowns continue, the more disillusioned I become.',\n",
              "       'The environment (on campus) that we work in is difficult, like a time capsule from pre-covid times despite the fact that our working roles (and needs) are completely different now.  The spaces need to be urgently reconsidered/redesigned to support current ways of working- which are hampered by everyone being crammed together into small open-plan areas despite each of us regularly needing to be on different computer-based meetings, generally at the same time. The level of background noise and an inability to properly participate in the meeting that you are \"attending\" are constant hurdles to productivity. It\\'s even worse when your role is often to host/facilitate those meetings or presentations (whcih my whole team needs to do regularly) with colleagues sitting alongside talking (loudly because of the muffling effect of the masks they are wearing) into their own headsets....  This is creating HIGH levels of stress and distress in our work area and is affecting our mental health.  We need break out spaces and quiet rooms as an absolute priority, and the tech upgrades to allow us to work professionallly in a hybrid environment (e.g. properly set up meeting rooms that allow for hybrid Teams meetings with multiple participants).',\n",
              "       'The efforts RMIT have made to provide resources and support for mental wellbeing throughout the lockdown have been so valuable and much appreciated.',\n",
              "       'The demands are much more than they used to be. There is little sense of team now that [redacted] college has begun - everyone is too busy. I used to love my job now I don’t. The culture of Rmit has changed for the worse.',\n",
              "       'The decisions of upper management / executive staff are made without consultation with staff. Staff who are actually doing the work day by day should be consulted before decisions that directly affect them are made. The introduction of Workday is a clear example that the relevant staff who will work in Workday every day were not consulted and now we are cleaning up all the errors. This directly affects our wellbeing as the level of stress could have been avoided with greater consultation with staff who will be using the Tool every day.',\n",
              "       'The current insecurity of employment within the social disruptive context causes unsettling emotions. The well-being support offered by the University helps managing this. The ongoing insecurity, going back and forth makes it challenging and asks for adaptability at all times. Promotion of mindfulness is essential in my opinion. Thank you.',\n",
              "       'The culture of [redacted] has manifested a heavy workload, there needs to be more balance for a healthier relationship with study and education.',\n",
              "       'The COVID-period environment obviously has an a significant impact on my answers.',\n",
              "       'The counselling staff at RMIT are amazing, particularly my counsellor [redacted]. She helped me with family issues and gained confidence in my ability to do well in my assignments. I also loved the care packages with tea and affirmation sent to my address, you should keep that up, maybe add a journal.',\n",
              "       'The continued impact of restructures and a resource restraint environment well into 2021 cannot be underestimated. This creates workload pressure on staff, which impacts wellbeing.',\n",
              "       \"The constant changes in university processes, procedures, and structure make things much more difficult and challenging, in the time of Covid, than they need to be.   It would be nice if upper management didn't always think that they have to continually change things for people to notice that they are there.\",\n",
              "       'The communication and management support in Lockdowns 4, 5 and 6 has been excellent.  I am extremely grateful to upper management in [redacted] for starting Semester 2 later. It gave us a small rest. However, most of us teachers are seriously worn out. The hiring process for new staff needs to speed up so that replacements can be employed faster to fill gaps.   A month ago I was exhausted and would have ticked low on all scores. Re-designing all my class topic schedules for Lockdown 5 made me feel very grey (not quite black dog). Student interactions cheered me up.  The new College of [redacted] management is a breath of fresh air. For once, I feel someone in high management is listening to us at the teacher-student interface. That helps when we are working so damn hard during Covid. [redacted], [redacted], [redacted] and [redacted] have been superb in leadership, advocacy, logistics, and sensible, sincere support.',\n",
              "       'The biggest game changer for me was working in a cross-disciplinary group with a common interest in education.  Without a weekly contact with a learning designer and members outside my team with a keen interest in education, this position would be unbearable.  It is this team that provides inspiration and hope and helps me to see the bigger picture.  The lack of face to face and student interaction is making education really difficult and is not why I am still involved in education.  The lack of support from my direct line manager in terms of education resources/administration awareness has me considering alternatives, however it is being with like minded souls, with similar passions that keeps me here at RMIT.  Please consider having educators manage/lead/support educators, not box tickers who have no concept of learning or understand the student experience.',\n",
              "       \"The announcement of the 'take a break' initiative is truly appreciated. I think a lot of us are suffering from lockdown fatigue, so the support is valued.\",\n",
              "       'The amount of extra pressure new systems put on the staff across the university is immense specially after a major restructure in 2020.',\n",
              "       \"Thanks for the opportunity to participate. I want to say overall that I think despite how I am feeling, that I appreciate my colleagues and leadership are also impacted by the current challenges and I feel they are trying their best to be supportive, but this is also hard for them. Part of the challenge is that there is a burden in knowing how difficult it must be for so many in society right now. Having a job right now, and being able to contribute to RMIT and colleagues and students is something that I'm grateful for and this gives my life a lot of meaning and structure.\",\n",
              "       'Thanks for the opportunity',\n",
              "       'Thank-you for this survey, which I feel is prescient in view of the rolling lockdowns. When working from home began in March 2020 I was very apprehensive that remote working would not be effective for specific but significant aspects of my work. However, these apprehensions proved to be unfounded and I discovered new inner resources and energies to adjust to the changed living and working environment, personally, socially and professionally. I do miss social interaction with my colleagues, but I am very pleased that the University remains amenable to hybrid working arrangements',\n",
              "       \"Thank you for the survey at first. Honestly I had difficulties for studying or survival because of the pandemics (lock down) since last year. I have my family in Adelaide. I am working and also studying at RMIT in Melbourne. It has not been easy to do both tasks honestly. I had my youngest sister passed away in Korea as soon as I moved in Melbourne for the first time. And I had my father passed away last September during the lock down last year. But I haven't been to South Korea to say goodbye to him yet. I am still so sad whenever I think of them. I have been missing my family in Adelaide also. Before the outbreak of lock down, I went to Adelaide to see them at least one month. I couldn't do very often last year and this year, which makes me so stressful and lonely. These kinds of sorrow and stress badly/profoundly affect my studies although I still have special enthusiasm on it. Of course, I am trying my utmost and endeavor to complete my study as possible as I can at any rate.  Thanks again.\",\n",
              "       'Thank you for including LQBTI+ options, it helped me feel more welcomed by the University especially after the Australian census that did not include them',\n",
              "       'Thank you for doing the survey for staff.', 'Thank you',\n",
              "       'Thank you',\n",
              "       'Teachers needs to be more understanding of their students condition and check on them. Give them time and be more helpful/ informative with assessments.',\n",
              "       'Survey taken during lockdown, mental wellbeing more so affected by this than the university environment',\n",
              "       'Support seems much stronger for general employees than for Program managers who are overloaded',\n",
              "       'studying online is hard', 'Studying online :(',\n",
              "       'Studying is always going to cause some level of extra stress for me as I juggle my job and other things going on in my life, like most people. In general I am coping ok, and just looking at the end goal and how my studies are going to help my career. Some days I can feel more stressed than others depending on my workload, but I just try to get the work done asap. I think its great that RMIT are there for there students if they feel like they need to reach out for support.',\n",
              "       \"Staff meetings have been open and honest in terms of talking about staff's mental health, particularly in lockdown 6, which is nice to see and hear. Great that talk about mental health is being more 'normalised' and something I hope continues after the pandemic. Overall I feel supported and listened to by the colleagues, and a sense of community which is reassuring\",\n",
              "       'Staff in leadership roles should be required to complete Mental Health First Aid training.',\n",
              "       'Staff have been supportive of my wellbeing. I have had very little contact with other students this semester given I have been doing placement. Placement workplace was very supportive and engaged with staff wellbeing.',\n",
              "       'Spacing and number of assignments in semesters.',\n",
              "       'sooner response rates',\n",
              "       'Sometimes the work load is a lot combined with balancing life and work.',\n",
              "       'Some broader principles on how to be to be socialised on how to work from home most effectively.  18 months in and it feels like we are still learning on what works best for most people - adopting board principles for professional staff could help improve mental well-being for many people.',\n",
              "       'Social interaction with work collegues and team is not existent.',\n",
              "       'Shifting from face-to-face and online constantly due to lockdown. Maybe decide beforehand (before semester  starts) and devise a sound strategy of delivering content as well as assessments in a clearly explained manner.',\n",
              "       'Services that the University provides - impacted by WorkDay, increasing stress and responsibilities of my teams in relation to new systems that are not fully operational',\n",
              "       'RMIT’s handling of the systemic affects from the pandemic have not been met as effectively as other institutions',\n",
              "       'RMIT university is Awesome for good study.',\n",
              "       'RMIT University environment is healthy',\n",
              "       \"RMIT staff and management have refused to acknowledge their responsibility in facilitating a fraudulent internship placement in 2020. Some financial compensation was issued but no apology or acknowledgement that they had made serious mistakes in their duty of care towards a student on overseas placement. The only reassurance that systems would be changed to ensure this doesn't happen again was from the complaints case manager informing the incident had led to change. But I have no evidence of this and am forced to trust a department that has proven through other less serious incidents that they do not act in a non-biased manner. I hope this is recognised as very concerning.\",\n",
              "       'RMIT significantly contributes to my daily stress level',\n",
              "       'RMIT provides a safe and secure environment for its staff and students',\n",
              "       'RMIT needs to make a decision on the future of the University and what importance they are going to place in industry engagement.',\n",
              "       'RMIT needs to do a lot of work on culture and psychological safety; we need to build respectful leadership behaviours and a trusted environment.   Whilst we may have an outstanding Interim VC and CPO, but it takes a long time to transform culture.',\n",
              "       \"RMIT is really committed to the wellbeing of its people and has extensive leave options - this is more that I've seen at any other organisation I've worked at.\",\n",
              "       'RMIT is handling things well and I feel supported by leaders but beyond the work scope of life things are challenging and that is impacting my ability to be productive.  I am also fearful about the long term impacts of the pandemic for our part of student experience delivery.',\n",
              "       'RMIT is a fantastic place to work, however, there are some structural issues (overemphasis on hierarchy) and limited opportunity for advancement in certain areas that make working effectively challenging and more draining than it needs to be.',\n",
              "       \"RMIT is a business. I have worked at other universities in Europe and in industry. RMIT views it's workforce in the same way as a manufacturing company does. It wants to maximise its profitability/output - it is a teaching factory. The management at RMIT prioritises revenue creation above all else and is using the COVID crisis to move to online delivery to reduce it's overheads. It was moving that way prior to COVID and is capitalising on COVID's impact. Caring about the workforce means managing workload not simply putting a link on the intranet to a counsellor.\",\n",
              "       'RMIT has supported me mentally during the long period of WFH (working from home) for the past year. Regular calls from the manager and some occasion chats and call with colleagues. I feel like it may not be enough for me with just checking on with each other. I hope there is some sort of activities to take our minds away from work and home for like a mental stress relieve.',\n",
              "       \"RMIT has been amazing at checking in on our wellbeing and ensuring that we are safe by allowing us to work from home and giving the option of flexible hours. I'm greatly appreciative for that.\",\n",
              "       'Rmit contacts and teachers are very understanding and helpful in helping assist my studies with my mental health issues',\n",
              "       'Remote induction and commencing work was challenging. I was impressed by the induction tools etc. but found the direct contact with people was lacking. This had a significant impact on my wellbeing and sense of connectedness from a remote working situation.',\n",
              "       'Relentless and high workload has the biggest impact on my wellbeing',\n",
              "       'Recurring covid lockdowns has a major impact to my responses. Whilst managers have been supportive and encouraged self-care, the restrictions do not permit or encourage that which perpetuates poor wellbeing.',\n",
              "       'Public transportation is only concern when getting called back to campus. Specifically during peak periods.',\n",
              "       'Provide us with a handful of free sessions to a psychologist or GP as incentive to look after ourselves and provide us with free mental health first aid training so we can help others',\n",
              "       'Positive impact on wellbeing include activities and events outside my course. These include dance classes, art and sustainability workshops.  Negative impact includes online classes as a result of lockdown and restrictions which is something the university does not have control over currently.',\n",
              "       'Please make available more financial support for students (and make it MUCH easier to access)',\n",
              "       'Perceived lack of concern/care at all levels of the organisation for staff wellbeing. Statements from the university and managers over the pandemic have seemed like empty platitudes. More concern for student wellbeing than for staff (who incidentally are the major providers of support/care to students). Who cares for the carers? RMIT senior management and middle managers need to \"walk the talk\" with authentic, values-driven actions. The new 5-day extra leave initiative seems the be first demonstration of genuine care that I have experienced in my time at RMIT.',\n",
              "       'People should be offered more jobs at RMIT so we can continue to share our knowledge with students and to teach so we can help to develop educated and professional individuals ready for the workforce. More jobs can also help with mental well-being by keeping busy at a moderate level which will all day help with financial stability.',\n",
              "       \"Our area has been extremely stretched for over 2 years. Long-term this is high impact to staff morale and wellbeing. While there has been some support provided this, this is limited due to the capacity of other colleagues. The most obvious strategy has been to direct us to watch our mental health, however this does not reconcile with expectations and practices--we are assured of their understanding but that consideration evaporates when someone wants something; senior manager makes commitments (despite recent discussions re significant issues with capacity); significant additional hours (people know but it's not talked about).\",\n",
              "       \"Online makes it hard to motivate yourself. People's internet connections dropping out, lack of students turning cameras on, a general 'meh' feeling from the students, teachers who don't know the technology side of things so delays in getting online etc have all been disappointing and impact the enjoyment of the course.\",\n",
              "       'Online learning is a difficult platform but can be achieved with the right weekly routines and structure. I have experienced beneficial online learning before and it lead to making friends and connections online. I think students need something to look forward to and a space to truly collaborate- not just listen. Especially in design, students need space to practice week by week with small design activities that allow cathartic expression so that these feelings of disappointment can be shared and normalised, so that we all can feel less alone.',\n",
              "       \"Online :( but I know that's not the uni's fault\",\n",
              "       'One word - Despair. Lockdowns affect mental health.',\n",
              "       \"Observe that people generally feel positive about their work, but burnt out and over burdened. Don't have mental bandwidth to engage with anything outside immediate stream of work, though the intention is there and its these things that make RMIT great.   Also, everyone is very hardworking. Very often colleagues work extra hours daily and/or on the weekends (not just people in management) with these extra commitments often factored in to timelines and not remunerated (they say 'take extra leave later' but the pace of work never allows for that).\",\n",
              "       'Not really - things can be hard right now, but studying and continuing to learn can help provide a light at the tunnel of a dark tunnel.',\n",
              "       'Not being able to have classes on campus has affected my ability to make friends, I only have one a person from Uni (as well as personal life) that i consider a friend. This has affected me mentally through not having a lot of opportunities to talk with class members or friends about work and just overall fill my social needs with.',\n",
              "       'Not being able to go to campus and not having the great \"university life\" anymore, in which we constantly meet supervisors, friends, colleagues, and people in general (in person) has impacted significantly on my wellbeing - way more than I thought it would. For those who are alone here (now not able to see family and other support networks outside of Australia due to COVID restrictions), being in this environment, in contact with people, was a very important component of metal health balance.    Also, the university has an amazing physical/technological infrastructure, much better than improvised home offices and their devices. Not being able to use these spaces anymore also had a significant impact. And it was great to be able to change work environment sometimes.',\n",
              "       'None as of now, online study is impacting my life much better than I though.',\n",
              "       'No, RMIT is a very supportive environment that has really embraced flexible work arrangements. The only thing that impacts well-being is fear of more redundancies.',\n",
              "       'No, everyone is doing their best to cope under the uncertainty and reduced resources.',\n",
              "       'No flexibility in making concessions to help students graduate on time.',\n",
              "       'No comments, but as we are still studying online coz of COVID-19 I wish there more support for students specially who lost their job, or as well to not be that’s strict with the due date of assignment coz we already under big pressure coz of online studies, & we have to be at uni special the [redacted] field as we have to be a practical [redacted] more than just submitting assignment, we have to pay fees & loans but we have been studying 2 years online I know it’s not uni fault it’s coz of COVID but at least to try to give us permission to go back to uni … thanks',\n",
              "       'Needs to have more communication with everything going on',\n",
              "       'Need more support and understanding when marking as studying and working full time and caring during COVID is a big challenge',\n",
              "       'my work and colleagues are helping me face the challenges brought by the pandemic, without them my mental health would not be as great as it is, they play a big role in my ability to stay strong',\n",
              "       'My satisfaction levels with my life have mostly to do with me and my work ethic and less to do with the university. I personally feel that the university has not been particularly supportive to me as a mature international student, in non-academic matters during the pandemic or even before that, when i was transitioning to live in Melbourne for the duration of my research. I see now that there is an orientation scheduled twice a year, however, it largely focuses on academic matters. It would be good for international students to be able to reach out to someone who understands the range of needs they might have. If such a service is available it has not been visible to me and probably needs to be better advertised.',\n",
              "       'My responses relate to when I am working on campus rather than working remotely under restrictions.',\n",
              "       \"My mental health status has been heavily impacted by the COVID situation for more than a year, because:  1. I haven't been able to travel to another country to visit my parents who are over 80 years old since the beginning of 2020. This makes me constantly worried. 2. I have been working from home since March 2020, which means that I've lost most of my social connections with colleagues. 3. HDR students are not allowed to enter Australia. I have to supervise students remotely but it is a lot more difficult than face-to-face. 4. Undergraduate students also have lots of anger and frustrations towards the current online teaching. We have to deal with their complaints which add frustrations on us as well.  5. Being work from home for almost 1.5 years, physically I am not as active as the time before COVID. This also impacts my mental health.   Mental health status affects my productivity heavily.\",\n",
              "       \"My line manager is wonderful. I feel psychologically safe with her and we have an open and honest relationship where we can discuss our feelings and frustrations. However, there are other very senior members of the portfolio who frequently behave in ways which are damaging to my mental health and sense of commitment to RMIT. They do not take advice, they play politics, they will happily throw me and members of my team under the bus. I also believe that there are other [redacted] members who behave in a similar way. They are more interested in empire-building than dealing with clearly articulated and palpable risks identified in some of our operations. There are very few avenues to raise these concerns because to do so could be career-limiting. As someone who has worked at RMIT for a long time, I don't think I've ever seen a situation where the personal desires of a staff member have been privileged over the needs of the University. That has been shocking to me. The behaviour does not align with RMIT's values and yet it is enabled by this person's senior colleagues.\",\n",
              "       \"My greatest asset is my Christian faith and community. That is why I am able to maintain a sense of mental health and wellbeing. The workload has been 100% detrimental to mental health. There is a sense of hope coming from our new Dean about positive changes. The anticipation for changes moving forward offers hope but only when it is translated to reality, we'll wait and see.\",\n",
              "       'My experiences have mostly been positive whist studying at RMIT, however it can be frustrating working with the bureaucracy through the on-line software the University uses. The CANVAS assistance tool has been able to navigate me to the outcome that I required, lowing my short term stress levels and allowing me to concentrate on my studies.',\n",
              "       \"My direct manager cares about my mental health, but I don't see the higher management caring the same.\",\n",
              "       'My direct line management and school community are a wonderful support network and community. I feel supported by my manager and my team. open regular communication and making time to just hang out and chat has been a huge part of keeping this culture during covid.   Sadly these feelings are despite lots of barriers and challenges caused by more central teams and processes. so much time is spent trying to overcome a process or system inadequate for the service it is meant to deliver. these are the things that make me feel burnt out when i am constantly working to try to overcome a challenge and see no improvement. (timetables resourcing, international compliance process, openday teams communication, workday implementation, ITS resourcing)',\n",
              "       'MY BEST LEARNING ENVIRONMENT IS ONE WHERE I HAVE FACE-TO-FACE LEARNING.  IN THE CURRENT COVID-ENVIRONMENT, IT IS MY OPINION THAT THE UNIVERSITY HAS NOT PROVIDED SUFFICIENT LEARNING TRANSITION ASSISTANCE TO COPE WITH THIS CHANGE.   LEARNING TRANSITION NEEDS TO CONSIDER AGE, CULTURE AND GENDER TO PROVIDE SUFFICIENT GUIDELINES FOR HOW THIS IMPACTS THE INHERENT BIAS AND BARRIERS TO ASSIMILATE THIS NEW LEARNING ENVIRONMENT.',\n",
              "       \"Most of the responses would be very different I think if we were not in lockdown. Many people I've spoke to feel exhausted, both mentally and physically. I feel the same way.\",\n",
              "       \"Most of the problematic issues are beyond the University –\\xa0ie. the political dimensions of the higher education sector being held in contempt by our Federal Government. This does effect one's sense of societal purpose.\",\n",
              "       'More specific support could be given to students with learning disabilities such as [mental health] neurodiverse to manage study better',\n",
              "       'More recreational areas',\n",
              "       'More psychological help that is easier to connect with',\n",
              "       'More open conversations and options for remote working and support to staff/student population, perhaps a forum or open communication page within RMIT to post and discuss concerns and daily life.',\n",
              "       \"More meaningful discussions with management, that they really listen to individual's needs/circumstances, not just bunch us all together and treat others more favourably ie: ones they have had a past history with, the more vocal/confident ones always get what they want\",\n",
              "       \"More engagement and encouragement in societies, I feel like it's hard to join these kind of things when you're online. I understand it's difficult as a university to fix that during a pandemic.\",\n",
              "       'Mental wellness programs can improve for international students who are staying away from home country for long durations.',\n",
              "       \"Many initiatives 'from the top' mean well. But there is still far too much of a gap between the top levels of management and the day-to-day activities of research and teaching. It seem this gap will remain unless and until we ditch our Soviet-era hierarchy in favour of something more modern, agile and based around academic Schools.\",\n",
              "       'Lockdowns make it hard, sometimes navigating that can be a roll of the dice and the staff are under so much pressure that it flows to the students',\n",
              "       'Lockdown has always impacted my ability to study. With three lockdowns already in one half of the year, I have found it increasingly hard to focus. I usually appreciate online learning,  but I think the weight of lockdowns really impacts my ability to focus and enjoy study currently',\n",
              "       'Lockdown',\n",
              "       \"Leaders/Managers reaching out to individuals to check in and see if they are doing okay personally - rather than just sending broader umbrella emails to all staff.  When working remotely, you can just feel like another number and that no one would miss you if you weren't there.\",\n",
              "       'Lack of staff within my team which has created extra workload on myself. This has had a great impact on my health and well-being. Implementing new systems i.e Workday during these difficult times.  Some areas in the University have changed their processes (could be through lack of staff) where more demands are put onto the Schools.',\n",
              "       \"Lack of personal interaction and continually working from home is impacting my enjoyment. Even when we were allowed back on campus recently, the tendency for large numbers of colleagues to continue spending large parts of the week at home was not conducive to a positive work environment. Wearing a mask all day makes for a negative experience. I do not blame the university for this, however, as I believe it is doing all it can within the state government's constraints.\",\n",
              "       \"Knowing that the government has not financially supported Universities is worrying. I'm concerned about student experience and wellbeing and potential loss of future students. I'm concerned about possible changes to my program and school. I'm concerned about how I'm going to continue teaching my students online. I'm worried that I am unable to continue my research.\",\n",
              "       'Just about the lockdown I really wish to be on campus to explore and learn much more, but I know is a hard moment for everyone',\n",
              "       'Job security whilst closed borders prevents international students from returning to Australia',\n",
              "       'It’s tough for everyone, my current lecturer is very understanding of people’s struggles',\n",
              "       \"It's a tough time for everyone and my job is hard to do at home.\",\n",
              "       'It\\'s a bit sad that not many people are sensitive to the \"Are you OK?\" I think the current situation with COVID has created a gap between people rather than make people carrying for each other as we would expect.',\n",
              "       'It would be nice if the university can provide more advice and encouragement to our career future.',\n",
              "       'It is very different being a student to being a staff member at RMIT',\n",
              "       'It is important to support staff in different ways such as non-monetary rewards. This initiative should be translated into behaviours.',\n",
              "       'It feels like there is no university environment (I had my first year all online and this is my second which has mostly been online)',\n",
              "       'Isolation and feeling of bing lost is a major part of life with all the uncertainty with Covid',\n",
              "       'Irregular time on campus due to lock down/restrictions leads to disconnection from program and others - in 2020 there was a deliberative effort to counter this.  This year some things arranged but they\\'ve been ad-hoc.  Communication from 1) overall management and 2) further info from school re campus access/procedure and remote v face-to-face teaching has been largely clear and this can have a big impact - knowing what\\'s in store for \"next week\" the \"next two weeks\" \"for now until restrictions are expected to ease further\" - some times this has been done better than others',\n",
              "       \"Increasing pressures on workloads, expectations, 'tick-the-box' type of support have definitely impacted my mental wellbeing.\",\n",
              "       \"Increased workloads have been challenging to juggle. Whilst I am much more productive working in a hybrid (remote/on-campus) environment, it is very easy to get caught up in back-to-back meetings. The short breaks I would normally have walking between meetings or incidental chatting with colleagues isn't there. I am working over time a lot more than I have previously.\",\n",
              "       \"In response to my survey answers, I would like to clarify that RMIT sends communication about well-being, especially throughout the covid lock-down period. On the surface, it appears as though all the right language is being used and that RMIT is a caring and compassionate organisation. But the reality is very different. RMIT professionals lack basic human etiquette and understanding when to reach out to a staff member, fellow colleague or student as necessary. Demonstrating genuine concern is non existent and conversations are clinical. Authentic care comes naturally through conversations and when not done properly it feels fake. Language such as 'be kind to yourself' and encouraging people to take time off is meaningless when the workload doubles during this period and one finds it even more difficult to catch-up. If mental well-being is of concern, then realistic workloads and timelines should be the norm so that staff do not constantly  feel overwhelmed.\",\n",
              "       \"In relation to the questions about the support RMIT offers for the mental wellbeing of staff - it is not so much what RMIT says it does, in terms of policies and communications - but how that is role modelled. It makes very little difference what the strategy is, if staff members don't see these wellbeing initiatives being implemented on the ground.\",\n",
              "       'In our vocation division senior management need to be trained in communication and remove the culture of us and them. Theory need to learn to stop their leadership style of top down, to keep talking down. We in this together.',\n",
              "       'In comparison to other sectors, RMIT is extremely supportive',\n",
              "       'Immediate supervisor is supportive and caring, as is the Interim Deputy VC in the portfolio.',\n",
              "       'Im hoping that once we get back to working from the Office that will will be given more opportunity to work from home.  Due to health reasons I find that the travelling each day makes an impact on my work life balance.',\n",
              "       'id like the outdoor area in building 80 to open more',\n",
              "       \"I'm okay.\",\n",
              "       \"I'm looking forward to getting back to class as the subject I'm studying is about collaboration, via design thinking.\",\n",
              "       \"I'd say the language used and the care shown is great, although the behaviors and work load don't always match up with what is being said.  We talk about priorities but we never not work on something, everything seems to be a priority\",\n",
              "       \"I'd like to say it has been difficult at times, I think the aspect that separates myself from some groups is that I have a strong senses of where I would like my life and prospects to be in the next few years. This has given me a strong sense of what to do, how to stay motivated, personal structure when others feel unstructured, motivated, happy and driven to my study when others struggle to get out of bed. The reason I feel this needs to be said is because, I consider myself part of a minority sometimes, but because I tackle my uni with a holistic approach is why I believe I am able to achieve what I acheive. Thank you for the time, Be well.\",\n",
              "       \"I'd like to return to the office more to be with my colleagues. I'd like to feel my workload was more manageable so I could take leave. I'm lucky I have a wonderful manager.\",\n",
              "       \"I would really like to see more conversations from managers to their staff about their mental health. There seems to be still a lot of stigma around the conversation of mental health. It is possible that managers don't feel equip to talk to their teams about their mental health struggles. I would like to see RMIT providing mental health and wellbeing training to their staff.\",\n",
              "       'I would love the opportunity to work from the university and not always from home. It would just feel like a change of scenery which would be amazing.',\n",
              "       'I would like to THANK!! my manager and team at [redacted] Portfolio for such caring and skilled management of work and wellbeing during this very unusual time. A very positive work environment, great people & great communication.',\n",
              "       'I would first like to say that this is the best job I have ever had and RMIT is an awesome place to work.  However, there are a lot of us that are being asked to perform tasks that are outside of what we are qualified to do, which is fine, I understand that under current conditions that we all have to adapt, but we are getting next to zero support or bare minimum training and there are a lot of staff, myself included that are struggling with that.',\n",
              "       \"I would be great to have more Teams Live updates from VC / Senior Exec Leaders, I find the newsletter absolutely fantastic and have taken up a lot of the programs offered for wellbeing. RMIT really display a genuine care for peoples wellbeing through the support and reminders of how you can find this. Having started in 2021 I would say it's taken longer to find my feet / get to know people in extended teams across the University, and having come from out of sector, this has been tricker, if there was more support for new people working in the constant lockdowns that could be something to look at?\",\n",
              "       'i wish we could have face to face class but because of this pandemic we cant i am happy  how we doing now',\n",
              "       'I wish there were less weekly activities that are marked on for participation, as a student who’s usually on top of there work I find this really stresses me out on top of all the other work we have due and classes to attend. Especially during lockdowns.',\n",
              "       \"I wish that important subjects of my studies would provide more practical hours on campus rather than just 2h, it would help with my learning process better and I'd feel more confident with my knowledge.\",\n",
              "       'I wish more support was given to lecturers so they could provide above standard content rather than mediocre',\n",
              "       'I wish Lectures were presented live and then recorded. Even if there were premier times of recorded videos, so i was watching the lecture with other people in the course, i would love that so much. I miss campus.',\n",
              "       \"I wasn't aware of the chaplaincy service and since reaching out to them I am very grateful for their help especially during covid and think the service should be promoted more widely with students\",\n",
              "       'I think workload and mental health needs to be more real - and people need to be listened to better.  At the moment these concepts are lip service and abstract.',\n",
              "       'I think we need to be mindful of closing out actions and being faster to act. Quick action shows care and thought. When we stretch things out, they tend to have a lesser impact.',\n",
              "       \"I think we are all struggling to different degrees with the yo-yo situation we are in at present with lockdown etc and I don't feel that the University's response (or feels like a reaction) to this is supportive when the push is for employees to be back on campus and 'part of our vibrant campus community' as soon as we are released from lockdown. It feels very much out of touch with actual pressures that people are experiencing currently. Not just as a result of lockdowns but also as a result of the additional workload people are carrying as a result of the recent rollout of the Workday system.\",\n",
              "       'I think under the current pandemic situation RMIT is performing well and doing best they can given the dynamics of Covid impact on everyone within & outside the unversity work place.',\n",
              "       'I think the view of the world is very different due to the lockdowns etc, but I think my uni is doing everything it can to support mental wellbeing at this time.',\n",
              "       'I think the upper echelons of the University are concerned about mental health and wellbeing.  In light of the pandemic however, the University made cuts to staff last year which impacted our work levels.  Our immediate managers have been more concerned about productivity than anything else.  We have even lower levels of staff in some areas right now due to unexpected job turnover - some of which is symptomatic of staff workloads and disengagement.  Our managers seem unaware of this and therefore are not very in tune with team members regarding levels of stress/workload.  Our clients come across as more understanding of our function/task list/workload than our managers.',\n",
              "       'I think the university and in particular the [redacted] college is actually very supportive and mindful of the current lockdown situation here in Melbourne.',\n",
              "       \"I think that while the university communicates often about the importance of wellbeing, there feels like a lot of talk but very little meaningful action. I don't think the university environment currently fosters a sense of belonging and I often feel isolated from my peers and colleagues which has a significant impact on my wellbeing.\",\n",
              "       \"I think staff are definitely experiencing screen fatigue. Some are working much more than the 7.2 hours a week as it's hard to switch off and separate work/life when working from home. I feel very fortunate to be so supported in my team and have such wonderful colleagues to work with. My manager has been wonderful during the adjustment period and changes as a result of the COVID-19 pandemic. I am very appreciative of the continued support provided by RMIT.\",\n",
              "       \"I think some very meaningful care has been shown through flexibility around remote working through this time, as well as helpful supportive resources and sentiments shared by senior leadership in my area (which, as well as being useful, reflect the authenticity of their understanding and engagement with the relevant issues for their teams).   I hope so much that it can be noted how much some of us have thrived outside of a more overtly 'social' working environment, where it's been newly possible to invest our introvert energy into our projects and collaborations, un-drained by the more social aspects of work. Of course, it's impossible for managers to 'please all the people' and accommodate all the working styles, and the social needs of my extroverted colleagues are at least as important as my own preferences. But to speak just for myself, since the shift to WFH, I have never been more productive, focused, driven or energised in my work.\",\n",
              "       'I think RMIT policy leaders may encourage seeking mental health support but I feel that the culture of corprotisation of the uni, fee hikes for my degree, larger tutorial sizes, cut classes, etc, significantly negativey impact my experience at uni and overall experience of life, a uni is such a large part of my life',\n",
              "       'I think RMIT is doing a good job during difficult times on the wellbeing front but workloads are getting very heavy for some people.',\n",
              "       \"I think RMIT generally does a great job of visibly promoting a culture of wellbeing, displaying awareness of the importance of mental health and providing support mechanisms for those who seek assistance. However, I'm not sure that always trickles down to the day-to-day work / team level. Although it's not something I've directly felt myself (personally, I feel very well supported by my Manager and workmates), it's hard to watch colleagues struggling to balance their own work/life commitments with little support or understanding from their own managers - as long as the work is getting done, alarm bells don't seem to go off. Some Managers appear to handle this much better than others, but it would be great to see more accountability in that respect, not to mention more support and training for Managers to help them identify where staff are having difficulties.\",\n",
              "       \"I think RMIT does it better than most. It's been a truly awful time for so many people. My boss has been very supportive with the time i needed to take off 2 weeks ago and i came back feeling a lot better.\",\n",
              "       'I respect RMITO CEO, Helen Sounness and feel like she genuinely cares about her people.',\n",
              "       \"I really enjoy the RMIT wellbeing Facebook Connect group - it's nice to hear from others, and they always have great inspirational material.  I also find emails from the university, describing ways you can manage exam/assessment stress helpful. It's nice my lecturers check in with us every week at the beginning of class to see how we are doing.\",\n",
              "       \"I really don't like the online learning last semester since we didn't have any look downs till the end of the year I was able to make connections and felt easier to ask questions to tutors.\",\n",
              "       \"I love the way mental health and the importance of taking care of yourself is emphasised from management.  the reallity is that pay cycles and other deadlines don't stop for lockdowns. I don't really think there is a solution, but I like the acknowledgement. I feel very lucky to have an amazing manager who is very supportive of my home schooling/working from home/lockdown situation, and I know that this experience is certainly not universal\",\n",
              "       'I love many aspects of what we do, particularly the ingenuity and collegiate nature that has come from adapting our teaching etc practices because of the lockdowns/restrictions during the covid year. However, it can be challenging sometimes working face to face then suddenly remotely again - with a fair degree of uncertainty. There has been significant extra work developing materials, redeveloping materials to adapt to the sudden changes from face to face to online and vice versa. Also there has been untold extra administration work involved with covid related processes - none of this captured in our workloads. Our colleagues have all acted in good faith and have done whatever was/ or is needed to keep everything afloat - above and beyond. This is in context of already extremely/dangerously high basic expected workloads.  I fear the picture has become untenable. It has already taking a toll for many already - both physically and mentally, people leaving, seeking alternative employment. I am so relieved to know that this is being captured by the University - there is nothing worse that suffering in silence. Something needs to be change, that is my strong message.',\n",
              "       'I like my job and the people I am working, the things that I find really hard now is the pandemic (create anxiety), the impact of the restructuring (still doing my current job - I have app a dozen project each year, plus adjustment and additional tasks / meeting time in my new dept, trying to figure out who did that before the restructuring and how, extra communication and meetings), changes requirement from the external stakeholder that have to follow and staff that usually help already overload of work, slower network when working from home, the IT outage issues that preventing doing my job smoothly and quickly, not being able to go on holiday - due to restrictions.',\n",
              "       'I just wish there were more resources - ppl power. The cuts have really impacted workload. I originally come from high risk work in industry - typically burn out ‘on a platter’. Sadly, I’m now starting to think - for different reasons - academia may well be heading the same way. I understand systems aren’t perfect, but the demands are just far too much of late. Having said that, to stay in a job, we’ll all continue to do what we have to. Just wish it was different is all.',\n",
              "       \"I hear a lot of talk about concern for staff well being, stress and workload. But I don't see concrete actions being taken to reduce this workload or stress. In fact I see more and more actions being taken by senior management which has increased my workload and stress. As such it makes it hard to believe they truly mean what they are saying.\",\n",
              "       'I have worked remotely for almost my entire role at RMIT, and Melbourne is currently in lockdown six, so important context in terms of wellbeing and perspective at the moment.',\n",
              "       'I have worked in the private sector previously, and to be fair, RMIT is very socially minded, and this does reassure me and make me proud to work there.  Lockdowns and working remotely have taken a toll, but the staff attitude at all levels has been very tolerant and forgiving for the most part.',\n",
              "       'I have worked in different departments and roles during my time at RMIT and have experienced first hand the variety of cultural environments we have as an organisation. Depending where you are, your experience of RMIT culture, inclusion, wellbeing, safety and performance expectations may be quite different.',\n",
              "       \"I have the ability, thankfully, to cope reasonably well under stress so my answers reflect that I feel well and happy overall. However, my workload has increased enormously since Covid entered our lives in March of last year and this is starting to impact on my wellbeing, physically and mentally. I'm feeling continually stretched and working 6-7 days a week while also trying to be there for my family which includes two teenage children. The solution I think is systemic cultural change that addresses the absolute acceptance of long working hours for academics, which has got worse during Covid. It is not good for individuals mental or physical health or for their family's wellbeing. I think it will start to impact productivity because people are tired. It is already impacting staff morale. Solutions that focus on individual coping strategies do not address this.\",\n",
              "       'I have recently moved into a secondment role in a different portfolio. The culture and support for staff is markedly improved from the portfolio my substantial position is with. If I was completing this survey a month ago, I would have responded to the questions quite differently.',\n",
              "       \"I have only been at Uni 4 days this year so I'm not able to see my friends as much making studying harder as when I gets hard your friends get you through\",\n",
              "       \"I have major depressive disorder and studying (especially in times of COVID-19) takes a lot of energy, which I find a daily challenge. However I''m doing my best and RMIT have been supportive and I'm grateful.\",\n",
              "       'I have found my teachers to all be pretty conscious about our wellbeing throughout the current lockdowns and learning online. I personally am coping ok with the overall situation and feel confident that I can reach out to the ELS team and counsellors on bad days.',\n",
              "       'I have experienced moments in the last 12 months where the Student Wellbeing group has been so overbearing and risk-averse they have seriously impinged on the ability of a student cohort (of which I was a part) to grieve the loss of a fellow student and to do justice to his work and legacy. They controlled and sanitised the experience to such an extent that both students and staff were willing to forego participation in certain ceremonies.',\n",
              "       'I have enjoyed working at RMIT since the first day I joined and I am ok with all the flexible/hybrid way of working in response to COVID-19. However, I started to get a lot of stress after introduction of the new operational model known as Contemporary Way Of Working (CWOW). The model was meant to enable better understanding, alignment and collaborations across all teams/squads. At this stage, it is simply a channel for some teams to give work to others. This has caused a lot of confusion, frustration and stress, not only for myself but for my colleagues as well. Many may think such confusion, frustration and stress are more of a personal performance issue. Senior management may to address more on this and open up channel to listen to honest and genuine feedback, and provide practical support to help employees during the exploration period for CWOW.',\n",
              "       'I have been working from home since March, 2020 full time and have to say that my working hours have been much longer than what they would have been if I was back in the office.  There have been peak times where after hours work has been necessary due to workload and certain tasks that need to be completed on time and because your home office is easy accessible I found that I am working more hours from home than I would normally.  Sometimes it is difficult to switch off and remove myself from my work space at home.  When you are at the office at the end of the day you switch off and go back to your work the next day.  Working from home gives you 24 hr accessibility to your work and therefore I find it difficult to switch off and end up working longer hours.  I understand that I am responsible for managing my own work time however sometimes due to the workload this is not always possible.',\n",
              "       'I have a good support system around me and a healthy and happy relationship with my family which helps me cope.',\n",
              "       \"I had a pretty rough time in life last semester and I've always been a bit of a silent sufferer. I wanted to apply for special consideration but then realised I had to have all this proof which is fair enough. As much as I have researched I think I need a counsillor/therapist to sign off on my hardship, which I'm fine to get. I just haven't had the time to organise to see them because I'm so overwhelmed by whats affecting me and on top of that I'm trying to still do well in my studies. I think I've heard that RMIT has counsillors or people to talk to, but for people who are so overwhelmed its pretty hard to even find the time or the motivation to seek out the help. I think in the wellbeing check-ins by email, booking for someone to talk to should be the most obvious thing to see. Just make it a little bit easier for the people who are struggling to connect with the people who can help them.\",\n",
              "       'I found that studying remotely is the hardest job ever, and the program manager or course coordinators can not understand this, they gives us lots of complicated assignments.',\n",
              "       'I find some questions amazing! How could people in lockdown negotiate their working arrangements? How is asking for every single detail of a person we could feel that our identity is protected? Where is the link between one\\'s feeling that they want to contribute to the sociaty and their ability to do so? Between feeling that you want to do so much, but you\\'ve lost all your confidence because of the revolving door of managers because no one cares because just giving lessons on how to \"deal with the stress\" is useless when as a manager you must stay strong and look after your team and because you also understand that you can\\'t put more pressure on your manager who is also in the same position but deals with even more people? How do you live with all this? And how could you make sure that RMIT as a whole is not suffering because of you? There is also your family, empty city, same walk every day, and so on and on. You just remind yourself that you have a job and lots of people don\\'t, that you have family and lots of people don\\'t, that you live in 1st world country and lots of people don\\'t, that you have good healthy food and lots of people are starving. It is not easy, but we will get there.',\n",
              "       \"I feel very well supported by the staff I'm working with and I feel lucky to be picking up new classes the last couple of years but I feel really bad for all the tutors who have had to move on. I also feel really sad for the students. Many of them are struggling with this experience. The classes feel emotionally heavy on lockdown extension days.\",\n",
              "       'I feel the university is trying hard in this space.  Work is only one dimension of living in the current times however, and it is very hard to keep what is happening at home/in our personal lives from spilling over into the workplace.  I am satisfied with the support services available and I am proud to work at an institution that puts its money where its mouth is regarding mental wellbeing.',\n",
              "       'I feel that while most leaders at RMIT are well-meaning, the mental health literacy level is very low. Some crucial aspects of the policy environment (e.g. Workplace Relations) are working in a way that discourages coming forwards with concerns, and rewards perpetrators of poor behaviour. Specifically, the processes are not victim centric and confidentiality is not adhered to.',\n",
              "       'I feel that university environment is comfortable for me. Especially, I can get quick respond from the Manage Team when I got problems during working. They are very nice and explain more details for solves problems. I appreciate for their professional suggestions.',\n",
              "       'I feel that the university is doing everything it can to support us at the moment. External factors (the pandemic, ongoing lockdowns) are impacting my wellbeing but RMIT seems to be doing everything it can to support staff. The Wellbeing leave offered recently is seriously appreciated.',\n",
              "       'I feel that RMIT has a genuine regarding for wellbeing in the workplace and care about their staff.',\n",
              "       \"I feel supported by my coworkers. We are all very open with each other about how we're doing and that helps.\",\n",
              "       'I feel so very fortunate to work for an organisation that does care for our welfare and is doing all that it can to ensure we feel supported during COVID.',\n",
              "       'I feel like there is a bigger focus on student well being rather than staff well being, and I think it should be at least equal. We are integral to each other.',\n",
              "       'I feel incredibly well supported by my leaders and many of my coworkers particularly my direct manager and her manager. I am excited by the work that we are doing but there have been challenges of working with a small team to deliver major university-wide projects and this required long hours at times. I know at times my team are struggling with their health and wellbeing but we support each other well as a team.',\n",
              "       \"I feel guilty if I take sick leave when I'm unwell. I also feel that I have to organise my work around my sick leave as there's limited resource and support to do this in the team, even though I am unwell.  We give a lot of time to student facing work and due to that; we are unable to have flexible working arrangements. As well, unlike other parts of the university; we can't afford the time to sit together and talk about books we've read when we are stretched in our service. To allow us a break, please consider flexible time off or flexible start/finish times without making us feel guilty that we're not servicing enough students.\",\n",
              "       \"I feel connected to the mission and purpose of RMIT and we incredible support for our people and our students, although we don't always use it. The best teams know that somebody getting help isn't a deficit, it's a strength, and it's there for all of us.\",\n",
              "       'I enjoy my job at RMIT, but the isolation of working at home and the limitations of this isolation with limited social contact can be demotivating. I also feel overwhelmed by the amount of information that is communicated to us via email and the number of video meetings each day. It is very tiring to be on the computer all day, when academic work also requires being in place, doing active tasks and being with people physically, I find it inhibits the creative process of having different experiences to understand various contexts. It is also difficult to find work / life balance when we are in Lockdowns, as work is at home and we have limited social experiences to relax and rest effectively. The short lockdowns are almost more difficult mentally, as it is more difficult to adjust and plan for future events, especially when they are projects which can take months or years to prepare.',\n",
              "       \"I don't feel support during this lockdown from the university - at this point the lockdown is affecting students mental health and also academic results. I feel the university can do more to support students wellbeing through this time. Such as links to mental health support systems and for academic stress perhaps a pass could be 40%, rather than 50% as lockdown affects students academic performances massively. I do believe personally this would help mental health, decrease stress and anxiety and actually increase motivation as sometimes for me a 50% pass when learning online seems impossible.\",\n",
              "       'I do not like that we are now hotdesking. It makes me feel like I am not valued as an employee. Having a space that I can individualise helps with my productivity and wellbeing.',\n",
              "       'I completed this survey whilst in a period of lockdown/working from home. My sense of wellbeing is much better when I can work on campus and interact with other students and staff regularly.',\n",
              "       'I can imagine how stressful situation for every one, I have no further comments as I think RMIT is doing a good job to support our student Thank you so much RMIT University',\n",
              "       \"I believe there should be some feedback that lower level staff, teachers, management can provide for upper management. This should be a way for upper management to gauge how their impact is/has been on the staff, teachers in a positive critique. I don't believe there is an opportunity otherwise for all of use to really understand our positions, show transparency and the reality of the working environment.   Honest conversation about health and wellbeing of each other in a safe space and a focus on balance rather than a focus on how much work is accomplished. Very rare that there is time for us (teachers, staff, management) to connect without the agenda of constant work outcomes.   Community connection within out departments is key to relationship building when there is a better understanding of each other. Positive conversations conjure positive outcomes.\",\n",
              "       'I believe that teachers should also be provided with the same mental health services that we have. I believe that their mental health is an important factor in our mental health as well.',\n",
              "       \"I appreciate the question in this survey asking if I'm happy, simple but necessary  RMIT University is generally helpful but uni will always feel like uni, stressful and intense.\",\n",
              "       'I appreciate that the university wants to care about wellbeing, but so much of this discussion is labor political and ties into workplan, i.e. does the AWAM accurately reflect our actual workloads. So many support staff were sacked last year, and a lot of that invisible labor gets distributed to other staff. I don\\'t think any \"wellbeing\" program can really fix that.',\n",
              "       \"I answered quite low as I feel management can sometimes be contradictory. In terms of 'look after your mental well being, be kind to yourself, don't stress'.. and then other times 'can you do this, we are now focusing on these things but BAU continues' it just adds more and more to the plate. Particularly around things that are not important to me or the work... like focusing on values or corporate talk when we have some much business as usual to do, with less and less people after restructures and retirements. It is actually quite stressful and they continue to pile more on our plates at an executive level.\",\n",
              "       'I am working in the best team of all time right now at RMIT and so grateful for the ability to take personal leave this year. Special shout out to [redacted]',\n",
              "       'I am very grateful to be able to continue to work remotely from home every day at present and I hope that once restrictions ease I may be approved to work 1 day per week in the office and 4 days per week at home. I have noticed that my stress levels and anxiety have significantly reduce since being able to work from home and not driving to work each day. I also find I am much more productive and efficient working from home and I have a much better work life balance.',\n",
              "       'I am studying full time. I have been to uni once in the last 3 months. This needs to change.',\n",
              "       'I am studying a Bachelor of [redacted], and one of the best things about that is all of our professors are psychologists, so they understand and they care about us. I can only hope that the non-psychology professors are doing the same.',\n",
              "       'I am recovering from surgery as a result of an injury sustained in a workplace accident.',\n",
              "       \"I am not sure how much of these survey results will make any difference. It seems to me that members of the university belonging to executive and higher strata have all the privileges' and bend/make rules that makes their life easier. You can see this in both- academic and professional community at the university. As an example- separate set of rules of levels D and E academics as compared to levels A-C. There are level D/E academics here who have not seen the inside of classroom for decades or much but still have egregious ideas about learning and teaching and they enjoy the benefits of belonging to higher echelons.\",\n",
              "       \"I am not having a lot of 1:1 contact with my direct Manager, I am feeling quite disconnected, frustrated and unmotivated with work lately. Due to a lot of change that the new system has bought, and many changes in our team, at times and often, I feel confused on who is doing what now. Some tasks and responsibilities that I would normally look after, others are now doing, so it can be quite confusing on what I should and shouldnt be across, especially when there are errors.  I find I am second guessing myself more often than I ever have in my role at RMIT. I don't feel as confident with making decisions or changes to processes as I would normally. I have had many conversations about progressing in my role however nothing comes of that. We also do not have a lot of time for professional development as we have less people in our team, so we are always busy. If I take the time out to do some PD, or take some time for annual leave or a sick day when required, I just pick up the work when I return and tend to work over time to make up for that lost time as we don't have anyone to cover us. This all impacts greatly on mental health and wellbeing.\",\n",
              "       'I am glad that this survey is being conducted and look forward to seeing the results.',\n",
              "       'I am at uni for 3 months this semester, within the first month I have 8 out of my 15 assignements due.',\n",
              "       'I am able to thrive working from, more than working in the office.',\n",
              "       'HR sending out chairs to our homes and the ability to take home computer equipment helped enormously during lockdown and continues to do so.',\n",
              "       'Help us more please',\n",
              "       'Having recently commenced at RMIT, I cannot fault the support of my managers and colleagues.  Everyone is so understanding and accepting that these are unusual times.',\n",
              "       'Having a very supportive team and manager has made a really positive impact on my wellbeing!',\n",
              "       'Great work team all working fine for me! ',\n",
              "       \"Great leadership in my experience and opinion but aware it's incredibly challenging for everyone out there - Melbourne lockdown 6.0 is hitting hard for many. I think there's only so much that can be done in the context of the pandemic. thank you to all the leaders and team members for being kind.\",\n",
              "       'good',\n",
              "       'Fulltime workload not accounting for people who need to work extra hours to live (and has no family in melbourne to stay with).',\n",
              "       'For personal reasons, working from home has been a godsend. It also happens, in my area at least, that we are much more productive when we work from home, so I hope the option continues. This has been enabled by Teams.',\n",
              "       'Financial support',\n",
              "       'Face to face classes must remain in place even during lockdowns. Being fully online is impacting communications skills among the university community.',\n",
              "       \"Even some of these questions miss the point, the pandemic and life is overwhelming right now. Stop with the 'resilience' stuff. Stop framing this around personal ability to manage priorities. Stop with expecting work as normal.\",\n",
              "       \"distance to travel to CBD for work was not pleasant pre-COVID. working from home helped alleviate that travel, spend more time with kids drop off / pick up at day care etc. but now, working from home is hard, especially with the little kids, lockdowns, and i'm unsure when we have to go to the city to work, i'd feel anxious about travel, socialising with colleagues etc. travelling to and from work. i heard that some other businesses across the globe, have set up smaller hubs away from their main office, so people who live far from the main office, don't have to travel too far. at least this gives people the option to work 'on site'\",\n",
              "       'Difficulty connecting with classmates, making friends.',\n",
              "       'Difficult time that last 20 months, and perhaps more to come',\n",
              "       'Daily ongoing workloads are have created ongoing exponential stress',\n",
              "       \"Currently I think my team is feeling fairly flat and the energy is not there. While lock-downs have made an impact on this, I do not feeling the team is being completely honest with one another about help they need as work colleagues aren't seen as people you would openly share personal stuff with.\",\n",
              "       'Culture of the department has been finally recognised by new college management and hopefully from here on we can manage and change the antagonism, defiance, arrogance and attitude by certain staff members that do not appreciate efforts and good work some provide so that we can get on with our job without feeling targeted or patronised',\n",
              "       'covid.',\n",
              "       \"COVID Sucks :/  Even though I'm introverted and don't particularly like socialising with new people anyway, the lack of activities on campus, absence of clubs, the lack of displays (like dancers and musicians for eg), and even some of the restaurants shut down (missing the College Dropout) really adds to a LACK of university environment. Even outside of lockdown when campus was open, all these things were missing. You just go to class then go home. :/\",\n",
              "       'Covid has impacted all of us, but having the ability to work effectively from home has helped make the pandemic manageable and in someways helped us develop other/more effective ways of working to manage work/life balance',\n",
              "       \"continue to allow staff the option to work flexibly and support them during these times... but i think rmit's doing a good job with all this.\",\n",
              "       \"Continual staff cuts mean more and more pressure to do more work with less time and less help. I'm lucky that my immediate supervisors are supportive and reasonable, but others aren't. It also impacts our ability to feel proud of our work as we can't provide the service we want, we have to be reactive to situations instead of proactive to avoid issues in the first place.\",\n",
              "       'Concerns about the longer-term viability of the sector in its current form, and the trajectory/longevity of the COVID pandemic lead to job uncertainty and anxiety about the future for my family and me.',\n",
              "       'Concerned about the pursuit of profit over quality of education delivery and care for staff in the process',\n",
              "       'change is a given in life, but during COVID, change has been BIG (more FAST paced) which has increased workload, while social activities have reduced, creating an inbalanced work-life balance. reducing staff and increased responsabilities within current course structure, coupled with audits, compliance to changed requirements and revamping of the entire degree structure... wow... really is HUGE compared to the previous 26 years!',\n",
              "       'Bullying and Inequality still exists in management.',\n",
              "       \"Broad strokes services are great, but you need to put practical things into the actual classroom. RMIT is like, 'It's ok if you are struggling! But also complete these four assignments and you're being marked on class attendance and you have to turn your cameras on and don't be late and go into groups and submit this tomorrow night and don't ask for extensions because we're pressed for marking time.' Where's the understanding?\",\n",
              "       'Both support and teaching staff are very considerate and helpful. I appreciate there assistance and patience.',\n",
              "       'better facilities for flexible learning aka all classes recorded so less face to face if people need',\n",
              "       \"Being told that we can't have planned mental health days, when we so desperately need them right now\",\n",
              "       'Being the parents of small kids, having to provide them support during their lockdown home learning did have some serious challenges on my studies, it did take major chunk of the time and focus of my studies. For me, I just could not neglect them because they are the future citizens and they have to grow upto tackling all sorts of challenges such as the one caused by current covid pandemic.  Maybe for those who are adversely affected by the pandemic, considerations of time extension for completion and submission of projects an thesis could be beneficial, especially in protecting their mental wellbeing.',\n",
              "       'Being in person, collaborating with others and understanding where others are with their workloads was so crucial for me in management of stress. The university environment consistently has a positive effect on me as it forces me to forge new connections and consistently go out of my comfort zone.',\n",
              "       \"Being able to work from home and therefore not having to commute has had a huge positive impact on my mental wellbeing. I feel like I'm less stressed without a commute, I have more time in my day, I'm more productive and if I'm stressed at work then being at home and being able to walk away from my desk and play with my pets or go for a walk is hugely beneficial. It means I can come back to my desk refreshed and able to keep going. I find being in the office significantly more stressful than working from home.\",\n",
              "       'Being a Casual employee at RMIT in the time of COVID has been incredibly nerve wracking. Often times throughout this period, there have been scenarios were I felt of little value to the workplace/institution as a whole. Having worked with RMIT for an extended period of time and having poured my heart and energies into my work and students, the sense of disposability really effected my personally, as well as impacting how I envisioned my professional future.',\n",
              "       \"BEING A CASUAL EMPLOYEE (I.E. TUTOR) IS NOT FINANCIALLY SUSTAINABLE.  AS A CASUAL I AM DISPENSABLE & NOT VALUED.   I PUT IN MANY MORE HOURS THAN I ACTUALLY GET PAID FOR - COURSE COORDINATORS SET UNREALISTIC TIME LIMITS FOR MARKING PAPERS - IF WE ONLY GET PAID ONE HOUR MARKING FOR EACH STUDENT - THEN IT'S RMIT'S RESPONSIBILITY TO ENSURE THAT THE ASSIGNMENT WORK IS MARKED & MANAGEABLE WITHIN THAT TIME ALLOCATED. EACH COURSE COORDINATOR EXPECTS THEIR TUTORS TO GIVE GOOD FEEDBACK BUT WE ARE NOT APPROPRIATELY REMUNERATED FOR THE EXTRA HOURS WE PUT IN.   AS A CASUAL THE PREVIOUS LECTURING JOBS THAT WERE FINANCIALLY VIABLE ARE NO LONGER AN OPTION TO CASUAL STAFF. THE QUALITY OF H.E. IS GETTING WORSE.   I AM LOOKING AT ALTERNATIVE EMPLOYMENT. THE UNIVERSITY SECTOR AS A WHOLE IS NOT A GOOD PLACE TO WORK. I AM NOT HAPPY WORKING IN THIS SYSTEM.\",\n",
              "       'Because of our current situation (Covid-19 lockdowns), it is hard to feel a part of the RMIT community as most of my classes are online. I feel a little disconnected especially since I have only been on campus a handful of times and living regional Victoria makes it difficult to get onto campus when I am allowed to.',\n",
              "       \"Based on the questions asked, you know exactly who everyone is if they have been honest in their answers. Working on campus has been hard. When Senior Leadership says all the nice things about looking after yourself, taking breaks, working from home - none of it applies to [Redacted], we have to be here to cover the campuses - our work is difficult and sometimes impossible to do from home. I know everyone says they want what they can't have, but a happy medium is what we should all strive and work for - to try and make this pandemic easier for everyone. Also, vaccinations should be mandatory to return to campus - it's the only way to make the workplace safe. Thanks\",\n",
              "       'At a time when we should be managing the crisis we are responding with rapid re-organisation of almost all aspects of organisational structure. This is now the primary source of stress rather than the external triggers for the change.',\n",
              "       'Aside from COVID-19 having a direct impact on service delivery and wellbeing, there are  recurring technical issues and department communication issues within the university.   Constantly being required to take the path of most resistance is directly impacting my wellbeing in the role.',\n",
              "       'As the university sector is adversely affected by current COVID-19 situation, I feel stressed with the following thoughts:  1.what will happen to international education sector? 2. how it will affect jobs in this sector in long run?  3. what will happen to the infrastructure and research facilities at the universities. 4. how this situation will affect worldwide rankings of Australian Universities?',\n",
              "       \"As I am involved in [redacted - college], which is very practical and skills based, flipping back and forth from on-campus to online classes, has taken a toll on the teaching staff's mental health and morale, and also impacted on the overall learning experience for our students.\",\n",
              "       \"As an introvert, and someone who loves avoiding loud noises, sunlight and interaction with people, the lockdowns are all my Christmases at once. So, to choose the period in history to finally get around to doing a degree when I can do half of it online with my favourite uni is a dream come true. Honestly, this year, my mental health has been the best it's been in ten years. Thank you to RMIT for being so supportive and welcoming, the course I'm doing perfectly fitting with who I am, and being able to get COVID payments, my super, Austudy and cheap rent in an apartment in the city means for the first time in a long time I'm very very happy. I'm so glad I chose RMIT. Also, I have a friend that went to the University of South Australia and absolutely loved it, so here are two great unis working together on mental health. How awesome. (Sorry, my [mental health condition] means I tend to write a lot. Haha.) Keep up the great work.\",\n",
              "       \"As a member of the 'Casual' workforce the constant anxiety of insecure work from Semester to Semester impacts my well being enormously.\",\n",
              "       'Among many of those I line manage and my wider colleagues WORKLOAD is a major concern and as yet has not even been mentioned by senior management. This is a vital part of the picture of psychological well-being.',\n",
              "       'Am grateful for the support and flexibility RMIT have provided so far, but am very much looking forward to getting back to the office as soon as allowed.',\n",
              "       'All students are able to receive the financial, social and academic support and guidance they need to succeed in the institutional programs, thus enabling lifelong success as well.',\n",
              "       'All in all I have been very happy working at RMIT, however my role has been heavily impacted by the redundancies last year.  My team was reduced by 1/3 due to voluntary redundancies, which made sense as part of our work was paused due to the pandemic.  However, this work has now resumed, leaving us working at an unsustainable level. My manager has requested casual staff to assist, however the process is time consuming and will still leave us doing more work with less staff than in 2019.  Senior management are also delaying making decisions which is understandable, however creates significantly more work for us in the meantime as we need to have several plans and manage stakeholder expectations regarding uncertainty.  Please note that we have made a concerted effort to streamline work, and have had significant success in some areas, however some work cannot be streamlined out of existence, for example student enquiries.',\n",
              "       'All good here. Generally happy with life, mentally and emotionally coping with the pandemic.',\n",
              "       'All good 👍🏼',\n",
              "       'After restructure processes, the evaluation/follow up of how the changes are working would be useful to ensure that staff are feeling settle and senior managers could identify any areas of development or gaps in work responsibilities.',\n",
              "       'Additional quality questions about work / student satisfaction.',\n",
              "       \"Actually running lectures live online would make a huge difference. I coped just fine last year when we had live online lectures as it gave me schedule and held me accountable. I think it is so lazy that RMIT has policy that the lectures have to just to be prerecorded videos - it makes it so hard to stay motivated and engaged. I fall behind so quickly and this has a HUGE impact on my mental wellbeing. It is incredibly stressful and anxiety-provoking. And from every other student I've spoken to about this, they feel the same. It is a huge factor influencing whether I will stay at RMIT for my post graduate studies.  Why would I stay here when I could go to Deakin for example where I have friends who have all of their classes live online?\",\n",
              "       'A deeply intelligent, competent and compassionate Director as well as a supportive, kind and deeply capabale team. a great team and Director motivates me to lift and care about the work when feeling low or worn down by lockdowns and the stress of being a working mum with young children',\n",
              "       '200+ days of lockdown has a much larger effect on my wellbeing than the university. I do not look forward to returning to the office full time in a pandemic though. If we could keep flexible arrangements as to not have to return to the office full time that would help with work / life balance.',\n",
              "       '1. I interpreted a lot of these questions as a lot bigger than simply clicking a radio button implies. 2. The organisational structure options likely missed a lot of people on the distribution list. 3. I think you mean \"every day\" in the answers, rather than \"everyday\", which is an adjective.',\n",
              "       \"Senior management' is very broad, but definitely staff higher than [redacted] have had little sympathy for higher workloads that they have been putting onto those below them, and they don't seem to care about the number of staff resigning. Recently one of them made an email about how they were sad to see a staff member returning to [redacted] Uni after being with us for only [redacted], and they didn't understand the implications of the staff member asking for their old job back due to being unhappy with us and the negative impact on staff morale by widely communicating this.\",\n",
              "       'making it alot less stressful to get things like placement',\n",
              "       \"The [redacted] Melbourne office is a stressful environment, due to the noise that is continually being generated by the notifications and alerts from the phones and laptops of managers and employees (e.g. Teams, Skype, email, Messenger, WhatsApp). Currently, it doesn't feel safe to ask others to put their devices on silent. Could a 'device quiet policy' be put in place, where everyone is encouraged to have their devices on silent?   - Some managers and employees contribute to the anxiety around COVID-19 by frequently bringing up the issue at team meetings and in Teams conversations (e.g. reporting on daily case numbers, predicting the rules around an upcoming lockdown). I understand that COVID-19 is an issue that affects us on a daily basis and everyone expresses their frustrations and fears in different ways, but it often feels as if there is no escape from it. I can choose to switch off my phone, personal computer or TV, but I can't limit my exposure at work meetings and in work conversations.   - I would prefer to work at home full time (five days a week) to protect my wellbeing, although I don't feel like this is an option. I understand that the arrangement of two to three days in the office would suit most people, but for a sensitive person like me, this is very difficult.   Thank you.\"],\n",
              "      dtype=object)"
            ]
          },
          "execution_count": 47,
          "metadata": {},
          "output_type": "execute_result"
        }
      ],
      "source": [
        "df_output['comment'][df_output['sentiment']=='positive'].values"
      ]
    },
    {
      "cell_type": "code",
      "execution_count": null,
      "metadata": {},
      "outputs": [],
      "source": [
        "df_output[df_output['sentiment']=='positive'].to_csv('wellbeing-bert-custom.csv')"
      ]
    },
    {
      "cell_type": "code",
      "execution_count": null,
      "metadata": {},
      "outputs": [],
      "source": []
    }
  ],
  "metadata": {
    "accelerator": "GPU",
    "colab": {
      "collapsed_sections": [],
      "name": "bert_sentiment.ipynb",
      "provenance": []
    },
    "interpreter": {
      "hash": "95b044bd913ba61fe07fc65a3bba90e888c35956d6d14073b6cad4613bef57ec"
    },
    "kernelspec": {
      "display_name": "Python 3.8.13 ('udacity-cv')",
      "language": "python",
      "name": "python3"
    },
    "language_info": {
      "codemirror_mode": {
        "name": "ipython",
        "version": 3
      },
      "file_extension": ".py",
      "mimetype": "text/x-python",
      "name": "python",
      "nbconvert_exporter": "python",
      "pygments_lexer": "ipython3",
      "version": "3.8.13"
    },
    "widgets": {
      "application/vnd.jupyter.widget-state+json": {
        "08d5d876716a407397fd22d47a5ad1b8": {
          "model_module": "@jupyter-widgets/base",
          "model_module_version": "1.2.0",
          "model_name": "LayoutModel",
          "state": {
            "_model_module": "@jupyter-widgets/base",
            "_model_module_version": "1.2.0",
            "_model_name": "LayoutModel",
            "_view_count": null,
            "_view_module": "@jupyter-widgets/base",
            "_view_module_version": "1.2.0",
            "_view_name": "LayoutView",
            "align_content": null,
            "align_items": null,
            "align_self": null,
            "border": null,
            "bottom": null,
            "display": null,
            "flex": null,
            "flex_flow": null,
            "grid_area": null,
            "grid_auto_columns": null,
            "grid_auto_flow": null,
            "grid_auto_rows": null,
            "grid_column": null,
            "grid_gap": null,
            "grid_row": null,
            "grid_template_areas": null,
            "grid_template_columns": null,
            "grid_template_rows": null,
            "height": null,
            "justify_content": null,
            "justify_items": null,
            "left": null,
            "margin": null,
            "max_height": null,
            "max_width": null,
            "min_height": null,
            "min_width": null,
            "object_fit": null,
            "object_position": null,
            "order": null,
            "overflow": null,
            "overflow_x": null,
            "overflow_y": null,
            "padding": null,
            "right": null,
            "top": null,
            "visibility": null,
            "width": null
          }
        },
        "0a75290dcecd44efb91028813b1c05a8": {
          "model_module": "@jupyter-widgets/controls",
          "model_module_version": "1.5.0",
          "model_name": "DescriptionStyleModel",
          "state": {
            "_model_module": "@jupyter-widgets/controls",
            "_model_module_version": "1.5.0",
            "_model_name": "DescriptionStyleModel",
            "_view_count": null,
            "_view_module": "@jupyter-widgets/base",
            "_view_module_version": "1.2.0",
            "_view_name": "StyleView",
            "description_width": ""
          }
        },
        "0b6227cc7bcb4afb8cf43904bba91c07": {
          "model_module": "@jupyter-widgets/controls",
          "model_module_version": "1.5.0",
          "model_name": "HBoxModel",
          "state": {
            "_dom_classes": [],
            "_model_module": "@jupyter-widgets/controls",
            "_model_module_version": "1.5.0",
            "_model_name": "HBoxModel",
            "_view_count": null,
            "_view_module": "@jupyter-widgets/controls",
            "_view_module_version": "1.5.0",
            "_view_name": "HBoxView",
            "box_style": "",
            "children": [
              "IPY_MODEL_cdaa4405f44842409619b59910143a1d",
              "IPY_MODEL_6c244a351e854b2b9ea7ee16d1a5e748",
              "IPY_MODEL_ed6cbef733c049cdbdbd0413ab9cf8ac"
            ],
            "layout": "IPY_MODEL_2661dc102ddf46648db4fafb30d2f813"
          }
        },
        "13e54af6cebc4c5da1bfd7a7befaecb1": {
          "model_module": "@jupyter-widgets/controls",
          "model_module_version": "1.5.0",
          "model_name": "HBoxModel",
          "state": {
            "_dom_classes": [],
            "_model_module": "@jupyter-widgets/controls",
            "_model_module_version": "1.5.0",
            "_model_name": "HBoxModel",
            "_view_count": null,
            "_view_module": "@jupyter-widgets/controls",
            "_view_module_version": "1.5.0",
            "_view_name": "HBoxView",
            "box_style": "",
            "children": [
              "IPY_MODEL_d4406e5dfd83455799bc47cff0847a67",
              "IPY_MODEL_da31ce10c1994f7fa85ad4caed90ce2b",
              "IPY_MODEL_2743d50dba6b4c6d89cee181e32e33a0"
            ],
            "layout": "IPY_MODEL_34dd3695a2214f53af8ae003ca0ed65a"
          }
        },
        "2661dc102ddf46648db4fafb30d2f813": {
          "model_module": "@jupyter-widgets/base",
          "model_module_version": "1.2.0",
          "model_name": "LayoutModel",
          "state": {
            "_model_module": "@jupyter-widgets/base",
            "_model_module_version": "1.2.0",
            "_model_name": "LayoutModel",
            "_view_count": null,
            "_view_module": "@jupyter-widgets/base",
            "_view_module_version": "1.2.0",
            "_view_name": "LayoutView",
            "align_content": null,
            "align_items": null,
            "align_self": null,
            "border": null,
            "bottom": null,
            "display": null,
            "flex": null,
            "flex_flow": null,
            "grid_area": null,
            "grid_auto_columns": null,
            "grid_auto_flow": null,
            "grid_auto_rows": null,
            "grid_column": null,
            "grid_gap": null,
            "grid_row": null,
            "grid_template_areas": null,
            "grid_template_columns": null,
            "grid_template_rows": null,
            "height": null,
            "justify_content": null,
            "justify_items": null,
            "left": null,
            "margin": null,
            "max_height": null,
            "max_width": null,
            "min_height": null,
            "min_width": null,
            "object_fit": null,
            "object_position": null,
            "order": null,
            "overflow": null,
            "overflow_x": null,
            "overflow_y": null,
            "padding": null,
            "right": null,
            "top": null,
            "visibility": null,
            "width": null
          }
        },
        "2743d50dba6b4c6d89cee181e32e33a0": {
          "model_module": "@jupyter-widgets/controls",
          "model_module_version": "1.5.0",
          "model_name": "HTMLModel",
          "state": {
            "_dom_classes": [],
            "_model_module": "@jupyter-widgets/controls",
            "_model_module_version": "1.5.0",
            "_model_name": "HTMLModel",
            "_view_count": null,
            "_view_module": "@jupyter-widgets/controls",
            "_view_module_version": "1.5.0",
            "_view_name": "HTMLView",
            "description": "",
            "description_tooltip": null,
            "layout": "IPY_MODEL_3eb4b42e747f4708b7c503bed7055cb8",
            "placeholder": "​",
            "style": "IPY_MODEL_d10ec30ba07b4ef3b3b2b1352808485b",
            "value": " 416M/416M [00:09&lt;00:00, 52.0MB/s]"
          }
        },
        "315dd406e04c47ff8f601056fde938c3": {
          "model_module": "@jupyter-widgets/controls",
          "model_module_version": "1.5.0",
          "model_name": "DescriptionStyleModel",
          "state": {
            "_model_module": "@jupyter-widgets/controls",
            "_model_module_version": "1.5.0",
            "_model_name": "DescriptionStyleModel",
            "_view_count": null,
            "_view_module": "@jupyter-widgets/base",
            "_view_module_version": "1.2.0",
            "_view_name": "StyleView",
            "description_width": ""
          }
        },
        "317fc631c1cc4221864862b75ee49af7": {
          "model_module": "@jupyter-widgets/base",
          "model_module_version": "1.2.0",
          "model_name": "LayoutModel",
          "state": {
            "_model_module": "@jupyter-widgets/base",
            "_model_module_version": "1.2.0",
            "_model_name": "LayoutModel",
            "_view_count": null,
            "_view_module": "@jupyter-widgets/base",
            "_view_module_version": "1.2.0",
            "_view_name": "LayoutView",
            "align_content": null,
            "align_items": null,
            "align_self": null,
            "border": null,
            "bottom": null,
            "display": null,
            "flex": null,
            "flex_flow": null,
            "grid_area": null,
            "grid_auto_columns": null,
            "grid_auto_flow": null,
            "grid_auto_rows": null,
            "grid_column": null,
            "grid_gap": null,
            "grid_row": null,
            "grid_template_areas": null,
            "grid_template_columns": null,
            "grid_template_rows": null,
            "height": null,
            "justify_content": null,
            "justify_items": null,
            "left": null,
            "margin": null,
            "max_height": null,
            "max_width": null,
            "min_height": null,
            "min_width": null,
            "object_fit": null,
            "object_position": null,
            "order": null,
            "overflow": null,
            "overflow_x": null,
            "overflow_y": null,
            "padding": null,
            "right": null,
            "top": null,
            "visibility": null,
            "width": null
          }
        },
        "33fe4713f1394b909a9d7ddb8bd29a16": {
          "model_module": "@jupyter-widgets/base",
          "model_module_version": "1.2.0",
          "model_name": "LayoutModel",
          "state": {
            "_model_module": "@jupyter-widgets/base",
            "_model_module_version": "1.2.0",
            "_model_name": "LayoutModel",
            "_view_count": null,
            "_view_module": "@jupyter-widgets/base",
            "_view_module_version": "1.2.0",
            "_view_name": "LayoutView",
            "align_content": null,
            "align_items": null,
            "align_self": null,
            "border": null,
            "bottom": null,
            "display": null,
            "flex": null,
            "flex_flow": null,
            "grid_area": null,
            "grid_auto_columns": null,
            "grid_auto_flow": null,
            "grid_auto_rows": null,
            "grid_column": null,
            "grid_gap": null,
            "grid_row": null,
            "grid_template_areas": null,
            "grid_template_columns": null,
            "grid_template_rows": null,
            "height": null,
            "justify_content": null,
            "justify_items": null,
            "left": null,
            "margin": null,
            "max_height": null,
            "max_width": null,
            "min_height": null,
            "min_width": null,
            "object_fit": null,
            "object_position": null,
            "order": null,
            "overflow": null,
            "overflow_x": null,
            "overflow_y": null,
            "padding": null,
            "right": null,
            "top": null,
            "visibility": null,
            "width": null
          }
        },
        "34dd3695a2214f53af8ae003ca0ed65a": {
          "model_module": "@jupyter-widgets/base",
          "model_module_version": "1.2.0",
          "model_name": "LayoutModel",
          "state": {
            "_model_module": "@jupyter-widgets/base",
            "_model_module_version": "1.2.0",
            "_model_name": "LayoutModel",
            "_view_count": null,
            "_view_module": "@jupyter-widgets/base",
            "_view_module_version": "1.2.0",
            "_view_name": "LayoutView",
            "align_content": null,
            "align_items": null,
            "align_self": null,
            "border": null,
            "bottom": null,
            "display": null,
            "flex": null,
            "flex_flow": null,
            "grid_area": null,
            "grid_auto_columns": null,
            "grid_auto_flow": null,
            "grid_auto_rows": null,
            "grid_column": null,
            "grid_gap": null,
            "grid_row": null,
            "grid_template_areas": null,
            "grid_template_columns": null,
            "grid_template_rows": null,
            "height": null,
            "justify_content": null,
            "justify_items": null,
            "left": null,
            "margin": null,
            "max_height": null,
            "max_width": null,
            "min_height": null,
            "min_width": null,
            "object_fit": null,
            "object_position": null,
            "order": null,
            "overflow": null,
            "overflow_x": null,
            "overflow_y": null,
            "padding": null,
            "right": null,
            "top": null,
            "visibility": null,
            "width": null
          }
        },
        "3a40ad61edfa42eb8c4112cb48e32513": {
          "model_module": "@jupyter-widgets/controls",
          "model_module_version": "1.5.0",
          "model_name": "ProgressStyleModel",
          "state": {
            "_model_module": "@jupyter-widgets/controls",
            "_model_module_version": "1.5.0",
            "_model_name": "ProgressStyleModel",
            "_view_count": null,
            "_view_module": "@jupyter-widgets/base",
            "_view_module_version": "1.2.0",
            "_view_name": "StyleView",
            "bar_color": null,
            "description_width": ""
          }
        },
        "3b7e88fd25dd4e7b8c96e8b462e7264f": {
          "model_module": "@jupyter-widgets/controls",
          "model_module_version": "1.5.0",
          "model_name": "ProgressStyleModel",
          "state": {
            "_model_module": "@jupyter-widgets/controls",
            "_model_module_version": "1.5.0",
            "_model_name": "ProgressStyleModel",
            "_view_count": null,
            "_view_module": "@jupyter-widgets/base",
            "_view_module_version": "1.2.0",
            "_view_name": "StyleView",
            "bar_color": null,
            "description_width": ""
          }
        },
        "3e1b8313bc394dcfb21dc539adb9fe37": {
          "model_module": "@jupyter-widgets/base",
          "model_module_version": "1.2.0",
          "model_name": "LayoutModel",
          "state": {
            "_model_module": "@jupyter-widgets/base",
            "_model_module_version": "1.2.0",
            "_model_name": "LayoutModel",
            "_view_count": null,
            "_view_module": "@jupyter-widgets/base",
            "_view_module_version": "1.2.0",
            "_view_name": "LayoutView",
            "align_content": null,
            "align_items": null,
            "align_self": null,
            "border": null,
            "bottom": null,
            "display": null,
            "flex": null,
            "flex_flow": null,
            "grid_area": null,
            "grid_auto_columns": null,
            "grid_auto_flow": null,
            "grid_auto_rows": null,
            "grid_column": null,
            "grid_gap": null,
            "grid_row": null,
            "grid_template_areas": null,
            "grid_template_columns": null,
            "grid_template_rows": null,
            "height": null,
            "justify_content": null,
            "justify_items": null,
            "left": null,
            "margin": null,
            "max_height": null,
            "max_width": null,
            "min_height": null,
            "min_width": null,
            "object_fit": null,
            "object_position": null,
            "order": null,
            "overflow": null,
            "overflow_x": null,
            "overflow_y": null,
            "padding": null,
            "right": null,
            "top": null,
            "visibility": null,
            "width": null
          }
        },
        "3eb4b42e747f4708b7c503bed7055cb8": {
          "model_module": "@jupyter-widgets/base",
          "model_module_version": "1.2.0",
          "model_name": "LayoutModel",
          "state": {
            "_model_module": "@jupyter-widgets/base",
            "_model_module_version": "1.2.0",
            "_model_name": "LayoutModel",
            "_view_count": null,
            "_view_module": "@jupyter-widgets/base",
            "_view_module_version": "1.2.0",
            "_view_name": "LayoutView",
            "align_content": null,
            "align_items": null,
            "align_self": null,
            "border": null,
            "bottom": null,
            "display": null,
            "flex": null,
            "flex_flow": null,
            "grid_area": null,
            "grid_auto_columns": null,
            "grid_auto_flow": null,
            "grid_auto_rows": null,
            "grid_column": null,
            "grid_gap": null,
            "grid_row": null,
            "grid_template_areas": null,
            "grid_template_columns": null,
            "grid_template_rows": null,
            "height": null,
            "justify_content": null,
            "justify_items": null,
            "left": null,
            "margin": null,
            "max_height": null,
            "max_width": null,
            "min_height": null,
            "min_width": null,
            "object_fit": null,
            "object_position": null,
            "order": null,
            "overflow": null,
            "overflow_x": null,
            "overflow_y": null,
            "padding": null,
            "right": null,
            "top": null,
            "visibility": null,
            "width": null
          }
        },
        "412adc583a1f456dbff72f517dbbf12e": {
          "model_module": "@jupyter-widgets/controls",
          "model_module_version": "1.5.0",
          "model_name": "HTMLModel",
          "state": {
            "_dom_classes": [],
            "_model_module": "@jupyter-widgets/controls",
            "_model_module_version": "1.5.0",
            "_model_name": "HTMLModel",
            "_view_count": null,
            "_view_module": "@jupyter-widgets/controls",
            "_view_module_version": "1.5.0",
            "_view_name": "HTMLView",
            "description": "",
            "description_tooltip": null,
            "layout": "IPY_MODEL_a12ad6913c6941bd8a38be6309942742",
            "placeholder": "​",
            "style": "IPY_MODEL_dc4002cf60e744f39580d6a00d4fc9c5",
            "value": " 29.0/29.0 [00:00&lt;00:00, 675B/s]"
          }
        },
        "49dce3daa66f48ff8e871f8cb0c3f874": {
          "model_module": "@jupyter-widgets/base",
          "model_module_version": "1.2.0",
          "model_name": "LayoutModel",
          "state": {
            "_model_module": "@jupyter-widgets/base",
            "_model_module_version": "1.2.0",
            "_model_name": "LayoutModel",
            "_view_count": null,
            "_view_module": "@jupyter-widgets/base",
            "_view_module_version": "1.2.0",
            "_view_name": "LayoutView",
            "align_content": null,
            "align_items": null,
            "align_self": null,
            "border": null,
            "bottom": null,
            "display": null,
            "flex": null,
            "flex_flow": null,
            "grid_area": null,
            "grid_auto_columns": null,
            "grid_auto_flow": null,
            "grid_auto_rows": null,
            "grid_column": null,
            "grid_gap": null,
            "grid_row": null,
            "grid_template_areas": null,
            "grid_template_columns": null,
            "grid_template_rows": null,
            "height": null,
            "justify_content": null,
            "justify_items": null,
            "left": null,
            "margin": null,
            "max_height": null,
            "max_width": null,
            "min_height": null,
            "min_width": null,
            "object_fit": null,
            "object_position": null,
            "order": null,
            "overflow": null,
            "overflow_x": null,
            "overflow_y": null,
            "padding": null,
            "right": null,
            "top": null,
            "visibility": null,
            "width": null
          }
        },
        "5cb3d88e7b824c44a2169c6706966127": {
          "model_module": "@jupyter-widgets/base",
          "model_module_version": "1.2.0",
          "model_name": "LayoutModel",
          "state": {
            "_model_module": "@jupyter-widgets/base",
            "_model_module_version": "1.2.0",
            "_model_name": "LayoutModel",
            "_view_count": null,
            "_view_module": "@jupyter-widgets/base",
            "_view_module_version": "1.2.0",
            "_view_name": "LayoutView",
            "align_content": null,
            "align_items": null,
            "align_self": null,
            "border": null,
            "bottom": null,
            "display": null,
            "flex": null,
            "flex_flow": null,
            "grid_area": null,
            "grid_auto_columns": null,
            "grid_auto_flow": null,
            "grid_auto_rows": null,
            "grid_column": null,
            "grid_gap": null,
            "grid_row": null,
            "grid_template_areas": null,
            "grid_template_columns": null,
            "grid_template_rows": null,
            "height": null,
            "justify_content": null,
            "justify_items": null,
            "left": null,
            "margin": null,
            "max_height": null,
            "max_width": null,
            "min_height": null,
            "min_width": null,
            "object_fit": null,
            "object_position": null,
            "order": null,
            "overflow": null,
            "overflow_x": null,
            "overflow_y": null,
            "padding": null,
            "right": null,
            "top": null,
            "visibility": null,
            "width": null
          }
        },
        "5ddc1b145e814c9b8296699c9296852d": {
          "model_module": "@jupyter-widgets/controls",
          "model_module_version": "1.5.0",
          "model_name": "DescriptionStyleModel",
          "state": {
            "_model_module": "@jupyter-widgets/controls",
            "_model_module_version": "1.5.0",
            "_model_name": "DescriptionStyleModel",
            "_view_count": null,
            "_view_module": "@jupyter-widgets/base",
            "_view_module_version": "1.2.0",
            "_view_name": "StyleView",
            "description_width": ""
          }
        },
        "6c244a351e854b2b9ea7ee16d1a5e748": {
          "model_module": "@jupyter-widgets/controls",
          "model_module_version": "1.5.0",
          "model_name": "FloatProgressModel",
          "state": {
            "_dom_classes": [],
            "_model_module": "@jupyter-widgets/controls",
            "_model_module_version": "1.5.0",
            "_model_name": "FloatProgressModel",
            "_view_count": null,
            "_view_module": "@jupyter-widgets/controls",
            "_view_module_version": "1.5.0",
            "_view_name": "ProgressView",
            "bar_style": "success",
            "description": "",
            "description_tooltip": null,
            "layout": "IPY_MODEL_3e1b8313bc394dcfb21dc539adb9fe37",
            "max": 213450,
            "min": 0,
            "orientation": "horizontal",
            "style": "IPY_MODEL_c1d04657f4f94631baab4b8a155508e3",
            "value": 213450
          }
        },
        "70535313273242bd895f7c5f450994ef": {
          "model_module": "@jupyter-widgets/controls",
          "model_module_version": "1.5.0",
          "model_name": "FloatProgressModel",
          "state": {
            "_dom_classes": [],
            "_model_module": "@jupyter-widgets/controls",
            "_model_module_version": "1.5.0",
            "_model_name": "FloatProgressModel",
            "_view_count": null,
            "_view_module": "@jupyter-widgets/controls",
            "_view_module_version": "1.5.0",
            "_view_name": "ProgressView",
            "bar_style": "success",
            "description": "",
            "description_tooltip": null,
            "layout": "IPY_MODEL_c1d9ded682254dbb86b19cae8c2f58c1",
            "max": 570,
            "min": 0,
            "orientation": "horizontal",
            "style": "IPY_MODEL_3a40ad61edfa42eb8c4112cb48e32513",
            "value": 570
          }
        },
        "715a9ff7e5b640ae97958029aff897f6": {
          "model_module": "@jupyter-widgets/base",
          "model_module_version": "1.2.0",
          "model_name": "LayoutModel",
          "state": {
            "_model_module": "@jupyter-widgets/base",
            "_model_module_version": "1.2.0",
            "_model_name": "LayoutModel",
            "_view_count": null,
            "_view_module": "@jupyter-widgets/base",
            "_view_module_version": "1.2.0",
            "_view_name": "LayoutView",
            "align_content": null,
            "align_items": null,
            "align_self": null,
            "border": null,
            "bottom": null,
            "display": null,
            "flex": null,
            "flex_flow": null,
            "grid_area": null,
            "grid_auto_columns": null,
            "grid_auto_flow": null,
            "grid_auto_rows": null,
            "grid_column": null,
            "grid_gap": null,
            "grid_row": null,
            "grid_template_areas": null,
            "grid_template_columns": null,
            "grid_template_rows": null,
            "height": null,
            "justify_content": null,
            "justify_items": null,
            "left": null,
            "margin": null,
            "max_height": null,
            "max_width": null,
            "min_height": null,
            "min_width": null,
            "object_fit": null,
            "object_position": null,
            "order": null,
            "overflow": null,
            "overflow_x": null,
            "overflow_y": null,
            "padding": null,
            "right": null,
            "top": null,
            "visibility": null,
            "width": null
          }
        },
        "777d464198ae408c9dbc17b4fec80e05": {
          "model_module": "@jupyter-widgets/base",
          "model_module_version": "1.2.0",
          "model_name": "LayoutModel",
          "state": {
            "_model_module": "@jupyter-widgets/base",
            "_model_module_version": "1.2.0",
            "_model_name": "LayoutModel",
            "_view_count": null,
            "_view_module": "@jupyter-widgets/base",
            "_view_module_version": "1.2.0",
            "_view_name": "LayoutView",
            "align_content": null,
            "align_items": null,
            "align_self": null,
            "border": null,
            "bottom": null,
            "display": null,
            "flex": null,
            "flex_flow": null,
            "grid_area": null,
            "grid_auto_columns": null,
            "grid_auto_flow": null,
            "grid_auto_rows": null,
            "grid_column": null,
            "grid_gap": null,
            "grid_row": null,
            "grid_template_areas": null,
            "grid_template_columns": null,
            "grid_template_rows": null,
            "height": null,
            "justify_content": null,
            "justify_items": null,
            "left": null,
            "margin": null,
            "max_height": null,
            "max_width": null,
            "min_height": null,
            "min_width": null,
            "object_fit": null,
            "object_position": null,
            "order": null,
            "overflow": null,
            "overflow_x": null,
            "overflow_y": null,
            "padding": null,
            "right": null,
            "top": null,
            "visibility": null,
            "width": null
          }
        },
        "795c85e91d2143b784f7cc0c1c7b07c8": {
          "model_module": "@jupyter-widgets/controls",
          "model_module_version": "1.5.0",
          "model_name": "ProgressStyleModel",
          "state": {
            "_model_module": "@jupyter-widgets/controls",
            "_model_module_version": "1.5.0",
            "_model_name": "ProgressStyleModel",
            "_view_count": null,
            "_view_module": "@jupyter-widgets/base",
            "_view_module_version": "1.2.0",
            "_view_name": "StyleView",
            "bar_color": null,
            "description_width": ""
          }
        },
        "9991013629614938bb044f8e3f5bbc1c": {
          "model_module": "@jupyter-widgets/base",
          "model_module_version": "1.2.0",
          "model_name": "LayoutModel",
          "state": {
            "_model_module": "@jupyter-widgets/base",
            "_model_module_version": "1.2.0",
            "_model_name": "LayoutModel",
            "_view_count": null,
            "_view_module": "@jupyter-widgets/base",
            "_view_module_version": "1.2.0",
            "_view_name": "LayoutView",
            "align_content": null,
            "align_items": null,
            "align_self": null,
            "border": null,
            "bottom": null,
            "display": null,
            "flex": null,
            "flex_flow": null,
            "grid_area": null,
            "grid_auto_columns": null,
            "grid_auto_flow": null,
            "grid_auto_rows": null,
            "grid_column": null,
            "grid_gap": null,
            "grid_row": null,
            "grid_template_areas": null,
            "grid_template_columns": null,
            "grid_template_rows": null,
            "height": null,
            "justify_content": null,
            "justify_items": null,
            "left": null,
            "margin": null,
            "max_height": null,
            "max_width": null,
            "min_height": null,
            "min_width": null,
            "object_fit": null,
            "object_position": null,
            "order": null,
            "overflow": null,
            "overflow_x": null,
            "overflow_y": null,
            "padding": null,
            "right": null,
            "top": null,
            "visibility": null,
            "width": null
          }
        },
        "9b6d9901d6854ffe8ec4556fee8c1947": {
          "model_module": "@jupyter-widgets/controls",
          "model_module_version": "1.5.0",
          "model_name": "HTMLModel",
          "state": {
            "_dom_classes": [],
            "_model_module": "@jupyter-widgets/controls",
            "_model_module_version": "1.5.0",
            "_model_name": "HTMLModel",
            "_view_count": null,
            "_view_module": "@jupyter-widgets/controls",
            "_view_module_version": "1.5.0",
            "_view_name": "HTMLView",
            "description": "",
            "description_tooltip": null,
            "layout": "IPY_MODEL_777d464198ae408c9dbc17b4fec80e05",
            "placeholder": "​",
            "style": "IPY_MODEL_eff02c9f65a043c6ac94d1b0393dffc9",
            "value": "Downloading: 100%"
          }
        },
        "a12ad6913c6941bd8a38be6309942742": {
          "model_module": "@jupyter-widgets/base",
          "model_module_version": "1.2.0",
          "model_name": "LayoutModel",
          "state": {
            "_model_module": "@jupyter-widgets/base",
            "_model_module_version": "1.2.0",
            "_model_name": "LayoutModel",
            "_view_count": null,
            "_view_module": "@jupyter-widgets/base",
            "_view_module_version": "1.2.0",
            "_view_name": "LayoutView",
            "align_content": null,
            "align_items": null,
            "align_self": null,
            "border": null,
            "bottom": null,
            "display": null,
            "flex": null,
            "flex_flow": null,
            "grid_area": null,
            "grid_auto_columns": null,
            "grid_auto_flow": null,
            "grid_auto_rows": null,
            "grid_column": null,
            "grid_gap": null,
            "grid_row": null,
            "grid_template_areas": null,
            "grid_template_columns": null,
            "grid_template_rows": null,
            "height": null,
            "justify_content": null,
            "justify_items": null,
            "left": null,
            "margin": null,
            "max_height": null,
            "max_width": null,
            "min_height": null,
            "min_width": null,
            "object_fit": null,
            "object_position": null,
            "order": null,
            "overflow": null,
            "overflow_x": null,
            "overflow_y": null,
            "padding": null,
            "right": null,
            "top": null,
            "visibility": null,
            "width": null
          }
        },
        "aced4ff6c5aa4340901fc7679b763207": {
          "model_module": "@jupyter-widgets/controls",
          "model_module_version": "1.5.0",
          "model_name": "HTMLModel",
          "state": {
            "_dom_classes": [],
            "_model_module": "@jupyter-widgets/controls",
            "_model_module_version": "1.5.0",
            "_model_name": "HTMLModel",
            "_view_count": null,
            "_view_module": "@jupyter-widgets/controls",
            "_view_module_version": "1.5.0",
            "_view_name": "HTMLView",
            "description": "",
            "description_tooltip": null,
            "layout": "IPY_MODEL_715a9ff7e5b640ae97958029aff897f6",
            "placeholder": "​",
            "style": "IPY_MODEL_315dd406e04c47ff8f601056fde938c3",
            "value": " 570/570 [00:00&lt;00:00, 14.5kB/s]"
          }
        },
        "b57a907562bb4d4a983e3abddc2011cd": {
          "model_module": "@jupyter-widgets/base",
          "model_module_version": "1.2.0",
          "model_name": "LayoutModel",
          "state": {
            "_model_module": "@jupyter-widgets/base",
            "_model_module_version": "1.2.0",
            "_model_name": "LayoutModel",
            "_view_count": null,
            "_view_module": "@jupyter-widgets/base",
            "_view_module_version": "1.2.0",
            "_view_name": "LayoutView",
            "align_content": null,
            "align_items": null,
            "align_self": null,
            "border": null,
            "bottom": null,
            "display": null,
            "flex": null,
            "flex_flow": null,
            "grid_area": null,
            "grid_auto_columns": null,
            "grid_auto_flow": null,
            "grid_auto_rows": null,
            "grid_column": null,
            "grid_gap": null,
            "grid_row": null,
            "grid_template_areas": null,
            "grid_template_columns": null,
            "grid_template_rows": null,
            "height": null,
            "justify_content": null,
            "justify_items": null,
            "left": null,
            "margin": null,
            "max_height": null,
            "max_width": null,
            "min_height": null,
            "min_width": null,
            "object_fit": null,
            "object_position": null,
            "order": null,
            "overflow": null,
            "overflow_x": null,
            "overflow_y": null,
            "padding": null,
            "right": null,
            "top": null,
            "visibility": null,
            "width": null
          }
        },
        "b876b817c95d437482b00d20a4b6805d": {
          "model_module": "@jupyter-widgets/controls",
          "model_module_version": "1.5.0",
          "model_name": "DescriptionStyleModel",
          "state": {
            "_model_module": "@jupyter-widgets/controls",
            "_model_module_version": "1.5.0",
            "_model_name": "DescriptionStyleModel",
            "_view_count": null,
            "_view_module": "@jupyter-widgets/base",
            "_view_module_version": "1.2.0",
            "_view_name": "StyleView",
            "description_width": ""
          }
        },
        "c1d04657f4f94631baab4b8a155508e3": {
          "model_module": "@jupyter-widgets/controls",
          "model_module_version": "1.5.0",
          "model_name": "ProgressStyleModel",
          "state": {
            "_model_module": "@jupyter-widgets/controls",
            "_model_module_version": "1.5.0",
            "_model_name": "ProgressStyleModel",
            "_view_count": null,
            "_view_module": "@jupyter-widgets/base",
            "_view_module_version": "1.2.0",
            "_view_name": "StyleView",
            "bar_color": null,
            "description_width": ""
          }
        },
        "c1d9ded682254dbb86b19cae8c2f58c1": {
          "model_module": "@jupyter-widgets/base",
          "model_module_version": "1.2.0",
          "model_name": "LayoutModel",
          "state": {
            "_model_module": "@jupyter-widgets/base",
            "_model_module_version": "1.2.0",
            "_model_name": "LayoutModel",
            "_view_count": null,
            "_view_module": "@jupyter-widgets/base",
            "_view_module_version": "1.2.0",
            "_view_name": "LayoutView",
            "align_content": null,
            "align_items": null,
            "align_self": null,
            "border": null,
            "bottom": null,
            "display": null,
            "flex": null,
            "flex_flow": null,
            "grid_area": null,
            "grid_auto_columns": null,
            "grid_auto_flow": null,
            "grid_auto_rows": null,
            "grid_column": null,
            "grid_gap": null,
            "grid_row": null,
            "grid_template_areas": null,
            "grid_template_columns": null,
            "grid_template_rows": null,
            "height": null,
            "justify_content": null,
            "justify_items": null,
            "left": null,
            "margin": null,
            "max_height": null,
            "max_width": null,
            "min_height": null,
            "min_width": null,
            "object_fit": null,
            "object_position": null,
            "order": null,
            "overflow": null,
            "overflow_x": null,
            "overflow_y": null,
            "padding": null,
            "right": null,
            "top": null,
            "visibility": null,
            "width": null
          }
        },
        "c376020c309042be9fb65bfa1ab0d4fa": {
          "model_module": "@jupyter-widgets/controls",
          "model_module_version": "1.5.0",
          "model_name": "HBoxModel",
          "state": {
            "_dom_classes": [],
            "_model_module": "@jupyter-widgets/controls",
            "_model_module_version": "1.5.0",
            "_model_name": "HBoxModel",
            "_view_count": null,
            "_view_module": "@jupyter-widgets/controls",
            "_view_module_version": "1.5.0",
            "_view_name": "HBoxView",
            "box_style": "",
            "children": [
              "IPY_MODEL_c89f1da614cd49bbb4174e8510b5c9f5",
              "IPY_MODEL_70535313273242bd895f7c5f450994ef",
              "IPY_MODEL_aced4ff6c5aa4340901fc7679b763207"
            ],
            "layout": "IPY_MODEL_317fc631c1cc4221864862b75ee49af7"
          }
        },
        "c89f1da614cd49bbb4174e8510b5c9f5": {
          "model_module": "@jupyter-widgets/controls",
          "model_module_version": "1.5.0",
          "model_name": "HTMLModel",
          "state": {
            "_dom_classes": [],
            "_model_module": "@jupyter-widgets/controls",
            "_model_module_version": "1.5.0",
            "_model_name": "HTMLModel",
            "_view_count": null,
            "_view_module": "@jupyter-widgets/controls",
            "_view_module_version": "1.5.0",
            "_view_name": "HTMLView",
            "description": "",
            "description_tooltip": null,
            "layout": "IPY_MODEL_5cb3d88e7b824c44a2169c6706966127",
            "placeholder": "​",
            "style": "IPY_MODEL_0a75290dcecd44efb91028813b1c05a8",
            "value": "Downloading: 100%"
          }
        },
        "cdaa4405f44842409619b59910143a1d": {
          "model_module": "@jupyter-widgets/controls",
          "model_module_version": "1.5.0",
          "model_name": "HTMLModel",
          "state": {
            "_dom_classes": [],
            "_model_module": "@jupyter-widgets/controls",
            "_model_module_version": "1.5.0",
            "_model_name": "HTMLModel",
            "_view_count": null,
            "_view_module": "@jupyter-widgets/controls",
            "_view_module_version": "1.5.0",
            "_view_name": "HTMLView",
            "description": "",
            "description_tooltip": null,
            "layout": "IPY_MODEL_33fe4713f1394b909a9d7ddb8bd29a16",
            "placeholder": "​",
            "style": "IPY_MODEL_5ddc1b145e814c9b8296699c9296852d",
            "value": "Downloading: 100%"
          }
        },
        "d10ec30ba07b4ef3b3b2b1352808485b": {
          "model_module": "@jupyter-widgets/controls",
          "model_module_version": "1.5.0",
          "model_name": "DescriptionStyleModel",
          "state": {
            "_model_module": "@jupyter-widgets/controls",
            "_model_module_version": "1.5.0",
            "_model_name": "DescriptionStyleModel",
            "_view_count": null,
            "_view_module": "@jupyter-widgets/base",
            "_view_module_version": "1.2.0",
            "_view_name": "StyleView",
            "description_width": ""
          }
        },
        "d3e18b7af66c462b9f941a19acd22960": {
          "model_module": "@jupyter-widgets/controls",
          "model_module_version": "1.5.0",
          "model_name": "FloatProgressModel",
          "state": {
            "_dom_classes": [],
            "_model_module": "@jupyter-widgets/controls",
            "_model_module_version": "1.5.0",
            "_model_name": "FloatProgressModel",
            "_view_count": null,
            "_view_module": "@jupyter-widgets/controls",
            "_view_module_version": "1.5.0",
            "_view_name": "ProgressView",
            "bar_style": "success",
            "description": "",
            "description_tooltip": null,
            "layout": "IPY_MODEL_f295dcfaadcf4ba8b55ee821e6d334e7",
            "max": 29,
            "min": 0,
            "orientation": "horizontal",
            "style": "IPY_MODEL_795c85e91d2143b784f7cc0c1c7b07c8",
            "value": 29
          }
        },
        "d4406e5dfd83455799bc47cff0847a67": {
          "model_module": "@jupyter-widgets/controls",
          "model_module_version": "1.5.0",
          "model_name": "HTMLModel",
          "state": {
            "_dom_classes": [],
            "_model_module": "@jupyter-widgets/controls",
            "_model_module_version": "1.5.0",
            "_model_name": "HTMLModel",
            "_view_count": null,
            "_view_module": "@jupyter-widgets/controls",
            "_view_module_version": "1.5.0",
            "_view_name": "HTMLView",
            "description": "",
            "description_tooltip": null,
            "layout": "IPY_MODEL_08d5d876716a407397fd22d47a5ad1b8",
            "placeholder": "​",
            "style": "IPY_MODEL_fc95e6f371b44fc99ec8fcce662b4e18",
            "value": "Downloading: 100%"
          }
        },
        "da31ce10c1994f7fa85ad4caed90ce2b": {
          "model_module": "@jupyter-widgets/controls",
          "model_module_version": "1.5.0",
          "model_name": "FloatProgressModel",
          "state": {
            "_dom_classes": [],
            "_model_module": "@jupyter-widgets/controls",
            "_model_module_version": "1.5.0",
            "_model_name": "FloatProgressModel",
            "_view_count": null,
            "_view_module": "@jupyter-widgets/controls",
            "_view_module_version": "1.5.0",
            "_view_name": "ProgressView",
            "bar_style": "success",
            "description": "",
            "description_tooltip": null,
            "layout": "IPY_MODEL_b57a907562bb4d4a983e3abddc2011cd",
            "max": 435779157,
            "min": 0,
            "orientation": "horizontal",
            "style": "IPY_MODEL_3b7e88fd25dd4e7b8c96e8b462e7264f",
            "value": 435779157
          }
        },
        "dc4002cf60e744f39580d6a00d4fc9c5": {
          "model_module": "@jupyter-widgets/controls",
          "model_module_version": "1.5.0",
          "model_name": "DescriptionStyleModel",
          "state": {
            "_model_module": "@jupyter-widgets/controls",
            "_model_module_version": "1.5.0",
            "_model_name": "DescriptionStyleModel",
            "_view_count": null,
            "_view_module": "@jupyter-widgets/base",
            "_view_module_version": "1.2.0",
            "_view_name": "StyleView",
            "description_width": ""
          }
        },
        "e9fe3da6ad0f44f996d5efcc0d5cca1a": {
          "model_module": "@jupyter-widgets/controls",
          "model_module_version": "1.5.0",
          "model_name": "HBoxModel",
          "state": {
            "_dom_classes": [],
            "_model_module": "@jupyter-widgets/controls",
            "_model_module_version": "1.5.0",
            "_model_name": "HBoxModel",
            "_view_count": null,
            "_view_module": "@jupyter-widgets/controls",
            "_view_module_version": "1.5.0",
            "_view_name": "HBoxView",
            "box_style": "",
            "children": [
              "IPY_MODEL_9b6d9901d6854ffe8ec4556fee8c1947",
              "IPY_MODEL_d3e18b7af66c462b9f941a19acd22960",
              "IPY_MODEL_412adc583a1f456dbff72f517dbbf12e"
            ],
            "layout": "IPY_MODEL_49dce3daa66f48ff8e871f8cb0c3f874"
          }
        },
        "ed6cbef733c049cdbdbd0413ab9cf8ac": {
          "model_module": "@jupyter-widgets/controls",
          "model_module_version": "1.5.0",
          "model_name": "HTMLModel",
          "state": {
            "_dom_classes": [],
            "_model_module": "@jupyter-widgets/controls",
            "_model_module_version": "1.5.0",
            "_model_name": "HTMLModel",
            "_view_count": null,
            "_view_module": "@jupyter-widgets/controls",
            "_view_module_version": "1.5.0",
            "_view_name": "HTMLView",
            "description": "",
            "description_tooltip": null,
            "layout": "IPY_MODEL_9991013629614938bb044f8e3f5bbc1c",
            "placeholder": "​",
            "style": "IPY_MODEL_b876b817c95d437482b00d20a4b6805d",
            "value": " 208k/208k [00:00&lt;00:00, 931kB/s]"
          }
        },
        "eff02c9f65a043c6ac94d1b0393dffc9": {
          "model_module": "@jupyter-widgets/controls",
          "model_module_version": "1.5.0",
          "model_name": "DescriptionStyleModel",
          "state": {
            "_model_module": "@jupyter-widgets/controls",
            "_model_module_version": "1.5.0",
            "_model_name": "DescriptionStyleModel",
            "_view_count": null,
            "_view_module": "@jupyter-widgets/base",
            "_view_module_version": "1.2.0",
            "_view_name": "StyleView",
            "description_width": ""
          }
        },
        "f295dcfaadcf4ba8b55ee821e6d334e7": {
          "model_module": "@jupyter-widgets/base",
          "model_module_version": "1.2.0",
          "model_name": "LayoutModel",
          "state": {
            "_model_module": "@jupyter-widgets/base",
            "_model_module_version": "1.2.0",
            "_model_name": "LayoutModel",
            "_view_count": null,
            "_view_module": "@jupyter-widgets/base",
            "_view_module_version": "1.2.0",
            "_view_name": "LayoutView",
            "align_content": null,
            "align_items": null,
            "align_self": null,
            "border": null,
            "bottom": null,
            "display": null,
            "flex": null,
            "flex_flow": null,
            "grid_area": null,
            "grid_auto_columns": null,
            "grid_auto_flow": null,
            "grid_auto_rows": null,
            "grid_column": null,
            "grid_gap": null,
            "grid_row": null,
            "grid_template_areas": null,
            "grid_template_columns": null,
            "grid_template_rows": null,
            "height": null,
            "justify_content": null,
            "justify_items": null,
            "left": null,
            "margin": null,
            "max_height": null,
            "max_width": null,
            "min_height": null,
            "min_width": null,
            "object_fit": null,
            "object_position": null,
            "order": null,
            "overflow": null,
            "overflow_x": null,
            "overflow_y": null,
            "padding": null,
            "right": null,
            "top": null,
            "visibility": null,
            "width": null
          }
        },
        "fc95e6f371b44fc99ec8fcce662b4e18": {
          "model_module": "@jupyter-widgets/controls",
          "model_module_version": "1.5.0",
          "model_name": "DescriptionStyleModel",
          "state": {
            "_model_module": "@jupyter-widgets/controls",
            "_model_module_version": "1.5.0",
            "_model_name": "DescriptionStyleModel",
            "_view_count": null,
            "_view_module": "@jupyter-widgets/base",
            "_view_module_version": "1.2.0",
            "_view_name": "StyleView",
            "description_width": ""
          }
        }
      }
    }
  },
  "nbformat": 4,
  "nbformat_minor": 0
}
